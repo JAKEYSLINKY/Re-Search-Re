{
 "cells": [
  {
   "cell_type": "code",
   "execution_count": 2,
   "metadata": {},
   "outputs": [
    {
     "name": "stdout",
     "output_type": "stream",
     "text": [
      "Collecting yfinance\n",
      "  Downloading yfinance-0.2.52-py2.py3-none-any.whl.metadata (5.8 kB)\n",
      "Collecting pandas>=1.3.0 (from yfinance)\n",
      "  Downloading pandas-2.2.3-cp313-cp313-macosx_11_0_arm64.whl.metadata (89 kB)\n",
      "Collecting numpy>=1.16.5 (from yfinance)\n",
      "  Downloading numpy-2.2.2-cp313-cp313-macosx_14_0_arm64.whl.metadata (62 kB)\n",
      "Collecting requests>=2.31 (from yfinance)\n",
      "  Using cached requests-2.32.3-py3-none-any.whl.metadata (4.6 kB)\n",
      "Collecting multitasking>=0.0.7 (from yfinance)\n",
      "  Using cached multitasking-0.0.11-py3-none-any.whl.metadata (5.5 kB)\n",
      "Collecting lxml>=4.9.1 (from yfinance)\n",
      "  Downloading lxml-5.3.0-cp313-cp313-macosx_10_13_universal2.whl.metadata (3.8 kB)\n",
      "Requirement already satisfied: platformdirs>=2.0.0 in /Users/jakesmac/Desktop/RESEARCH/.venv/lib/python3.13/site-packages (from yfinance) (4.3.6)\n",
      "Collecting pytz>=2022.5 (from yfinance)\n",
      "  Downloading pytz-2024.2-py2.py3-none-any.whl.metadata (22 kB)\n",
      "Collecting frozendict>=2.3.4 (from yfinance)\n",
      "  Downloading frozendict-2.4.6-py313-none-any.whl.metadata (23 kB)\n",
      "Collecting peewee>=3.16.2 (from yfinance)\n",
      "  Using cached peewee-3.17.8.tar.gz (948 kB)\n",
      "  Installing build dependencies ... \u001b[?25ldone\n",
      "\u001b[?25h  Getting requirements to build wheel ... \u001b[?25ldone\n",
      "\u001b[?25h  Preparing metadata (pyproject.toml) ... \u001b[?25ldone\n",
      "\u001b[?25hCollecting beautifulsoup4>=4.11.1 (from yfinance)\n",
      "  Downloading beautifulsoup4-4.12.3-py3-none-any.whl.metadata (3.8 kB)\n",
      "Collecting html5lib>=1.1 (from yfinance)\n",
      "  Using cached html5lib-1.1-py2.py3-none-any.whl.metadata (16 kB)\n",
      "Collecting soupsieve>1.2 (from beautifulsoup4>=4.11.1->yfinance)\n",
      "  Downloading soupsieve-2.6-py3-none-any.whl.metadata (4.6 kB)\n",
      "Requirement already satisfied: six>=1.9 in /Users/jakesmac/Desktop/RESEARCH/.venv/lib/python3.13/site-packages (from html5lib>=1.1->yfinance) (1.17.0)\n",
      "Collecting webencodings (from html5lib>=1.1->yfinance)\n",
      "  Using cached webencodings-0.5.1-py2.py3-none-any.whl.metadata (2.1 kB)\n",
      "Requirement already satisfied: python-dateutil>=2.8.2 in /Users/jakesmac/Desktop/RESEARCH/.venv/lib/python3.13/site-packages (from pandas>=1.3.0->yfinance) (2.9.0.post0)\n",
      "Collecting tzdata>=2022.7 (from pandas>=1.3.0->yfinance)\n",
      "  Downloading tzdata-2025.1-py2.py3-none-any.whl.metadata (1.4 kB)\n",
      "Collecting charset-normalizer<4,>=2 (from requests>=2.31->yfinance)\n",
      "  Downloading charset_normalizer-3.4.1-cp313-cp313-macosx_10_13_universal2.whl.metadata (35 kB)\n",
      "Collecting idna<4,>=2.5 (from requests>=2.31->yfinance)\n",
      "  Downloading idna-3.10-py3-none-any.whl.metadata (10 kB)\n",
      "Collecting urllib3<3,>=1.21.1 (from requests>=2.31->yfinance)\n",
      "  Downloading urllib3-2.3.0-py3-none-any.whl.metadata (6.5 kB)\n",
      "Collecting certifi>=2017.4.17 (from requests>=2.31->yfinance)\n",
      "  Downloading certifi-2024.12.14-py3-none-any.whl.metadata (2.3 kB)\n",
      "Downloading yfinance-0.2.52-py2.py3-none-any.whl (108 kB)\n",
      "Downloading beautifulsoup4-4.12.3-py3-none-any.whl (147 kB)\n",
      "Downloading frozendict-2.4.6-py313-none-any.whl (16 kB)\n",
      "Using cached html5lib-1.1-py2.py3-none-any.whl (112 kB)\n",
      "Downloading lxml-5.3.0-cp313-cp313-macosx_10_13_universal2.whl (8.2 MB)\n",
      "\u001b[2K   \u001b[38;2;114;156;31m━━━━━━━━━━━━━━━━━━━━━━━━━━━━━━━━━━━━━━━━\u001b[0m \u001b[32m8.2/8.2 MB\u001b[0m \u001b[31m770.7 kB/s\u001b[0m eta \u001b[36m0:00:00\u001b[0mm eta \u001b[36m0:00:01\u001b[0m[36m0:00:01\u001b[0m\n",
      "\u001b[?25hUsing cached multitasking-0.0.11-py3-none-any.whl (8.5 kB)\n",
      "Downloading numpy-2.2.2-cp313-cp313-macosx_14_0_arm64.whl (5.1 MB)\n",
      "\u001b[2K   \u001b[38;2;114;156;31m━━━━━━━━━━━━━━━━━━━━━━━━━━━━━━━━━━━━━━━━\u001b[0m \u001b[32m5.1/5.1 MB\u001b[0m \u001b[31m719.7 kB/s\u001b[0m eta \u001b[36m0:00:00\u001b[0m1m722.4 kB/s\u001b[0m eta \u001b[36m0:00:01\u001b[0m\n",
      "\u001b[?25hDownloading pandas-2.2.3-cp313-cp313-macosx_11_0_arm64.whl (11.3 MB)\n",
      "\u001b[2K   \u001b[38;2;114;156;31m━━━━━━━━━━━━━━━━━━━━━━━━━━━━━━━━━━━━━━━━\u001b[0m \u001b[32m11.3/11.3 MB\u001b[0m \u001b[31m642.6 kB/s\u001b[0m eta \u001b[36m0:00:00\u001b[0m[36m0:00:01\u001b[0m[36m0:00:01\u001b[0m04\u001b[0m\n",
      "\u001b[?25hDownloading pytz-2024.2-py2.py3-none-any.whl (508 kB)\n",
      "Using cached requests-2.32.3-py3-none-any.whl (64 kB)\n",
      "Downloading certifi-2024.12.14-py3-none-any.whl (164 kB)\n",
      "Downloading charset_normalizer-3.4.1-cp313-cp313-macosx_10_13_universal2.whl (195 kB)\n",
      "Downloading idna-3.10-py3-none-any.whl (70 kB)\n",
      "Downloading soupsieve-2.6-py3-none-any.whl (36 kB)\n",
      "Downloading tzdata-2025.1-py2.py3-none-any.whl (346 kB)\n",
      "Downloading urllib3-2.3.0-py3-none-any.whl (128 kB)\n",
      "Using cached webencodings-0.5.1-py2.py3-none-any.whl (11 kB)\n",
      "Building wheels for collected packages: peewee\n",
      "  Building wheel for peewee (pyproject.toml) ... \u001b[?25ldone\n",
      "\u001b[?25h  Created wheel for peewee: filename=peewee-3.17.8-cp313-cp313-macosx_14_0_arm64.whl size=272125 sha256=43b9df5ee837ed11c9e1ab13a21cf73627f589805de57b2856aced2b4cd5c9dd\n",
      "  Stored in directory: /Users/jakesmac/Library/Caches/pip/wheels/b2/69/9e/5485afcc187c66def1fab96de510fa77da574ec5343f3a5f89\n",
      "Successfully built peewee\n",
      "Installing collected packages: webencodings, pytz, peewee, multitasking, urllib3, tzdata, soupsieve, numpy, lxml, idna, html5lib, frozendict, charset-normalizer, certifi, requests, pandas, beautifulsoup4, yfinance\n",
      "Successfully installed beautifulsoup4-4.12.3 certifi-2024.12.14 charset-normalizer-3.4.1 frozendict-2.4.6 html5lib-1.1 idna-3.10 lxml-5.3.0 multitasking-0.0.11 numpy-2.2.2 pandas-2.2.3 peewee-3.17.8 pytz-2024.2 requests-2.32.3 soupsieve-2.6 tzdata-2025.1 urllib3-2.3.0 webencodings-0.5.1 yfinance-0.2.52\n"
     ]
    }
   ],
   "source": [
    "!pip  install yfinance"
   ]
  },
  {
   "cell_type": "code",
   "execution_count": 3,
   "metadata": {},
   "outputs": [],
   "source": [
    "import yfinance as yf\n",
    "import pandas as pd\n",
    "import os"
   ]
  },
  {
   "cell_type": "code",
   "execution_count": 4,
   "metadata": {},
   "outputs": [
    {
     "name": "stdout",
     "output_type": "stream",
     "text": [
      "Fetching data for ACE.BK...\n"
     ]
    },
    {
     "name": "stderr",
     "output_type": "stream",
     "text": [
      "[*********************100%***********************]  1 of 1 completed\n",
      "/var/folders/cs/3lkp2pnd6j17xyfbtckgkhn40000gn/T/ipykernel_70060/1636383839.py:64: FutureWarning: Calling float on a single element Series is deprecated and will raise a TypeError in the future. Use float(ser.iloc[0]) instead\n",
      "  mean_values['Close'] = round(float(stock_data['Close'].mean()), 2)\n",
      "/var/folders/cs/3lkp2pnd6j17xyfbtckgkhn40000gn/T/ipykernel_70060/1636383839.py:65: FutureWarning: Calling float on a single element Series is deprecated and will raise a TypeError in the future. Use float(ser.iloc[0]) instead\n",
      "  mean_values['High'] = round(float(stock_data['High'].mean()), 2)\n",
      "/var/folders/cs/3lkp2pnd6j17xyfbtckgkhn40000gn/T/ipykernel_70060/1636383839.py:66: FutureWarning: Calling float on a single element Series is deprecated and will raise a TypeError in the future. Use float(ser.iloc[0]) instead\n",
      "  mean_values['Low'] = round(float(stock_data['Low'].mean()), 2)\n",
      "/var/folders/cs/3lkp2pnd6j17xyfbtckgkhn40000gn/T/ipykernel_70060/1636383839.py:67: FutureWarning: Calling float on a single element Series is deprecated and will raise a TypeError in the future. Use float(ser.iloc[0]) instead\n",
      "  mean_values['Open'] = round(float(stock_data['Open'].mean()), 2)\n",
      "/var/folders/cs/3lkp2pnd6j17xyfbtckgkhn40000gn/T/ipykernel_70060/1636383839.py:68: FutureWarning: Calling int on a single element Series is deprecated and will raise a TypeError in the future. Use int(ser.iloc[0]) instead\n",
      "  mean_values['Volume'] = int(stock_data['Volume'].mean())\n",
      "[*********************100%***********************]  1 of 1 completed\n",
      "/var/folders/cs/3lkp2pnd6j17xyfbtckgkhn40000gn/T/ipykernel_70060/1636383839.py:64: FutureWarning: Calling float on a single element Series is deprecated and will raise a TypeError in the future. Use float(ser.iloc[0]) instead\n",
      "  mean_values['Close'] = round(float(stock_data['Close'].mean()), 2)\n",
      "/var/folders/cs/3lkp2pnd6j17xyfbtckgkhn40000gn/T/ipykernel_70060/1636383839.py:65: FutureWarning: Calling float on a single element Series is deprecated and will raise a TypeError in the future. Use float(ser.iloc[0]) instead\n",
      "  mean_values['High'] = round(float(stock_data['High'].mean()), 2)\n",
      "/var/folders/cs/3lkp2pnd6j17xyfbtckgkhn40000gn/T/ipykernel_70060/1636383839.py:66: FutureWarning: Calling float on a single element Series is deprecated and will raise a TypeError in the future. Use float(ser.iloc[0]) instead\n",
      "  mean_values['Low'] = round(float(stock_data['Low'].mean()), 2)\n",
      "/var/folders/cs/3lkp2pnd6j17xyfbtckgkhn40000gn/T/ipykernel_70060/1636383839.py:67: FutureWarning: Calling float on a single element Series is deprecated and will raise a TypeError in the future. Use float(ser.iloc[0]) instead\n",
      "  mean_values['Open'] = round(float(stock_data['Open'].mean()), 2)\n",
      "/var/folders/cs/3lkp2pnd6j17xyfbtckgkhn40000gn/T/ipykernel_70060/1636383839.py:68: FutureWarning: Calling int on a single element Series is deprecated and will raise a TypeError in the future. Use int(ser.iloc[0]) instead\n",
      "  mean_values['Volume'] = int(stock_data['Volume'].mean())\n"
     ]
    },
    {
     "name": "stdout",
     "output_type": "stream",
     "text": [
      "✅ Data for ACE.BK saved to Thai_ESG_Stock_Data/ACE.BK_2022_2024.csv\n",
      "Fetching data for ADVANC.BK...\n",
      "✅ Data for ADVANC.BK saved to Thai_ESG_Stock_Data/ADVANC.BK_2022_2024.csv\n",
      "Fetching data for AH.BK...\n"
     ]
    },
    {
     "name": "stderr",
     "output_type": "stream",
     "text": [
      "[*********************100%***********************]  1 of 1 completed\n",
      "/var/folders/cs/3lkp2pnd6j17xyfbtckgkhn40000gn/T/ipykernel_70060/1636383839.py:64: FutureWarning: Calling float on a single element Series is deprecated and will raise a TypeError in the future. Use float(ser.iloc[0]) instead\n",
      "  mean_values['Close'] = round(float(stock_data['Close'].mean()), 2)\n",
      "/var/folders/cs/3lkp2pnd6j17xyfbtckgkhn40000gn/T/ipykernel_70060/1636383839.py:65: FutureWarning: Calling float on a single element Series is deprecated and will raise a TypeError in the future. Use float(ser.iloc[0]) instead\n",
      "  mean_values['High'] = round(float(stock_data['High'].mean()), 2)\n",
      "/var/folders/cs/3lkp2pnd6j17xyfbtckgkhn40000gn/T/ipykernel_70060/1636383839.py:66: FutureWarning: Calling float on a single element Series is deprecated and will raise a TypeError in the future. Use float(ser.iloc[0]) instead\n",
      "  mean_values['Low'] = round(float(stock_data['Low'].mean()), 2)\n",
      "/var/folders/cs/3lkp2pnd6j17xyfbtckgkhn40000gn/T/ipykernel_70060/1636383839.py:67: FutureWarning: Calling float on a single element Series is deprecated and will raise a TypeError in the future. Use float(ser.iloc[0]) instead\n",
      "  mean_values['Open'] = round(float(stock_data['Open'].mean()), 2)\n",
      "/var/folders/cs/3lkp2pnd6j17xyfbtckgkhn40000gn/T/ipykernel_70060/1636383839.py:68: FutureWarning: Calling int on a single element Series is deprecated and will raise a TypeError in the future. Use int(ser.iloc[0]) instead\n",
      "  mean_values['Volume'] = int(stock_data['Volume'].mean())\n",
      "[*********************100%***********************]  1 of 1 completed\n",
      "/var/folders/cs/3lkp2pnd6j17xyfbtckgkhn40000gn/T/ipykernel_70060/1636383839.py:64: FutureWarning: Calling float on a single element Series is deprecated and will raise a TypeError in the future. Use float(ser.iloc[0]) instead\n",
      "  mean_values['Close'] = round(float(stock_data['Close'].mean()), 2)\n",
      "/var/folders/cs/3lkp2pnd6j17xyfbtckgkhn40000gn/T/ipykernel_70060/1636383839.py:65: FutureWarning: Calling float on a single element Series is deprecated and will raise a TypeError in the future. Use float(ser.iloc[0]) instead\n",
      "  mean_values['High'] = round(float(stock_data['High'].mean()), 2)\n",
      "/var/folders/cs/3lkp2pnd6j17xyfbtckgkhn40000gn/T/ipykernel_70060/1636383839.py:66: FutureWarning: Calling float on a single element Series is deprecated and will raise a TypeError in the future. Use float(ser.iloc[0]) instead\n",
      "  mean_values['Low'] = round(float(stock_data['Low'].mean()), 2)\n",
      "/var/folders/cs/3lkp2pnd6j17xyfbtckgkhn40000gn/T/ipykernel_70060/1636383839.py:67: FutureWarning: Calling float on a single element Series is deprecated and will raise a TypeError in the future. Use float(ser.iloc[0]) instead\n",
      "  mean_values['Open'] = round(float(stock_data['Open'].mean()), 2)\n",
      "/var/folders/cs/3lkp2pnd6j17xyfbtckgkhn40000gn/T/ipykernel_70060/1636383839.py:68: FutureWarning: Calling int on a single element Series is deprecated and will raise a TypeError in the future. Use int(ser.iloc[0]) instead\n",
      "  mean_values['Volume'] = int(stock_data['Volume'].mean())\n"
     ]
    },
    {
     "name": "stdout",
     "output_type": "stream",
     "text": [
      "✅ Data for AH.BK saved to Thai_ESG_Stock_Data/AH.BK_2022_2024.csv\n",
      "Fetching data for AMATA.BK...\n",
      "✅ Data for AMATA.BK saved to Thai_ESG_Stock_Data/AMATA.BK_2022_2024.csv\n",
      "Fetching data for AOT.BK...\n"
     ]
    },
    {
     "name": "stderr",
     "output_type": "stream",
     "text": [
      "[*********************100%***********************]  1 of 1 completed\n",
      "/var/folders/cs/3lkp2pnd6j17xyfbtckgkhn40000gn/T/ipykernel_70060/1636383839.py:64: FutureWarning: Calling float on a single element Series is deprecated and will raise a TypeError in the future. Use float(ser.iloc[0]) instead\n",
      "  mean_values['Close'] = round(float(stock_data['Close'].mean()), 2)\n",
      "/var/folders/cs/3lkp2pnd6j17xyfbtckgkhn40000gn/T/ipykernel_70060/1636383839.py:65: FutureWarning: Calling float on a single element Series is deprecated and will raise a TypeError in the future. Use float(ser.iloc[0]) instead\n",
      "  mean_values['High'] = round(float(stock_data['High'].mean()), 2)\n",
      "/var/folders/cs/3lkp2pnd6j17xyfbtckgkhn40000gn/T/ipykernel_70060/1636383839.py:66: FutureWarning: Calling float on a single element Series is deprecated and will raise a TypeError in the future. Use float(ser.iloc[0]) instead\n",
      "  mean_values['Low'] = round(float(stock_data['Low'].mean()), 2)\n",
      "/var/folders/cs/3lkp2pnd6j17xyfbtckgkhn40000gn/T/ipykernel_70060/1636383839.py:67: FutureWarning: Calling float on a single element Series is deprecated and will raise a TypeError in the future. Use float(ser.iloc[0]) instead\n",
      "  mean_values['Open'] = round(float(stock_data['Open'].mean()), 2)\n",
      "/var/folders/cs/3lkp2pnd6j17xyfbtckgkhn40000gn/T/ipykernel_70060/1636383839.py:68: FutureWarning: Calling int on a single element Series is deprecated and will raise a TypeError in the future. Use int(ser.iloc[0]) instead\n",
      "  mean_values['Volume'] = int(stock_data['Volume'].mean())\n"
     ]
    },
    {
     "name": "stdout",
     "output_type": "stream",
     "text": [
      "✅ Data for AOT.BK saved to Thai_ESG_Stock_Data/AOT.BK_2022_2024.csv\n",
      "Fetching data for AP.BK...\n"
     ]
    },
    {
     "name": "stderr",
     "output_type": "stream",
     "text": [
      "[*********************100%***********************]  1 of 1 completed\n",
      "/var/folders/cs/3lkp2pnd6j17xyfbtckgkhn40000gn/T/ipykernel_70060/1636383839.py:64: FutureWarning: Calling float on a single element Series is deprecated and will raise a TypeError in the future. Use float(ser.iloc[0]) instead\n",
      "  mean_values['Close'] = round(float(stock_data['Close'].mean()), 2)\n",
      "/var/folders/cs/3lkp2pnd6j17xyfbtckgkhn40000gn/T/ipykernel_70060/1636383839.py:65: FutureWarning: Calling float on a single element Series is deprecated and will raise a TypeError in the future. Use float(ser.iloc[0]) instead\n",
      "  mean_values['High'] = round(float(stock_data['High'].mean()), 2)\n",
      "/var/folders/cs/3lkp2pnd6j17xyfbtckgkhn40000gn/T/ipykernel_70060/1636383839.py:66: FutureWarning: Calling float on a single element Series is deprecated and will raise a TypeError in the future. Use float(ser.iloc[0]) instead\n",
      "  mean_values['Low'] = round(float(stock_data['Low'].mean()), 2)\n",
      "/var/folders/cs/3lkp2pnd6j17xyfbtckgkhn40000gn/T/ipykernel_70060/1636383839.py:67: FutureWarning: Calling float on a single element Series is deprecated and will raise a TypeError in the future. Use float(ser.iloc[0]) instead\n",
      "  mean_values['Open'] = round(float(stock_data['Open'].mean()), 2)\n",
      "/var/folders/cs/3lkp2pnd6j17xyfbtckgkhn40000gn/T/ipykernel_70060/1636383839.py:68: FutureWarning: Calling int on a single element Series is deprecated and will raise a TypeError in the future. Use int(ser.iloc[0]) instead\n",
      "  mean_values['Volume'] = int(stock_data['Volume'].mean())\n"
     ]
    },
    {
     "name": "stdout",
     "output_type": "stream",
     "text": [
      "✅ Data for AP.BK saved to Thai_ESG_Stock_Data/AP.BK_2022_2024.csv\n",
      "Fetching data for ASK.BK...\n"
     ]
    },
    {
     "name": "stderr",
     "output_type": "stream",
     "text": [
      "[*********************100%***********************]  1 of 1 completed\n",
      "/var/folders/cs/3lkp2pnd6j17xyfbtckgkhn40000gn/T/ipykernel_70060/1636383839.py:64: FutureWarning: Calling float on a single element Series is deprecated and will raise a TypeError in the future. Use float(ser.iloc[0]) instead\n",
      "  mean_values['Close'] = round(float(stock_data['Close'].mean()), 2)\n",
      "/var/folders/cs/3lkp2pnd6j17xyfbtckgkhn40000gn/T/ipykernel_70060/1636383839.py:65: FutureWarning: Calling float on a single element Series is deprecated and will raise a TypeError in the future. Use float(ser.iloc[0]) instead\n",
      "  mean_values['High'] = round(float(stock_data['High'].mean()), 2)\n",
      "/var/folders/cs/3lkp2pnd6j17xyfbtckgkhn40000gn/T/ipykernel_70060/1636383839.py:66: FutureWarning: Calling float on a single element Series is deprecated and will raise a TypeError in the future. Use float(ser.iloc[0]) instead\n",
      "  mean_values['Low'] = round(float(stock_data['Low'].mean()), 2)\n",
      "/var/folders/cs/3lkp2pnd6j17xyfbtckgkhn40000gn/T/ipykernel_70060/1636383839.py:67: FutureWarning: Calling float on a single element Series is deprecated and will raise a TypeError in the future. Use float(ser.iloc[0]) instead\n",
      "  mean_values['Open'] = round(float(stock_data['Open'].mean()), 2)\n",
      "/var/folders/cs/3lkp2pnd6j17xyfbtckgkhn40000gn/T/ipykernel_70060/1636383839.py:68: FutureWarning: Calling int on a single element Series is deprecated and will raise a TypeError in the future. Use int(ser.iloc[0]) instead\n",
      "  mean_values['Volume'] = int(stock_data['Volume'].mean())\n"
     ]
    },
    {
     "name": "stdout",
     "output_type": "stream",
     "text": [
      "✅ Data for ASK.BK saved to Thai_ESG_Stock_Data/ASK.BK_2022_2024.csv\n",
      "Fetching data for AWC.BK...\n"
     ]
    },
    {
     "name": "stderr",
     "output_type": "stream",
     "text": [
      "[*********************100%***********************]  1 of 1 completed\n",
      "/var/folders/cs/3lkp2pnd6j17xyfbtckgkhn40000gn/T/ipykernel_70060/1636383839.py:64: FutureWarning: Calling float on a single element Series is deprecated and will raise a TypeError in the future. Use float(ser.iloc[0]) instead\n",
      "  mean_values['Close'] = round(float(stock_data['Close'].mean()), 2)\n",
      "/var/folders/cs/3lkp2pnd6j17xyfbtckgkhn40000gn/T/ipykernel_70060/1636383839.py:65: FutureWarning: Calling float on a single element Series is deprecated and will raise a TypeError in the future. Use float(ser.iloc[0]) instead\n",
      "  mean_values['High'] = round(float(stock_data['High'].mean()), 2)\n",
      "/var/folders/cs/3lkp2pnd6j17xyfbtckgkhn40000gn/T/ipykernel_70060/1636383839.py:66: FutureWarning: Calling float on a single element Series is deprecated and will raise a TypeError in the future. Use float(ser.iloc[0]) instead\n",
      "  mean_values['Low'] = round(float(stock_data['Low'].mean()), 2)\n",
      "/var/folders/cs/3lkp2pnd6j17xyfbtckgkhn40000gn/T/ipykernel_70060/1636383839.py:67: FutureWarning: Calling float on a single element Series is deprecated and will raise a TypeError in the future. Use float(ser.iloc[0]) instead\n",
      "  mean_values['Open'] = round(float(stock_data['Open'].mean()), 2)\n",
      "/var/folders/cs/3lkp2pnd6j17xyfbtckgkhn40000gn/T/ipykernel_70060/1636383839.py:68: FutureWarning: Calling int on a single element Series is deprecated and will raise a TypeError in the future. Use int(ser.iloc[0]) instead\n",
      "  mean_values['Volume'] = int(stock_data['Volume'].mean())\n"
     ]
    },
    {
     "name": "stdout",
     "output_type": "stream",
     "text": [
      "✅ Data for AWC.BK saved to Thai_ESG_Stock_Data/AWC.BK_2022_2024.csv\n",
      "Fetching data for BA.BK...\n"
     ]
    },
    {
     "name": "stderr",
     "output_type": "stream",
     "text": [
      "[*********************100%***********************]  1 of 1 completed\n",
      "/var/folders/cs/3lkp2pnd6j17xyfbtckgkhn40000gn/T/ipykernel_70060/1636383839.py:64: FutureWarning: Calling float on a single element Series is deprecated and will raise a TypeError in the future. Use float(ser.iloc[0]) instead\n",
      "  mean_values['Close'] = round(float(stock_data['Close'].mean()), 2)\n",
      "/var/folders/cs/3lkp2pnd6j17xyfbtckgkhn40000gn/T/ipykernel_70060/1636383839.py:65: FutureWarning: Calling float on a single element Series is deprecated and will raise a TypeError in the future. Use float(ser.iloc[0]) instead\n",
      "  mean_values['High'] = round(float(stock_data['High'].mean()), 2)\n",
      "/var/folders/cs/3lkp2pnd6j17xyfbtckgkhn40000gn/T/ipykernel_70060/1636383839.py:66: FutureWarning: Calling float on a single element Series is deprecated and will raise a TypeError in the future. Use float(ser.iloc[0]) instead\n",
      "  mean_values['Low'] = round(float(stock_data['Low'].mean()), 2)\n",
      "/var/folders/cs/3lkp2pnd6j17xyfbtckgkhn40000gn/T/ipykernel_70060/1636383839.py:67: FutureWarning: Calling float on a single element Series is deprecated and will raise a TypeError in the future. Use float(ser.iloc[0]) instead\n",
      "  mean_values['Open'] = round(float(stock_data['Open'].mean()), 2)\n",
      "/var/folders/cs/3lkp2pnd6j17xyfbtckgkhn40000gn/T/ipykernel_70060/1636383839.py:68: FutureWarning: Calling int on a single element Series is deprecated and will raise a TypeError in the future. Use int(ser.iloc[0]) instead\n",
      "  mean_values['Volume'] = int(stock_data['Volume'].mean())\n"
     ]
    },
    {
     "name": "stdout",
     "output_type": "stream",
     "text": [
      "✅ Data for BA.BK saved to Thai_ESG_Stock_Data/BA.BK_2022_2024.csv\n",
      "Fetching data for BAM.BK...\n"
     ]
    },
    {
     "name": "stderr",
     "output_type": "stream",
     "text": [
      "[*********************100%***********************]  1 of 1 completed\n",
      "/var/folders/cs/3lkp2pnd6j17xyfbtckgkhn40000gn/T/ipykernel_70060/1636383839.py:64: FutureWarning: Calling float on a single element Series is deprecated and will raise a TypeError in the future. Use float(ser.iloc[0]) instead\n",
      "  mean_values['Close'] = round(float(stock_data['Close'].mean()), 2)\n",
      "/var/folders/cs/3lkp2pnd6j17xyfbtckgkhn40000gn/T/ipykernel_70060/1636383839.py:65: FutureWarning: Calling float on a single element Series is deprecated and will raise a TypeError in the future. Use float(ser.iloc[0]) instead\n",
      "  mean_values['High'] = round(float(stock_data['High'].mean()), 2)\n",
      "/var/folders/cs/3lkp2pnd6j17xyfbtckgkhn40000gn/T/ipykernel_70060/1636383839.py:66: FutureWarning: Calling float on a single element Series is deprecated and will raise a TypeError in the future. Use float(ser.iloc[0]) instead\n",
      "  mean_values['Low'] = round(float(stock_data['Low'].mean()), 2)\n",
      "/var/folders/cs/3lkp2pnd6j17xyfbtckgkhn40000gn/T/ipykernel_70060/1636383839.py:67: FutureWarning: Calling float on a single element Series is deprecated and will raise a TypeError in the future. Use float(ser.iloc[0]) instead\n",
      "  mean_values['Open'] = round(float(stock_data['Open'].mean()), 2)\n",
      "/var/folders/cs/3lkp2pnd6j17xyfbtckgkhn40000gn/T/ipykernel_70060/1636383839.py:68: FutureWarning: Calling int on a single element Series is deprecated and will raise a TypeError in the future. Use int(ser.iloc[0]) instead\n",
      "  mean_values['Volume'] = int(stock_data['Volume'].mean())\n"
     ]
    },
    {
     "name": "stdout",
     "output_type": "stream",
     "text": [
      "✅ Data for BAM.BK saved to Thai_ESG_Stock_Data/BAM.BK_2022_2024.csv\n",
      "Fetching data for BANPU.BK...\n"
     ]
    },
    {
     "name": "stderr",
     "output_type": "stream",
     "text": [
      "[*********************100%***********************]  1 of 1 completed\n",
      "/var/folders/cs/3lkp2pnd6j17xyfbtckgkhn40000gn/T/ipykernel_70060/1636383839.py:64: FutureWarning: Calling float on a single element Series is deprecated and will raise a TypeError in the future. Use float(ser.iloc[0]) instead\n",
      "  mean_values['Close'] = round(float(stock_data['Close'].mean()), 2)\n",
      "/var/folders/cs/3lkp2pnd6j17xyfbtckgkhn40000gn/T/ipykernel_70060/1636383839.py:65: FutureWarning: Calling float on a single element Series is deprecated and will raise a TypeError in the future. Use float(ser.iloc[0]) instead\n",
      "  mean_values['High'] = round(float(stock_data['High'].mean()), 2)\n",
      "/var/folders/cs/3lkp2pnd6j17xyfbtckgkhn40000gn/T/ipykernel_70060/1636383839.py:66: FutureWarning: Calling float on a single element Series is deprecated and will raise a TypeError in the future. Use float(ser.iloc[0]) instead\n",
      "  mean_values['Low'] = round(float(stock_data['Low'].mean()), 2)\n",
      "/var/folders/cs/3lkp2pnd6j17xyfbtckgkhn40000gn/T/ipykernel_70060/1636383839.py:67: FutureWarning: Calling float on a single element Series is deprecated and will raise a TypeError in the future. Use float(ser.iloc[0]) instead\n",
      "  mean_values['Open'] = round(float(stock_data['Open'].mean()), 2)\n",
      "/var/folders/cs/3lkp2pnd6j17xyfbtckgkhn40000gn/T/ipykernel_70060/1636383839.py:68: FutureWarning: Calling int on a single element Series is deprecated and will raise a TypeError in the future. Use int(ser.iloc[0]) instead\n",
      "  mean_values['Volume'] = int(stock_data['Volume'].mean())\n"
     ]
    },
    {
     "name": "stdout",
     "output_type": "stream",
     "text": [
      "✅ Data for BANPU.BK saved to Thai_ESG_Stock_Data/BANPU.BK_2022_2024.csv\n",
      "Fetching data for BBGI.BK...\n"
     ]
    },
    {
     "name": "stderr",
     "output_type": "stream",
     "text": [
      "[*********************100%***********************]  1 of 1 completed\n",
      "/var/folders/cs/3lkp2pnd6j17xyfbtckgkhn40000gn/T/ipykernel_70060/1636383839.py:64: FutureWarning: Calling float on a single element Series is deprecated and will raise a TypeError in the future. Use float(ser.iloc[0]) instead\n",
      "  mean_values['Close'] = round(float(stock_data['Close'].mean()), 2)\n",
      "/var/folders/cs/3lkp2pnd6j17xyfbtckgkhn40000gn/T/ipykernel_70060/1636383839.py:65: FutureWarning: Calling float on a single element Series is deprecated and will raise a TypeError in the future. Use float(ser.iloc[0]) instead\n",
      "  mean_values['High'] = round(float(stock_data['High'].mean()), 2)\n",
      "/var/folders/cs/3lkp2pnd6j17xyfbtckgkhn40000gn/T/ipykernel_70060/1636383839.py:66: FutureWarning: Calling float on a single element Series is deprecated and will raise a TypeError in the future. Use float(ser.iloc[0]) instead\n",
      "  mean_values['Low'] = round(float(stock_data['Low'].mean()), 2)\n",
      "/var/folders/cs/3lkp2pnd6j17xyfbtckgkhn40000gn/T/ipykernel_70060/1636383839.py:67: FutureWarning: Calling float on a single element Series is deprecated and will raise a TypeError in the future. Use float(ser.iloc[0]) instead\n",
      "  mean_values['Open'] = round(float(stock_data['Open'].mean()), 2)\n",
      "/var/folders/cs/3lkp2pnd6j17xyfbtckgkhn40000gn/T/ipykernel_70060/1636383839.py:68: FutureWarning: Calling int on a single element Series is deprecated and will raise a TypeError in the future. Use int(ser.iloc[0]) instead\n",
      "  mean_values['Volume'] = int(stock_data['Volume'].mean())\n"
     ]
    },
    {
     "name": "stdout",
     "output_type": "stream",
     "text": [
      "✅ Data for BBGI.BK saved to Thai_ESG_Stock_Data/BBGI.BK_2022_2024.csv\n",
      "Fetching data for BBL.BK...\n"
     ]
    },
    {
     "name": "stderr",
     "output_type": "stream",
     "text": [
      "[*********************100%***********************]  1 of 1 completed\n",
      "/var/folders/cs/3lkp2pnd6j17xyfbtckgkhn40000gn/T/ipykernel_70060/1636383839.py:64: FutureWarning: Calling float on a single element Series is deprecated and will raise a TypeError in the future. Use float(ser.iloc[0]) instead\n",
      "  mean_values['Close'] = round(float(stock_data['Close'].mean()), 2)\n",
      "/var/folders/cs/3lkp2pnd6j17xyfbtckgkhn40000gn/T/ipykernel_70060/1636383839.py:65: FutureWarning: Calling float on a single element Series is deprecated and will raise a TypeError in the future. Use float(ser.iloc[0]) instead\n",
      "  mean_values['High'] = round(float(stock_data['High'].mean()), 2)\n",
      "/var/folders/cs/3lkp2pnd6j17xyfbtckgkhn40000gn/T/ipykernel_70060/1636383839.py:66: FutureWarning: Calling float on a single element Series is deprecated and will raise a TypeError in the future. Use float(ser.iloc[0]) instead\n",
      "  mean_values['Low'] = round(float(stock_data['Low'].mean()), 2)\n",
      "/var/folders/cs/3lkp2pnd6j17xyfbtckgkhn40000gn/T/ipykernel_70060/1636383839.py:67: FutureWarning: Calling float on a single element Series is deprecated and will raise a TypeError in the future. Use float(ser.iloc[0]) instead\n",
      "  mean_values['Open'] = round(float(stock_data['Open'].mean()), 2)\n",
      "/var/folders/cs/3lkp2pnd6j17xyfbtckgkhn40000gn/T/ipykernel_70060/1636383839.py:68: FutureWarning: Calling int on a single element Series is deprecated and will raise a TypeError in the future. Use int(ser.iloc[0]) instead\n",
      "  mean_values['Volume'] = int(stock_data['Volume'].mean())\n"
     ]
    },
    {
     "name": "stdout",
     "output_type": "stream",
     "text": [
      "✅ Data for BBL.BK saved to Thai_ESG_Stock_Data/BBL.BK_2022_2024.csv\n",
      "Fetching data for BCH.BK...\n"
     ]
    },
    {
     "name": "stderr",
     "output_type": "stream",
     "text": [
      "[*********************100%***********************]  1 of 1 completed\n",
      "/var/folders/cs/3lkp2pnd6j17xyfbtckgkhn40000gn/T/ipykernel_70060/1636383839.py:64: FutureWarning: Calling float on a single element Series is deprecated and will raise a TypeError in the future. Use float(ser.iloc[0]) instead\n",
      "  mean_values['Close'] = round(float(stock_data['Close'].mean()), 2)\n",
      "/var/folders/cs/3lkp2pnd6j17xyfbtckgkhn40000gn/T/ipykernel_70060/1636383839.py:65: FutureWarning: Calling float on a single element Series is deprecated and will raise a TypeError in the future. Use float(ser.iloc[0]) instead\n",
      "  mean_values['High'] = round(float(stock_data['High'].mean()), 2)\n",
      "/var/folders/cs/3lkp2pnd6j17xyfbtckgkhn40000gn/T/ipykernel_70060/1636383839.py:66: FutureWarning: Calling float on a single element Series is deprecated and will raise a TypeError in the future. Use float(ser.iloc[0]) instead\n",
      "  mean_values['Low'] = round(float(stock_data['Low'].mean()), 2)\n",
      "/var/folders/cs/3lkp2pnd6j17xyfbtckgkhn40000gn/T/ipykernel_70060/1636383839.py:67: FutureWarning: Calling float on a single element Series is deprecated and will raise a TypeError in the future. Use float(ser.iloc[0]) instead\n",
      "  mean_values['Open'] = round(float(stock_data['Open'].mean()), 2)\n",
      "/var/folders/cs/3lkp2pnd6j17xyfbtckgkhn40000gn/T/ipykernel_70060/1636383839.py:68: FutureWarning: Calling int on a single element Series is deprecated and will raise a TypeError in the future. Use int(ser.iloc[0]) instead\n",
      "  mean_values['Volume'] = int(stock_data['Volume'].mean())\n"
     ]
    },
    {
     "name": "stdout",
     "output_type": "stream",
     "text": [
      "✅ Data for BCH.BK saved to Thai_ESG_Stock_Data/BCH.BK_2022_2024.csv\n",
      "Fetching data for BCPG.BK...\n"
     ]
    },
    {
     "name": "stderr",
     "output_type": "stream",
     "text": [
      "[*********************100%***********************]  1 of 1 completed\n",
      "/var/folders/cs/3lkp2pnd6j17xyfbtckgkhn40000gn/T/ipykernel_70060/1636383839.py:64: FutureWarning: Calling float on a single element Series is deprecated and will raise a TypeError in the future. Use float(ser.iloc[0]) instead\n",
      "  mean_values['Close'] = round(float(stock_data['Close'].mean()), 2)\n",
      "/var/folders/cs/3lkp2pnd6j17xyfbtckgkhn40000gn/T/ipykernel_70060/1636383839.py:65: FutureWarning: Calling float on a single element Series is deprecated and will raise a TypeError in the future. Use float(ser.iloc[0]) instead\n",
      "  mean_values['High'] = round(float(stock_data['High'].mean()), 2)\n",
      "/var/folders/cs/3lkp2pnd6j17xyfbtckgkhn40000gn/T/ipykernel_70060/1636383839.py:66: FutureWarning: Calling float on a single element Series is deprecated and will raise a TypeError in the future. Use float(ser.iloc[0]) instead\n",
      "  mean_values['Low'] = round(float(stock_data['Low'].mean()), 2)\n",
      "/var/folders/cs/3lkp2pnd6j17xyfbtckgkhn40000gn/T/ipykernel_70060/1636383839.py:67: FutureWarning: Calling float on a single element Series is deprecated and will raise a TypeError in the future. Use float(ser.iloc[0]) instead\n",
      "  mean_values['Open'] = round(float(stock_data['Open'].mean()), 2)\n",
      "/var/folders/cs/3lkp2pnd6j17xyfbtckgkhn40000gn/T/ipykernel_70060/1636383839.py:68: FutureWarning: Calling int on a single element Series is deprecated and will raise a TypeError in the future. Use int(ser.iloc[0]) instead\n",
      "  mean_values['Volume'] = int(stock_data['Volume'].mean())\n"
     ]
    },
    {
     "name": "stdout",
     "output_type": "stream",
     "text": [
      "✅ Data for BCPG.BK saved to Thai_ESG_Stock_Data/BCPG.BK_2022_2024.csv\n",
      "Fetching data for BDMS.BK...\n"
     ]
    },
    {
     "name": "stderr",
     "output_type": "stream",
     "text": [
      "[*********************100%***********************]  1 of 1 completed\n",
      "/var/folders/cs/3lkp2pnd6j17xyfbtckgkhn40000gn/T/ipykernel_70060/1636383839.py:64: FutureWarning: Calling float on a single element Series is deprecated and will raise a TypeError in the future. Use float(ser.iloc[0]) instead\n",
      "  mean_values['Close'] = round(float(stock_data['Close'].mean()), 2)\n",
      "/var/folders/cs/3lkp2pnd6j17xyfbtckgkhn40000gn/T/ipykernel_70060/1636383839.py:65: FutureWarning: Calling float on a single element Series is deprecated and will raise a TypeError in the future. Use float(ser.iloc[0]) instead\n",
      "  mean_values['High'] = round(float(stock_data['High'].mean()), 2)\n",
      "/var/folders/cs/3lkp2pnd6j17xyfbtckgkhn40000gn/T/ipykernel_70060/1636383839.py:66: FutureWarning: Calling float on a single element Series is deprecated and will raise a TypeError in the future. Use float(ser.iloc[0]) instead\n",
      "  mean_values['Low'] = round(float(stock_data['Low'].mean()), 2)\n",
      "/var/folders/cs/3lkp2pnd6j17xyfbtckgkhn40000gn/T/ipykernel_70060/1636383839.py:67: FutureWarning: Calling float on a single element Series is deprecated and will raise a TypeError in the future. Use float(ser.iloc[0]) instead\n",
      "  mean_values['Open'] = round(float(stock_data['Open'].mean()), 2)\n",
      "/var/folders/cs/3lkp2pnd6j17xyfbtckgkhn40000gn/T/ipykernel_70060/1636383839.py:68: FutureWarning: Calling int on a single element Series is deprecated and will raise a TypeError in the future. Use int(ser.iloc[0]) instead\n",
      "  mean_values['Volume'] = int(stock_data['Volume'].mean())\n"
     ]
    },
    {
     "name": "stdout",
     "output_type": "stream",
     "text": [
      "✅ Data for BDMS.BK saved to Thai_ESG_Stock_Data/BDMS.BK_2022_2024.csv\n",
      "Fetching data for BEM.BK...\n"
     ]
    },
    {
     "name": "stderr",
     "output_type": "stream",
     "text": [
      "[*********************100%***********************]  1 of 1 completed\n",
      "/var/folders/cs/3lkp2pnd6j17xyfbtckgkhn40000gn/T/ipykernel_70060/1636383839.py:64: FutureWarning: Calling float on a single element Series is deprecated and will raise a TypeError in the future. Use float(ser.iloc[0]) instead\n",
      "  mean_values['Close'] = round(float(stock_data['Close'].mean()), 2)\n",
      "/var/folders/cs/3lkp2pnd6j17xyfbtckgkhn40000gn/T/ipykernel_70060/1636383839.py:65: FutureWarning: Calling float on a single element Series is deprecated and will raise a TypeError in the future. Use float(ser.iloc[0]) instead\n",
      "  mean_values['High'] = round(float(stock_data['High'].mean()), 2)\n",
      "/var/folders/cs/3lkp2pnd6j17xyfbtckgkhn40000gn/T/ipykernel_70060/1636383839.py:66: FutureWarning: Calling float on a single element Series is deprecated and will raise a TypeError in the future. Use float(ser.iloc[0]) instead\n",
      "  mean_values['Low'] = round(float(stock_data['Low'].mean()), 2)\n",
      "/var/folders/cs/3lkp2pnd6j17xyfbtckgkhn40000gn/T/ipykernel_70060/1636383839.py:67: FutureWarning: Calling float on a single element Series is deprecated and will raise a TypeError in the future. Use float(ser.iloc[0]) instead\n",
      "  mean_values['Open'] = round(float(stock_data['Open'].mean()), 2)\n",
      "/var/folders/cs/3lkp2pnd6j17xyfbtckgkhn40000gn/T/ipykernel_70060/1636383839.py:68: FutureWarning: Calling int on a single element Series is deprecated and will raise a TypeError in the future. Use int(ser.iloc[0]) instead\n",
      "  mean_values['Volume'] = int(stock_data['Volume'].mean())\n",
      "[*********************100%***********************]  1 of 1 completed\n",
      "/var/folders/cs/3lkp2pnd6j17xyfbtckgkhn40000gn/T/ipykernel_70060/1636383839.py:64: FutureWarning: Calling float on a single element Series is deprecated and will raise a TypeError in the future. Use float(ser.iloc[0]) instead\n",
      "  mean_values['Close'] = round(float(stock_data['Close'].mean()), 2)\n",
      "/var/folders/cs/3lkp2pnd6j17xyfbtckgkhn40000gn/T/ipykernel_70060/1636383839.py:65: FutureWarning: Calling float on a single element Series is deprecated and will raise a TypeError in the future. Use float(ser.iloc[0]) instead\n",
      "  mean_values['High'] = round(float(stock_data['High'].mean()), 2)\n",
      "/var/folders/cs/3lkp2pnd6j17xyfbtckgkhn40000gn/T/ipykernel_70060/1636383839.py:66: FutureWarning: Calling float on a single element Series is deprecated and will raise a TypeError in the future. Use float(ser.iloc[0]) instead\n",
      "  mean_values['Low'] = round(float(stock_data['Low'].mean()), 2)\n",
      "/var/folders/cs/3lkp2pnd6j17xyfbtckgkhn40000gn/T/ipykernel_70060/1636383839.py:67: FutureWarning: Calling float on a single element Series is deprecated and will raise a TypeError in the future. Use float(ser.iloc[0]) instead\n",
      "  mean_values['Open'] = round(float(stock_data['Open'].mean()), 2)\n",
      "/var/folders/cs/3lkp2pnd6j17xyfbtckgkhn40000gn/T/ipykernel_70060/1636383839.py:68: FutureWarning: Calling int on a single element Series is deprecated and will raise a TypeError in the future. Use int(ser.iloc[0]) instead\n",
      "  mean_values['Volume'] = int(stock_data['Volume'].mean())\n"
     ]
    },
    {
     "name": "stdout",
     "output_type": "stream",
     "text": [
      "✅ Data for BEM.BK saved to Thai_ESG_Stock_Data/BEM.BK_2022_2024.csv\n",
      "Fetching data for BGRIM.BK...\n",
      "✅ Data for BGRIM.BK saved to Thai_ESG_Stock_Data/BGRIM.BK_2022_2024.csv\n",
      "Fetching data for BJC.BK...\n"
     ]
    },
    {
     "name": "stderr",
     "output_type": "stream",
     "text": [
      "[*********************100%***********************]  1 of 1 completed\n",
      "/var/folders/cs/3lkp2pnd6j17xyfbtckgkhn40000gn/T/ipykernel_70060/1636383839.py:64: FutureWarning: Calling float on a single element Series is deprecated and will raise a TypeError in the future. Use float(ser.iloc[0]) instead\n",
      "  mean_values['Close'] = round(float(stock_data['Close'].mean()), 2)\n",
      "/var/folders/cs/3lkp2pnd6j17xyfbtckgkhn40000gn/T/ipykernel_70060/1636383839.py:65: FutureWarning: Calling float on a single element Series is deprecated and will raise a TypeError in the future. Use float(ser.iloc[0]) instead\n",
      "  mean_values['High'] = round(float(stock_data['High'].mean()), 2)\n",
      "/var/folders/cs/3lkp2pnd6j17xyfbtckgkhn40000gn/T/ipykernel_70060/1636383839.py:66: FutureWarning: Calling float on a single element Series is deprecated and will raise a TypeError in the future. Use float(ser.iloc[0]) instead\n",
      "  mean_values['Low'] = round(float(stock_data['Low'].mean()), 2)\n",
      "/var/folders/cs/3lkp2pnd6j17xyfbtckgkhn40000gn/T/ipykernel_70060/1636383839.py:67: FutureWarning: Calling float on a single element Series is deprecated and will raise a TypeError in the future. Use float(ser.iloc[0]) instead\n",
      "  mean_values['Open'] = round(float(stock_data['Open'].mean()), 2)\n",
      "/var/folders/cs/3lkp2pnd6j17xyfbtckgkhn40000gn/T/ipykernel_70060/1636383839.py:68: FutureWarning: Calling int on a single element Series is deprecated and will raise a TypeError in the future. Use int(ser.iloc[0]) instead\n",
      "  mean_values['Volume'] = int(stock_data['Volume'].mean())\n"
     ]
    },
    {
     "name": "stdout",
     "output_type": "stream",
     "text": [
      "✅ Data for BJC.BK saved to Thai_ESG_Stock_Data/BJC.BK_2022_2024.csv\n",
      "Fetching data for BLA.BK...\n"
     ]
    },
    {
     "name": "stderr",
     "output_type": "stream",
     "text": [
      "[*********************100%***********************]  1 of 1 completed\n",
      "/var/folders/cs/3lkp2pnd6j17xyfbtckgkhn40000gn/T/ipykernel_70060/1636383839.py:64: FutureWarning: Calling float on a single element Series is deprecated and will raise a TypeError in the future. Use float(ser.iloc[0]) instead\n",
      "  mean_values['Close'] = round(float(stock_data['Close'].mean()), 2)\n",
      "/var/folders/cs/3lkp2pnd6j17xyfbtckgkhn40000gn/T/ipykernel_70060/1636383839.py:65: FutureWarning: Calling float on a single element Series is deprecated and will raise a TypeError in the future. Use float(ser.iloc[0]) instead\n",
      "  mean_values['High'] = round(float(stock_data['High'].mean()), 2)\n",
      "/var/folders/cs/3lkp2pnd6j17xyfbtckgkhn40000gn/T/ipykernel_70060/1636383839.py:66: FutureWarning: Calling float on a single element Series is deprecated and will raise a TypeError in the future. Use float(ser.iloc[0]) instead\n",
      "  mean_values['Low'] = round(float(stock_data['Low'].mean()), 2)\n",
      "/var/folders/cs/3lkp2pnd6j17xyfbtckgkhn40000gn/T/ipykernel_70060/1636383839.py:67: FutureWarning: Calling float on a single element Series is deprecated and will raise a TypeError in the future. Use float(ser.iloc[0]) instead\n",
      "  mean_values['Open'] = round(float(stock_data['Open'].mean()), 2)\n",
      "/var/folders/cs/3lkp2pnd6j17xyfbtckgkhn40000gn/T/ipykernel_70060/1636383839.py:68: FutureWarning: Calling int on a single element Series is deprecated and will raise a TypeError in the future. Use int(ser.iloc[0]) instead\n",
      "  mean_values['Volume'] = int(stock_data['Volume'].mean())\n"
     ]
    },
    {
     "name": "stdout",
     "output_type": "stream",
     "text": [
      "✅ Data for BLA.BK saved to Thai_ESG_Stock_Data/BLA.BK_2022_2024.csv\n",
      "Fetching data for BTG.BK...\n"
     ]
    },
    {
     "name": "stderr",
     "output_type": "stream",
     "text": [
      "[*********************100%***********************]  1 of 1 completed\n",
      "/var/folders/cs/3lkp2pnd6j17xyfbtckgkhn40000gn/T/ipykernel_70060/1636383839.py:64: FutureWarning: Calling float on a single element Series is deprecated and will raise a TypeError in the future. Use float(ser.iloc[0]) instead\n",
      "  mean_values['Close'] = round(float(stock_data['Close'].mean()), 2)\n",
      "/var/folders/cs/3lkp2pnd6j17xyfbtckgkhn40000gn/T/ipykernel_70060/1636383839.py:65: FutureWarning: Calling float on a single element Series is deprecated and will raise a TypeError in the future. Use float(ser.iloc[0]) instead\n",
      "  mean_values['High'] = round(float(stock_data['High'].mean()), 2)\n",
      "/var/folders/cs/3lkp2pnd6j17xyfbtckgkhn40000gn/T/ipykernel_70060/1636383839.py:66: FutureWarning: Calling float on a single element Series is deprecated and will raise a TypeError in the future. Use float(ser.iloc[0]) instead\n",
      "  mean_values['Low'] = round(float(stock_data['Low'].mean()), 2)\n",
      "/var/folders/cs/3lkp2pnd6j17xyfbtckgkhn40000gn/T/ipykernel_70060/1636383839.py:67: FutureWarning: Calling float on a single element Series is deprecated and will raise a TypeError in the future. Use float(ser.iloc[0]) instead\n",
      "  mean_values['Open'] = round(float(stock_data['Open'].mean()), 2)\n",
      "/var/folders/cs/3lkp2pnd6j17xyfbtckgkhn40000gn/T/ipykernel_70060/1636383839.py:68: FutureWarning: Calling int on a single element Series is deprecated and will raise a TypeError in the future. Use int(ser.iloc[0]) instead\n",
      "  mean_values['Volume'] = int(stock_data['Volume'].mean())\n"
     ]
    },
    {
     "name": "stdout",
     "output_type": "stream",
     "text": [
      "✅ Data for BTG.BK saved to Thai_ESG_Stock_Data/BTG.BK_2022_2024.csv\n",
      "Fetching data for BTS.BK...\n"
     ]
    },
    {
     "name": "stderr",
     "output_type": "stream",
     "text": [
      "[*********************100%***********************]  1 of 1 completed\n",
      "/var/folders/cs/3lkp2pnd6j17xyfbtckgkhn40000gn/T/ipykernel_70060/1636383839.py:64: FutureWarning: Calling float on a single element Series is deprecated and will raise a TypeError in the future. Use float(ser.iloc[0]) instead\n",
      "  mean_values['Close'] = round(float(stock_data['Close'].mean()), 2)\n",
      "/var/folders/cs/3lkp2pnd6j17xyfbtckgkhn40000gn/T/ipykernel_70060/1636383839.py:65: FutureWarning: Calling float on a single element Series is deprecated and will raise a TypeError in the future. Use float(ser.iloc[0]) instead\n",
      "  mean_values['High'] = round(float(stock_data['High'].mean()), 2)\n",
      "/var/folders/cs/3lkp2pnd6j17xyfbtckgkhn40000gn/T/ipykernel_70060/1636383839.py:66: FutureWarning: Calling float on a single element Series is deprecated and will raise a TypeError in the future. Use float(ser.iloc[0]) instead\n",
      "  mean_values['Low'] = round(float(stock_data['Low'].mean()), 2)\n",
      "/var/folders/cs/3lkp2pnd6j17xyfbtckgkhn40000gn/T/ipykernel_70060/1636383839.py:67: FutureWarning: Calling float on a single element Series is deprecated and will raise a TypeError in the future. Use float(ser.iloc[0]) instead\n",
      "  mean_values['Open'] = round(float(stock_data['Open'].mean()), 2)\n",
      "/var/folders/cs/3lkp2pnd6j17xyfbtckgkhn40000gn/T/ipykernel_70060/1636383839.py:68: FutureWarning: Calling int on a single element Series is deprecated and will raise a TypeError in the future. Use int(ser.iloc[0]) instead\n",
      "  mean_values['Volume'] = int(stock_data['Volume'].mean())\n"
     ]
    },
    {
     "name": "stdout",
     "output_type": "stream",
     "text": [
      "✅ Data for BTS.BK saved to Thai_ESG_Stock_Data/BTS.BK_2022_2024.csv\n",
      "Fetching data for CBG.BK...\n"
     ]
    },
    {
     "name": "stderr",
     "output_type": "stream",
     "text": [
      "[*********************100%***********************]  1 of 1 completed\n",
      "/var/folders/cs/3lkp2pnd6j17xyfbtckgkhn40000gn/T/ipykernel_70060/1636383839.py:64: FutureWarning: Calling float on a single element Series is deprecated and will raise a TypeError in the future. Use float(ser.iloc[0]) instead\n",
      "  mean_values['Close'] = round(float(stock_data['Close'].mean()), 2)\n",
      "/var/folders/cs/3lkp2pnd6j17xyfbtckgkhn40000gn/T/ipykernel_70060/1636383839.py:65: FutureWarning: Calling float on a single element Series is deprecated and will raise a TypeError in the future. Use float(ser.iloc[0]) instead\n",
      "  mean_values['High'] = round(float(stock_data['High'].mean()), 2)\n",
      "/var/folders/cs/3lkp2pnd6j17xyfbtckgkhn40000gn/T/ipykernel_70060/1636383839.py:66: FutureWarning: Calling float on a single element Series is deprecated and will raise a TypeError in the future. Use float(ser.iloc[0]) instead\n",
      "  mean_values['Low'] = round(float(stock_data['Low'].mean()), 2)\n",
      "/var/folders/cs/3lkp2pnd6j17xyfbtckgkhn40000gn/T/ipykernel_70060/1636383839.py:67: FutureWarning: Calling float on a single element Series is deprecated and will raise a TypeError in the future. Use float(ser.iloc[0]) instead\n",
      "  mean_values['Open'] = round(float(stock_data['Open'].mean()), 2)\n",
      "/var/folders/cs/3lkp2pnd6j17xyfbtckgkhn40000gn/T/ipykernel_70060/1636383839.py:68: FutureWarning: Calling int on a single element Series is deprecated and will raise a TypeError in the future. Use int(ser.iloc[0]) instead\n",
      "  mean_values['Volume'] = int(stock_data['Volume'].mean())\n"
     ]
    },
    {
     "name": "stdout",
     "output_type": "stream",
     "text": [
      "✅ Data for CBG.BK saved to Thai_ESG_Stock_Data/CBG.BK_2022_2024.csv\n",
      "Fetching data for CENTEL.BK...\n"
     ]
    },
    {
     "name": "stderr",
     "output_type": "stream",
     "text": [
      "[*********************100%***********************]  1 of 1 completed\n",
      "/var/folders/cs/3lkp2pnd6j17xyfbtckgkhn40000gn/T/ipykernel_70060/1636383839.py:64: FutureWarning: Calling float on a single element Series is deprecated and will raise a TypeError in the future. Use float(ser.iloc[0]) instead\n",
      "  mean_values['Close'] = round(float(stock_data['Close'].mean()), 2)\n",
      "/var/folders/cs/3lkp2pnd6j17xyfbtckgkhn40000gn/T/ipykernel_70060/1636383839.py:65: FutureWarning: Calling float on a single element Series is deprecated and will raise a TypeError in the future. Use float(ser.iloc[0]) instead\n",
      "  mean_values['High'] = round(float(stock_data['High'].mean()), 2)\n",
      "/var/folders/cs/3lkp2pnd6j17xyfbtckgkhn40000gn/T/ipykernel_70060/1636383839.py:66: FutureWarning: Calling float on a single element Series is deprecated and will raise a TypeError in the future. Use float(ser.iloc[0]) instead\n",
      "  mean_values['Low'] = round(float(stock_data['Low'].mean()), 2)\n",
      "/var/folders/cs/3lkp2pnd6j17xyfbtckgkhn40000gn/T/ipykernel_70060/1636383839.py:67: FutureWarning: Calling float on a single element Series is deprecated and will raise a TypeError in the future. Use float(ser.iloc[0]) instead\n",
      "  mean_values['Open'] = round(float(stock_data['Open'].mean()), 2)\n",
      "/var/folders/cs/3lkp2pnd6j17xyfbtckgkhn40000gn/T/ipykernel_70060/1636383839.py:68: FutureWarning: Calling int on a single element Series is deprecated and will raise a TypeError in the future. Use int(ser.iloc[0]) instead\n",
      "  mean_values['Volume'] = int(stock_data['Volume'].mean())\n"
     ]
    },
    {
     "name": "stdout",
     "output_type": "stream",
     "text": [
      "✅ Data for CENTEL.BK saved to Thai_ESG_Stock_Data/CENTEL.BK_2022_2024.csv\n",
      "Fetching data for CK.BK...\n"
     ]
    },
    {
     "name": "stderr",
     "output_type": "stream",
     "text": [
      "[*********************100%***********************]  1 of 1 completed\n",
      "/var/folders/cs/3lkp2pnd6j17xyfbtckgkhn40000gn/T/ipykernel_70060/1636383839.py:64: FutureWarning: Calling float on a single element Series is deprecated and will raise a TypeError in the future. Use float(ser.iloc[0]) instead\n",
      "  mean_values['Close'] = round(float(stock_data['Close'].mean()), 2)\n",
      "/var/folders/cs/3lkp2pnd6j17xyfbtckgkhn40000gn/T/ipykernel_70060/1636383839.py:65: FutureWarning: Calling float on a single element Series is deprecated and will raise a TypeError in the future. Use float(ser.iloc[0]) instead\n",
      "  mean_values['High'] = round(float(stock_data['High'].mean()), 2)\n",
      "/var/folders/cs/3lkp2pnd6j17xyfbtckgkhn40000gn/T/ipykernel_70060/1636383839.py:66: FutureWarning: Calling float on a single element Series is deprecated and will raise a TypeError in the future. Use float(ser.iloc[0]) instead\n",
      "  mean_values['Low'] = round(float(stock_data['Low'].mean()), 2)\n",
      "/var/folders/cs/3lkp2pnd6j17xyfbtckgkhn40000gn/T/ipykernel_70060/1636383839.py:67: FutureWarning: Calling float on a single element Series is deprecated and will raise a TypeError in the future. Use float(ser.iloc[0]) instead\n",
      "  mean_values['Open'] = round(float(stock_data['Open'].mean()), 2)\n",
      "/var/folders/cs/3lkp2pnd6j17xyfbtckgkhn40000gn/T/ipykernel_70060/1636383839.py:68: FutureWarning: Calling int on a single element Series is deprecated and will raise a TypeError in the future. Use int(ser.iloc[0]) instead\n",
      "  mean_values['Volume'] = int(stock_data['Volume'].mean())\n",
      "[*********************100%***********************]  1 of 1 completed\n"
     ]
    },
    {
     "name": "stdout",
     "output_type": "stream",
     "text": [
      "✅ Data for CK.BK saved to Thai_ESG_Stock_Data/CK.BK_2022_2024.csv\n",
      "Fetching data for CKP.BK...\n",
      "✅ Data for CKP.BK saved to Thai_ESG_Stock_Data/CKP.BK_2022_2024.csv\n",
      "Fetching data for COM7.BK...\n"
     ]
    },
    {
     "name": "stderr",
     "output_type": "stream",
     "text": [
      "/var/folders/cs/3lkp2pnd6j17xyfbtckgkhn40000gn/T/ipykernel_70060/1636383839.py:64: FutureWarning: Calling float on a single element Series is deprecated and will raise a TypeError in the future. Use float(ser.iloc[0]) instead\n",
      "  mean_values['Close'] = round(float(stock_data['Close'].mean()), 2)\n",
      "/var/folders/cs/3lkp2pnd6j17xyfbtckgkhn40000gn/T/ipykernel_70060/1636383839.py:65: FutureWarning: Calling float on a single element Series is deprecated and will raise a TypeError in the future. Use float(ser.iloc[0]) instead\n",
      "  mean_values['High'] = round(float(stock_data['High'].mean()), 2)\n",
      "/var/folders/cs/3lkp2pnd6j17xyfbtckgkhn40000gn/T/ipykernel_70060/1636383839.py:66: FutureWarning: Calling float on a single element Series is deprecated and will raise a TypeError in the future. Use float(ser.iloc[0]) instead\n",
      "  mean_values['Low'] = round(float(stock_data['Low'].mean()), 2)\n",
      "/var/folders/cs/3lkp2pnd6j17xyfbtckgkhn40000gn/T/ipykernel_70060/1636383839.py:67: FutureWarning: Calling float on a single element Series is deprecated and will raise a TypeError in the future. Use float(ser.iloc[0]) instead\n",
      "  mean_values['Open'] = round(float(stock_data['Open'].mean()), 2)\n",
      "/var/folders/cs/3lkp2pnd6j17xyfbtckgkhn40000gn/T/ipykernel_70060/1636383839.py:68: FutureWarning: Calling int on a single element Series is deprecated and will raise a TypeError in the future. Use int(ser.iloc[0]) instead\n",
      "  mean_values['Volume'] = int(stock_data['Volume'].mean())\n",
      "[*********************100%***********************]  1 of 1 completed\n",
      "/var/folders/cs/3lkp2pnd6j17xyfbtckgkhn40000gn/T/ipykernel_70060/1636383839.py:64: FutureWarning: Calling float on a single element Series is deprecated and will raise a TypeError in the future. Use float(ser.iloc[0]) instead\n",
      "  mean_values['Close'] = round(float(stock_data['Close'].mean()), 2)\n",
      "/var/folders/cs/3lkp2pnd6j17xyfbtckgkhn40000gn/T/ipykernel_70060/1636383839.py:65: FutureWarning: Calling float on a single element Series is deprecated and will raise a TypeError in the future. Use float(ser.iloc[0]) instead\n",
      "  mean_values['High'] = round(float(stock_data['High'].mean()), 2)\n",
      "/var/folders/cs/3lkp2pnd6j17xyfbtckgkhn40000gn/T/ipykernel_70060/1636383839.py:66: FutureWarning: Calling float on a single element Series is deprecated and will raise a TypeError in the future. Use float(ser.iloc[0]) instead\n",
      "  mean_values['Low'] = round(float(stock_data['Low'].mean()), 2)\n",
      "/var/folders/cs/3lkp2pnd6j17xyfbtckgkhn40000gn/T/ipykernel_70060/1636383839.py:67: FutureWarning: Calling float on a single element Series is deprecated and will raise a TypeError in the future. Use float(ser.iloc[0]) instead\n",
      "  mean_values['Open'] = round(float(stock_data['Open'].mean()), 2)\n",
      "/var/folders/cs/3lkp2pnd6j17xyfbtckgkhn40000gn/T/ipykernel_70060/1636383839.py:68: FutureWarning: Calling int on a single element Series is deprecated and will raise a TypeError in the future. Use int(ser.iloc[0]) instead\n",
      "  mean_values['Volume'] = int(stock_data['Volume'].mean())\n",
      "[*********************100%***********************]  1 of 1 completed\n",
      "/var/folders/cs/3lkp2pnd6j17xyfbtckgkhn40000gn/T/ipykernel_70060/1636383839.py:64: FutureWarning: Calling float on a single element Series is deprecated and will raise a TypeError in the future. Use float(ser.iloc[0]) instead\n",
      "  mean_values['Close'] = round(float(stock_data['Close'].mean()), 2)\n",
      "/var/folders/cs/3lkp2pnd6j17xyfbtckgkhn40000gn/T/ipykernel_70060/1636383839.py:65: FutureWarning: Calling float on a single element Series is deprecated and will raise a TypeError in the future. Use float(ser.iloc[0]) instead\n",
      "  mean_values['High'] = round(float(stock_data['High'].mean()), 2)\n",
      "/var/folders/cs/3lkp2pnd6j17xyfbtckgkhn40000gn/T/ipykernel_70060/1636383839.py:66: FutureWarning: Calling float on a single element Series is deprecated and will raise a TypeError in the future. Use float(ser.iloc[0]) instead\n",
      "  mean_values['Low'] = round(float(stock_data['Low'].mean()), 2)\n",
      "/var/folders/cs/3lkp2pnd6j17xyfbtckgkhn40000gn/T/ipykernel_70060/1636383839.py:67: FutureWarning: Calling float on a single element Series is deprecated and will raise a TypeError in the future. Use float(ser.iloc[0]) instead\n",
      "  mean_values['Open'] = round(float(stock_data['Open'].mean()), 2)\n",
      "/var/folders/cs/3lkp2pnd6j17xyfbtckgkhn40000gn/T/ipykernel_70060/1636383839.py:68: FutureWarning: Calling int on a single element Series is deprecated and will raise a TypeError in the future. Use int(ser.iloc[0]) instead\n",
      "  mean_values['Volume'] = int(stock_data['Volume'].mean())\n"
     ]
    },
    {
     "name": "stdout",
     "output_type": "stream",
     "text": [
      "✅ Data for COM7.BK saved to Thai_ESG_Stock_Data/COM7.BK_2022_2024.csv\n",
      "Fetching data for CPALL.BK...\n",
      "✅ Data for CPALL.BK saved to Thai_ESG_Stock_Data/CPALL.BK_2022_2024.csv\n",
      "Fetching data for CPF.BK...\n"
     ]
    },
    {
     "name": "stderr",
     "output_type": "stream",
     "text": [
      "[*********************100%***********************]  1 of 1 completed\n",
      "/var/folders/cs/3lkp2pnd6j17xyfbtckgkhn40000gn/T/ipykernel_70060/1636383839.py:64: FutureWarning: Calling float on a single element Series is deprecated and will raise a TypeError in the future. Use float(ser.iloc[0]) instead\n",
      "  mean_values['Close'] = round(float(stock_data['Close'].mean()), 2)\n",
      "/var/folders/cs/3lkp2pnd6j17xyfbtckgkhn40000gn/T/ipykernel_70060/1636383839.py:65: FutureWarning: Calling float on a single element Series is deprecated and will raise a TypeError in the future. Use float(ser.iloc[0]) instead\n",
      "  mean_values['High'] = round(float(stock_data['High'].mean()), 2)\n",
      "/var/folders/cs/3lkp2pnd6j17xyfbtckgkhn40000gn/T/ipykernel_70060/1636383839.py:66: FutureWarning: Calling float on a single element Series is deprecated and will raise a TypeError in the future. Use float(ser.iloc[0]) instead\n",
      "  mean_values['Low'] = round(float(stock_data['Low'].mean()), 2)\n",
      "/var/folders/cs/3lkp2pnd6j17xyfbtckgkhn40000gn/T/ipykernel_70060/1636383839.py:67: FutureWarning: Calling float on a single element Series is deprecated and will raise a TypeError in the future. Use float(ser.iloc[0]) instead\n",
      "  mean_values['Open'] = round(float(stock_data['Open'].mean()), 2)\n",
      "/var/folders/cs/3lkp2pnd6j17xyfbtckgkhn40000gn/T/ipykernel_70060/1636383839.py:68: FutureWarning: Calling int on a single element Series is deprecated and will raise a TypeError in the future. Use int(ser.iloc[0]) instead\n",
      "  mean_values['Volume'] = int(stock_data['Volume'].mean())\n"
     ]
    },
    {
     "name": "stdout",
     "output_type": "stream",
     "text": [
      "✅ Data for CPF.BK saved to Thai_ESG_Stock_Data/CPF.BK_2022_2024.csv\n",
      "Fetching data for CPN.BK...\n"
     ]
    },
    {
     "name": "stderr",
     "output_type": "stream",
     "text": [
      "[*********************100%***********************]  1 of 1 completed\n",
      "/var/folders/cs/3lkp2pnd6j17xyfbtckgkhn40000gn/T/ipykernel_70060/1636383839.py:64: FutureWarning: Calling float on a single element Series is deprecated and will raise a TypeError in the future. Use float(ser.iloc[0]) instead\n",
      "  mean_values['Close'] = round(float(stock_data['Close'].mean()), 2)\n",
      "/var/folders/cs/3lkp2pnd6j17xyfbtckgkhn40000gn/T/ipykernel_70060/1636383839.py:65: FutureWarning: Calling float on a single element Series is deprecated and will raise a TypeError in the future. Use float(ser.iloc[0]) instead\n",
      "  mean_values['High'] = round(float(stock_data['High'].mean()), 2)\n",
      "/var/folders/cs/3lkp2pnd6j17xyfbtckgkhn40000gn/T/ipykernel_70060/1636383839.py:66: FutureWarning: Calling float on a single element Series is deprecated and will raise a TypeError in the future. Use float(ser.iloc[0]) instead\n",
      "  mean_values['Low'] = round(float(stock_data['Low'].mean()), 2)\n",
      "/var/folders/cs/3lkp2pnd6j17xyfbtckgkhn40000gn/T/ipykernel_70060/1636383839.py:67: FutureWarning: Calling float on a single element Series is deprecated and will raise a TypeError in the future. Use float(ser.iloc[0]) instead\n",
      "  mean_values['Open'] = round(float(stock_data['Open'].mean()), 2)\n",
      "/var/folders/cs/3lkp2pnd6j17xyfbtckgkhn40000gn/T/ipykernel_70060/1636383839.py:68: FutureWarning: Calling int on a single element Series is deprecated and will raise a TypeError in the future. Use int(ser.iloc[0]) instead\n",
      "  mean_values['Volume'] = int(stock_data['Volume'].mean())\n",
      "[*********************100%***********************]  1 of 1 completed\n",
      "/var/folders/cs/3lkp2pnd6j17xyfbtckgkhn40000gn/T/ipykernel_70060/1636383839.py:64: FutureWarning: Calling float on a single element Series is deprecated and will raise a TypeError in the future. Use float(ser.iloc[0]) instead\n",
      "  mean_values['Close'] = round(float(stock_data['Close'].mean()), 2)\n",
      "/var/folders/cs/3lkp2pnd6j17xyfbtckgkhn40000gn/T/ipykernel_70060/1636383839.py:65: FutureWarning: Calling float on a single element Series is deprecated and will raise a TypeError in the future. Use float(ser.iloc[0]) instead\n",
      "  mean_values['High'] = round(float(stock_data['High'].mean()), 2)\n",
      "/var/folders/cs/3lkp2pnd6j17xyfbtckgkhn40000gn/T/ipykernel_70060/1636383839.py:66: FutureWarning: Calling float on a single element Series is deprecated and will raise a TypeError in the future. Use float(ser.iloc[0]) instead\n",
      "  mean_values['Low'] = round(float(stock_data['Low'].mean()), 2)\n",
      "/var/folders/cs/3lkp2pnd6j17xyfbtckgkhn40000gn/T/ipykernel_70060/1636383839.py:67: FutureWarning: Calling float on a single element Series is deprecated and will raise a TypeError in the future. Use float(ser.iloc[0]) instead\n",
      "  mean_values['Open'] = round(float(stock_data['Open'].mean()), 2)\n",
      "/var/folders/cs/3lkp2pnd6j17xyfbtckgkhn40000gn/T/ipykernel_70060/1636383839.py:68: FutureWarning: Calling int on a single element Series is deprecated and will raise a TypeError in the future. Use int(ser.iloc[0]) instead\n",
      "  mean_values['Volume'] = int(stock_data['Volume'].mean())\n"
     ]
    },
    {
     "name": "stdout",
     "output_type": "stream",
     "text": [
      "✅ Data for CPN.BK saved to Thai_ESG_Stock_Data/CPN.BK_2022_2024.csv\n",
      "Fetching data for CRC.BK...\n",
      "✅ Data for CRC.BK saved to Thai_ESG_Stock_Data/CRC.BK_2022_2024.csv\n",
      "Fetching data for DELTA.BK...\n"
     ]
    },
    {
     "name": "stderr",
     "output_type": "stream",
     "text": [
      "[*********************100%***********************]  1 of 1 completed\n",
      "/var/folders/cs/3lkp2pnd6j17xyfbtckgkhn40000gn/T/ipykernel_70060/1636383839.py:64: FutureWarning: Calling float on a single element Series is deprecated and will raise a TypeError in the future. Use float(ser.iloc[0]) instead\n",
      "  mean_values['Close'] = round(float(stock_data['Close'].mean()), 2)\n",
      "/var/folders/cs/3lkp2pnd6j17xyfbtckgkhn40000gn/T/ipykernel_70060/1636383839.py:65: FutureWarning: Calling float on a single element Series is deprecated and will raise a TypeError in the future. Use float(ser.iloc[0]) instead\n",
      "  mean_values['High'] = round(float(stock_data['High'].mean()), 2)\n",
      "/var/folders/cs/3lkp2pnd6j17xyfbtckgkhn40000gn/T/ipykernel_70060/1636383839.py:66: FutureWarning: Calling float on a single element Series is deprecated and will raise a TypeError in the future. Use float(ser.iloc[0]) instead\n",
      "  mean_values['Low'] = round(float(stock_data['Low'].mean()), 2)\n",
      "/var/folders/cs/3lkp2pnd6j17xyfbtckgkhn40000gn/T/ipykernel_70060/1636383839.py:67: FutureWarning: Calling float on a single element Series is deprecated and will raise a TypeError in the future. Use float(ser.iloc[0]) instead\n",
      "  mean_values['Open'] = round(float(stock_data['Open'].mean()), 2)\n",
      "/var/folders/cs/3lkp2pnd6j17xyfbtckgkhn40000gn/T/ipykernel_70060/1636383839.py:68: FutureWarning: Calling int on a single element Series is deprecated and will raise a TypeError in the future. Use int(ser.iloc[0]) instead\n",
      "  mean_values['Volume'] = int(stock_data['Volume'].mean())\n"
     ]
    },
    {
     "name": "stdout",
     "output_type": "stream",
     "text": [
      "✅ Data for DELTA.BK saved to Thai_ESG_Stock_Data/DELTA.BK_2022_2024.csv\n",
      "Fetching data for DITTO.BK...\n"
     ]
    },
    {
     "name": "stderr",
     "output_type": "stream",
     "text": [
      "[*********************100%***********************]  1 of 1 completed\n",
      "/var/folders/cs/3lkp2pnd6j17xyfbtckgkhn40000gn/T/ipykernel_70060/1636383839.py:64: FutureWarning: Calling float on a single element Series is deprecated and will raise a TypeError in the future. Use float(ser.iloc[0]) instead\n",
      "  mean_values['Close'] = round(float(stock_data['Close'].mean()), 2)\n",
      "/var/folders/cs/3lkp2pnd6j17xyfbtckgkhn40000gn/T/ipykernel_70060/1636383839.py:65: FutureWarning: Calling float on a single element Series is deprecated and will raise a TypeError in the future. Use float(ser.iloc[0]) instead\n",
      "  mean_values['High'] = round(float(stock_data['High'].mean()), 2)\n",
      "/var/folders/cs/3lkp2pnd6j17xyfbtckgkhn40000gn/T/ipykernel_70060/1636383839.py:66: FutureWarning: Calling float on a single element Series is deprecated and will raise a TypeError in the future. Use float(ser.iloc[0]) instead\n",
      "  mean_values['Low'] = round(float(stock_data['Low'].mean()), 2)\n",
      "/var/folders/cs/3lkp2pnd6j17xyfbtckgkhn40000gn/T/ipykernel_70060/1636383839.py:67: FutureWarning: Calling float on a single element Series is deprecated and will raise a TypeError in the future. Use float(ser.iloc[0]) instead\n",
      "  mean_values['Open'] = round(float(stock_data['Open'].mean()), 2)\n",
      "/var/folders/cs/3lkp2pnd6j17xyfbtckgkhn40000gn/T/ipykernel_70060/1636383839.py:68: FutureWarning: Calling int on a single element Series is deprecated and will raise a TypeError in the future. Use int(ser.iloc[0]) instead\n",
      "  mean_values['Volume'] = int(stock_data['Volume'].mean())\n"
     ]
    },
    {
     "name": "stdout",
     "output_type": "stream",
     "text": [
      "✅ Data for DITTO.BK saved to Thai_ESG_Stock_Data/DITTO.BK_2022_2024.csv\n",
      "Fetching data for DMT.BK...\n"
     ]
    },
    {
     "name": "stderr",
     "output_type": "stream",
     "text": [
      "[*********************100%***********************]  1 of 1 completed\n",
      "/var/folders/cs/3lkp2pnd6j17xyfbtckgkhn40000gn/T/ipykernel_70060/1636383839.py:64: FutureWarning: Calling float on a single element Series is deprecated and will raise a TypeError in the future. Use float(ser.iloc[0]) instead\n",
      "  mean_values['Close'] = round(float(stock_data['Close'].mean()), 2)\n",
      "/var/folders/cs/3lkp2pnd6j17xyfbtckgkhn40000gn/T/ipykernel_70060/1636383839.py:65: FutureWarning: Calling float on a single element Series is deprecated and will raise a TypeError in the future. Use float(ser.iloc[0]) instead\n",
      "  mean_values['High'] = round(float(stock_data['High'].mean()), 2)\n",
      "/var/folders/cs/3lkp2pnd6j17xyfbtckgkhn40000gn/T/ipykernel_70060/1636383839.py:66: FutureWarning: Calling float on a single element Series is deprecated and will raise a TypeError in the future. Use float(ser.iloc[0]) instead\n",
      "  mean_values['Low'] = round(float(stock_data['Low'].mean()), 2)\n",
      "/var/folders/cs/3lkp2pnd6j17xyfbtckgkhn40000gn/T/ipykernel_70060/1636383839.py:67: FutureWarning: Calling float on a single element Series is deprecated and will raise a TypeError in the future. Use float(ser.iloc[0]) instead\n",
      "  mean_values['Open'] = round(float(stock_data['Open'].mean()), 2)\n",
      "/var/folders/cs/3lkp2pnd6j17xyfbtckgkhn40000gn/T/ipykernel_70060/1636383839.py:68: FutureWarning: Calling int on a single element Series is deprecated and will raise a TypeError in the future. Use int(ser.iloc[0]) instead\n",
      "  mean_values['Volume'] = int(stock_data['Volume'].mean())\n"
     ]
    },
    {
     "name": "stdout",
     "output_type": "stream",
     "text": [
      "✅ Data for DMT.BK saved to Thai_ESG_Stock_Data/DMT.BK_2022_2024.csv\n",
      "Fetching data for EGCO.BK...\n"
     ]
    },
    {
     "name": "stderr",
     "output_type": "stream",
     "text": [
      "[*********************100%***********************]  1 of 1 completed\n",
      "/var/folders/cs/3lkp2pnd6j17xyfbtckgkhn40000gn/T/ipykernel_70060/1636383839.py:64: FutureWarning: Calling float on a single element Series is deprecated and will raise a TypeError in the future. Use float(ser.iloc[0]) instead\n",
      "  mean_values['Close'] = round(float(stock_data['Close'].mean()), 2)\n",
      "/var/folders/cs/3lkp2pnd6j17xyfbtckgkhn40000gn/T/ipykernel_70060/1636383839.py:65: FutureWarning: Calling float on a single element Series is deprecated and will raise a TypeError in the future. Use float(ser.iloc[0]) instead\n",
      "  mean_values['High'] = round(float(stock_data['High'].mean()), 2)\n",
      "/var/folders/cs/3lkp2pnd6j17xyfbtckgkhn40000gn/T/ipykernel_70060/1636383839.py:66: FutureWarning: Calling float on a single element Series is deprecated and will raise a TypeError in the future. Use float(ser.iloc[0]) instead\n",
      "  mean_values['Low'] = round(float(stock_data['Low'].mean()), 2)\n",
      "/var/folders/cs/3lkp2pnd6j17xyfbtckgkhn40000gn/T/ipykernel_70060/1636383839.py:67: FutureWarning: Calling float on a single element Series is deprecated and will raise a TypeError in the future. Use float(ser.iloc[0]) instead\n",
      "  mean_values['Open'] = round(float(stock_data['Open'].mean()), 2)\n",
      "/var/folders/cs/3lkp2pnd6j17xyfbtckgkhn40000gn/T/ipykernel_70060/1636383839.py:68: FutureWarning: Calling int on a single element Series is deprecated and will raise a TypeError in the future. Use int(ser.iloc[0]) instead\n",
      "  mean_values['Volume'] = int(stock_data['Volume'].mean())\n"
     ]
    },
    {
     "name": "stdout",
     "output_type": "stream",
     "text": [
      "✅ Data for EGCO.BK saved to Thai_ESG_Stock_Data/EGCO.BK_2022_2024.csv\n",
      "Fetching data for EPG.BK...\n"
     ]
    },
    {
     "name": "stderr",
     "output_type": "stream",
     "text": [
      "[*********************100%***********************]  1 of 1 completed\n",
      "/var/folders/cs/3lkp2pnd6j17xyfbtckgkhn40000gn/T/ipykernel_70060/1636383839.py:64: FutureWarning: Calling float on a single element Series is deprecated and will raise a TypeError in the future. Use float(ser.iloc[0]) instead\n",
      "  mean_values['Close'] = round(float(stock_data['Close'].mean()), 2)\n",
      "/var/folders/cs/3lkp2pnd6j17xyfbtckgkhn40000gn/T/ipykernel_70060/1636383839.py:65: FutureWarning: Calling float on a single element Series is deprecated and will raise a TypeError in the future. Use float(ser.iloc[0]) instead\n",
      "  mean_values['High'] = round(float(stock_data['High'].mean()), 2)\n",
      "/var/folders/cs/3lkp2pnd6j17xyfbtckgkhn40000gn/T/ipykernel_70060/1636383839.py:66: FutureWarning: Calling float on a single element Series is deprecated and will raise a TypeError in the future. Use float(ser.iloc[0]) instead\n",
      "  mean_values['Low'] = round(float(stock_data['Low'].mean()), 2)\n",
      "/var/folders/cs/3lkp2pnd6j17xyfbtckgkhn40000gn/T/ipykernel_70060/1636383839.py:67: FutureWarning: Calling float on a single element Series is deprecated and will raise a TypeError in the future. Use float(ser.iloc[0]) instead\n",
      "  mean_values['Open'] = round(float(stock_data['Open'].mean()), 2)\n",
      "/var/folders/cs/3lkp2pnd6j17xyfbtckgkhn40000gn/T/ipykernel_70060/1636383839.py:68: FutureWarning: Calling int on a single element Series is deprecated and will raise a TypeError in the future. Use int(ser.iloc[0]) instead\n",
      "  mean_values['Volume'] = int(stock_data['Volume'].mean())\n"
     ]
    },
    {
     "name": "stdout",
     "output_type": "stream",
     "text": [
      "✅ Data for EPG.BK saved to Thai_ESG_Stock_Data/EPG.BK_2022_2024.csv\n",
      "Fetching data for GLOBAL.BK...\n"
     ]
    },
    {
     "name": "stderr",
     "output_type": "stream",
     "text": [
      "[*********************100%***********************]  1 of 1 completed\n",
      "/var/folders/cs/3lkp2pnd6j17xyfbtckgkhn40000gn/T/ipykernel_70060/1636383839.py:64: FutureWarning: Calling float on a single element Series is deprecated and will raise a TypeError in the future. Use float(ser.iloc[0]) instead\n",
      "  mean_values['Close'] = round(float(stock_data['Close'].mean()), 2)\n",
      "/var/folders/cs/3lkp2pnd6j17xyfbtckgkhn40000gn/T/ipykernel_70060/1636383839.py:65: FutureWarning: Calling float on a single element Series is deprecated and will raise a TypeError in the future. Use float(ser.iloc[0]) instead\n",
      "  mean_values['High'] = round(float(stock_data['High'].mean()), 2)\n",
      "/var/folders/cs/3lkp2pnd6j17xyfbtckgkhn40000gn/T/ipykernel_70060/1636383839.py:66: FutureWarning: Calling float on a single element Series is deprecated and will raise a TypeError in the future. Use float(ser.iloc[0]) instead\n",
      "  mean_values['Low'] = round(float(stock_data['Low'].mean()), 2)\n",
      "/var/folders/cs/3lkp2pnd6j17xyfbtckgkhn40000gn/T/ipykernel_70060/1636383839.py:67: FutureWarning: Calling float on a single element Series is deprecated and will raise a TypeError in the future. Use float(ser.iloc[0]) instead\n",
      "  mean_values['Open'] = round(float(stock_data['Open'].mean()), 2)\n",
      "/var/folders/cs/3lkp2pnd6j17xyfbtckgkhn40000gn/T/ipykernel_70060/1636383839.py:68: FutureWarning: Calling int on a single element Series is deprecated and will raise a TypeError in the future. Use int(ser.iloc[0]) instead\n",
      "  mean_values['Volume'] = int(stock_data['Volume'].mean())\n"
     ]
    },
    {
     "name": "stdout",
     "output_type": "stream",
     "text": [
      "✅ Data for GLOBAL.BK saved to Thai_ESG_Stock_Data/GLOBAL.BK_2022_2024.csv\n",
      "Fetching data for GPSC.BK...\n"
     ]
    },
    {
     "name": "stderr",
     "output_type": "stream",
     "text": [
      "[*********************100%***********************]  1 of 1 completed\n",
      "/var/folders/cs/3lkp2pnd6j17xyfbtckgkhn40000gn/T/ipykernel_70060/1636383839.py:64: FutureWarning: Calling float on a single element Series is deprecated and will raise a TypeError in the future. Use float(ser.iloc[0]) instead\n",
      "  mean_values['Close'] = round(float(stock_data['Close'].mean()), 2)\n",
      "/var/folders/cs/3lkp2pnd6j17xyfbtckgkhn40000gn/T/ipykernel_70060/1636383839.py:65: FutureWarning: Calling float on a single element Series is deprecated and will raise a TypeError in the future. Use float(ser.iloc[0]) instead\n",
      "  mean_values['High'] = round(float(stock_data['High'].mean()), 2)\n",
      "/var/folders/cs/3lkp2pnd6j17xyfbtckgkhn40000gn/T/ipykernel_70060/1636383839.py:66: FutureWarning: Calling float on a single element Series is deprecated and will raise a TypeError in the future. Use float(ser.iloc[0]) instead\n",
      "  mean_values['Low'] = round(float(stock_data['Low'].mean()), 2)\n",
      "/var/folders/cs/3lkp2pnd6j17xyfbtckgkhn40000gn/T/ipykernel_70060/1636383839.py:67: FutureWarning: Calling float on a single element Series is deprecated and will raise a TypeError in the future. Use float(ser.iloc[0]) instead\n",
      "  mean_values['Open'] = round(float(stock_data['Open'].mean()), 2)\n",
      "/var/folders/cs/3lkp2pnd6j17xyfbtckgkhn40000gn/T/ipykernel_70060/1636383839.py:68: FutureWarning: Calling int on a single element Series is deprecated and will raise a TypeError in the future. Use int(ser.iloc[0]) instead\n",
      "  mean_values['Volume'] = int(stock_data['Volume'].mean())\n"
     ]
    },
    {
     "name": "stdout",
     "output_type": "stream",
     "text": [
      "✅ Data for GPSC.BK saved to Thai_ESG_Stock_Data/GPSC.BK_2022_2024.csv\n",
      "Fetching data for GULF.BK...\n"
     ]
    },
    {
     "name": "stderr",
     "output_type": "stream",
     "text": [
      "[*********************100%***********************]  1 of 1 completed\n",
      "/var/folders/cs/3lkp2pnd6j17xyfbtckgkhn40000gn/T/ipykernel_70060/1636383839.py:64: FutureWarning: Calling float on a single element Series is deprecated and will raise a TypeError in the future. Use float(ser.iloc[0]) instead\n",
      "  mean_values['Close'] = round(float(stock_data['Close'].mean()), 2)\n",
      "/var/folders/cs/3lkp2pnd6j17xyfbtckgkhn40000gn/T/ipykernel_70060/1636383839.py:65: FutureWarning: Calling float on a single element Series is deprecated and will raise a TypeError in the future. Use float(ser.iloc[0]) instead\n",
      "  mean_values['High'] = round(float(stock_data['High'].mean()), 2)\n",
      "/var/folders/cs/3lkp2pnd6j17xyfbtckgkhn40000gn/T/ipykernel_70060/1636383839.py:66: FutureWarning: Calling float on a single element Series is deprecated and will raise a TypeError in the future. Use float(ser.iloc[0]) instead\n",
      "  mean_values['Low'] = round(float(stock_data['Low'].mean()), 2)\n",
      "/var/folders/cs/3lkp2pnd6j17xyfbtckgkhn40000gn/T/ipykernel_70060/1636383839.py:67: FutureWarning: Calling float on a single element Series is deprecated and will raise a TypeError in the future. Use float(ser.iloc[0]) instead\n",
      "  mean_values['Open'] = round(float(stock_data['Open'].mean()), 2)\n",
      "/var/folders/cs/3lkp2pnd6j17xyfbtckgkhn40000gn/T/ipykernel_70060/1636383839.py:68: FutureWarning: Calling int on a single element Series is deprecated and will raise a TypeError in the future. Use int(ser.iloc[0]) instead\n",
      "  mean_values['Volume'] = int(stock_data['Volume'].mean())\n"
     ]
    },
    {
     "name": "stdout",
     "output_type": "stream",
     "text": [
      "✅ Data for GULF.BK saved to Thai_ESG_Stock_Data/GULF.BK_2022_2024.csv\n",
      "Fetching data for GUNKUL.BK...\n"
     ]
    },
    {
     "name": "stderr",
     "output_type": "stream",
     "text": [
      "[*********************100%***********************]  1 of 1 completed\n",
      "/var/folders/cs/3lkp2pnd6j17xyfbtckgkhn40000gn/T/ipykernel_70060/1636383839.py:64: FutureWarning: Calling float on a single element Series is deprecated and will raise a TypeError in the future. Use float(ser.iloc[0]) instead\n",
      "  mean_values['Close'] = round(float(stock_data['Close'].mean()), 2)\n",
      "/var/folders/cs/3lkp2pnd6j17xyfbtckgkhn40000gn/T/ipykernel_70060/1636383839.py:65: FutureWarning: Calling float on a single element Series is deprecated and will raise a TypeError in the future. Use float(ser.iloc[0]) instead\n",
      "  mean_values['High'] = round(float(stock_data['High'].mean()), 2)\n",
      "/var/folders/cs/3lkp2pnd6j17xyfbtckgkhn40000gn/T/ipykernel_70060/1636383839.py:66: FutureWarning: Calling float on a single element Series is deprecated and will raise a TypeError in the future. Use float(ser.iloc[0]) instead\n",
      "  mean_values['Low'] = round(float(stock_data['Low'].mean()), 2)\n",
      "/var/folders/cs/3lkp2pnd6j17xyfbtckgkhn40000gn/T/ipykernel_70060/1636383839.py:67: FutureWarning: Calling float on a single element Series is deprecated and will raise a TypeError in the future. Use float(ser.iloc[0]) instead\n",
      "  mean_values['Open'] = round(float(stock_data['Open'].mean()), 2)\n",
      "/var/folders/cs/3lkp2pnd6j17xyfbtckgkhn40000gn/T/ipykernel_70060/1636383839.py:68: FutureWarning: Calling int on a single element Series is deprecated and will raise a TypeError in the future. Use int(ser.iloc[0]) instead\n",
      "  mean_values['Volume'] = int(stock_data['Volume'].mean())\n"
     ]
    },
    {
     "name": "stdout",
     "output_type": "stream",
     "text": [
      "✅ Data for GUNKUL.BK saved to Thai_ESG_Stock_Data/GUNKUL.BK_2022_2024.csv\n",
      "Fetching data for HANA.BK...\n"
     ]
    },
    {
     "name": "stderr",
     "output_type": "stream",
     "text": [
      "[*********************100%***********************]  1 of 1 completed\n",
      "/var/folders/cs/3lkp2pnd6j17xyfbtckgkhn40000gn/T/ipykernel_70060/1636383839.py:64: FutureWarning: Calling float on a single element Series is deprecated and will raise a TypeError in the future. Use float(ser.iloc[0]) instead\n",
      "  mean_values['Close'] = round(float(stock_data['Close'].mean()), 2)\n",
      "/var/folders/cs/3lkp2pnd6j17xyfbtckgkhn40000gn/T/ipykernel_70060/1636383839.py:65: FutureWarning: Calling float on a single element Series is deprecated and will raise a TypeError in the future. Use float(ser.iloc[0]) instead\n",
      "  mean_values['High'] = round(float(stock_data['High'].mean()), 2)\n",
      "/var/folders/cs/3lkp2pnd6j17xyfbtckgkhn40000gn/T/ipykernel_70060/1636383839.py:66: FutureWarning: Calling float on a single element Series is deprecated and will raise a TypeError in the future. Use float(ser.iloc[0]) instead\n",
      "  mean_values['Low'] = round(float(stock_data['Low'].mean()), 2)\n",
      "/var/folders/cs/3lkp2pnd6j17xyfbtckgkhn40000gn/T/ipykernel_70060/1636383839.py:67: FutureWarning: Calling float on a single element Series is deprecated and will raise a TypeError in the future. Use float(ser.iloc[0]) instead\n",
      "  mean_values['Open'] = round(float(stock_data['Open'].mean()), 2)\n",
      "/var/folders/cs/3lkp2pnd6j17xyfbtckgkhn40000gn/T/ipykernel_70060/1636383839.py:68: FutureWarning: Calling int on a single element Series is deprecated and will raise a TypeError in the future. Use int(ser.iloc[0]) instead\n",
      "  mean_values['Volume'] = int(stock_data['Volume'].mean())\n"
     ]
    },
    {
     "name": "stdout",
     "output_type": "stream",
     "text": [
      "✅ Data for HANA.BK saved to Thai_ESG_Stock_Data/HANA.BK_2022_2024.csv\n",
      "Fetching data for HENG.BK...\n"
     ]
    },
    {
     "name": "stderr",
     "output_type": "stream",
     "text": [
      "[*********************100%***********************]  1 of 1 completed\n",
      "/var/folders/cs/3lkp2pnd6j17xyfbtckgkhn40000gn/T/ipykernel_70060/1636383839.py:64: FutureWarning: Calling float on a single element Series is deprecated and will raise a TypeError in the future. Use float(ser.iloc[0]) instead\n",
      "  mean_values['Close'] = round(float(stock_data['Close'].mean()), 2)\n",
      "/var/folders/cs/3lkp2pnd6j17xyfbtckgkhn40000gn/T/ipykernel_70060/1636383839.py:65: FutureWarning: Calling float on a single element Series is deprecated and will raise a TypeError in the future. Use float(ser.iloc[0]) instead\n",
      "  mean_values['High'] = round(float(stock_data['High'].mean()), 2)\n",
      "/var/folders/cs/3lkp2pnd6j17xyfbtckgkhn40000gn/T/ipykernel_70060/1636383839.py:66: FutureWarning: Calling float on a single element Series is deprecated and will raise a TypeError in the future. Use float(ser.iloc[0]) instead\n",
      "  mean_values['Low'] = round(float(stock_data['Low'].mean()), 2)\n",
      "/var/folders/cs/3lkp2pnd6j17xyfbtckgkhn40000gn/T/ipykernel_70060/1636383839.py:67: FutureWarning: Calling float on a single element Series is deprecated and will raise a TypeError in the future. Use float(ser.iloc[0]) instead\n",
      "  mean_values['Open'] = round(float(stock_data['Open'].mean()), 2)\n",
      "/var/folders/cs/3lkp2pnd6j17xyfbtckgkhn40000gn/T/ipykernel_70060/1636383839.py:68: FutureWarning: Calling int on a single element Series is deprecated and will raise a TypeError in the future. Use int(ser.iloc[0]) instead\n",
      "  mean_values['Volume'] = int(stock_data['Volume'].mean())\n"
     ]
    },
    {
     "name": "stdout",
     "output_type": "stream",
     "text": [
      "✅ Data for HENG.BK saved to Thai_ESG_Stock_Data/HENG.BK_2022_2024.csv\n",
      "Fetching data for HMPRO.BK...\n"
     ]
    },
    {
     "name": "stderr",
     "output_type": "stream",
     "text": [
      "[*********************100%***********************]  1 of 1 completed\n",
      "/var/folders/cs/3lkp2pnd6j17xyfbtckgkhn40000gn/T/ipykernel_70060/1636383839.py:64: FutureWarning: Calling float on a single element Series is deprecated and will raise a TypeError in the future. Use float(ser.iloc[0]) instead\n",
      "  mean_values['Close'] = round(float(stock_data['Close'].mean()), 2)\n",
      "/var/folders/cs/3lkp2pnd6j17xyfbtckgkhn40000gn/T/ipykernel_70060/1636383839.py:65: FutureWarning: Calling float on a single element Series is deprecated and will raise a TypeError in the future. Use float(ser.iloc[0]) instead\n",
      "  mean_values['High'] = round(float(stock_data['High'].mean()), 2)\n",
      "/var/folders/cs/3lkp2pnd6j17xyfbtckgkhn40000gn/T/ipykernel_70060/1636383839.py:66: FutureWarning: Calling float on a single element Series is deprecated and will raise a TypeError in the future. Use float(ser.iloc[0]) instead\n",
      "  mean_values['Low'] = round(float(stock_data['Low'].mean()), 2)\n",
      "/var/folders/cs/3lkp2pnd6j17xyfbtckgkhn40000gn/T/ipykernel_70060/1636383839.py:67: FutureWarning: Calling float on a single element Series is deprecated and will raise a TypeError in the future. Use float(ser.iloc[0]) instead\n",
      "  mean_values['Open'] = round(float(stock_data['Open'].mean()), 2)\n",
      "/var/folders/cs/3lkp2pnd6j17xyfbtckgkhn40000gn/T/ipykernel_70060/1636383839.py:68: FutureWarning: Calling int on a single element Series is deprecated and will raise a TypeError in the future. Use int(ser.iloc[0]) instead\n",
      "  mean_values['Volume'] = int(stock_data['Volume'].mean())\n"
     ]
    },
    {
     "name": "stdout",
     "output_type": "stream",
     "text": [
      "✅ Data for HMPRO.BK saved to Thai_ESG_Stock_Data/HMPRO.BK_2022_2024.csv\n",
      "Fetching data for HTC.BK...\n"
     ]
    },
    {
     "name": "stderr",
     "output_type": "stream",
     "text": [
      "[*********************100%***********************]  1 of 1 completed\n",
      "/var/folders/cs/3lkp2pnd6j17xyfbtckgkhn40000gn/T/ipykernel_70060/1636383839.py:64: FutureWarning: Calling float on a single element Series is deprecated and will raise a TypeError in the future. Use float(ser.iloc[0]) instead\n",
      "  mean_values['Close'] = round(float(stock_data['Close'].mean()), 2)\n",
      "/var/folders/cs/3lkp2pnd6j17xyfbtckgkhn40000gn/T/ipykernel_70060/1636383839.py:65: FutureWarning: Calling float on a single element Series is deprecated and will raise a TypeError in the future. Use float(ser.iloc[0]) instead\n",
      "  mean_values['High'] = round(float(stock_data['High'].mean()), 2)\n",
      "/var/folders/cs/3lkp2pnd6j17xyfbtckgkhn40000gn/T/ipykernel_70060/1636383839.py:66: FutureWarning: Calling float on a single element Series is deprecated and will raise a TypeError in the future. Use float(ser.iloc[0]) instead\n",
      "  mean_values['Low'] = round(float(stock_data['Low'].mean()), 2)\n",
      "/var/folders/cs/3lkp2pnd6j17xyfbtckgkhn40000gn/T/ipykernel_70060/1636383839.py:67: FutureWarning: Calling float on a single element Series is deprecated and will raise a TypeError in the future. Use float(ser.iloc[0]) instead\n",
      "  mean_values['Open'] = round(float(stock_data['Open'].mean()), 2)\n",
      "/var/folders/cs/3lkp2pnd6j17xyfbtckgkhn40000gn/T/ipykernel_70060/1636383839.py:68: FutureWarning: Calling int on a single element Series is deprecated and will raise a TypeError in the future. Use int(ser.iloc[0]) instead\n",
      "  mean_values['Volume'] = int(stock_data['Volume'].mean())\n"
     ]
    },
    {
     "name": "stdout",
     "output_type": "stream",
     "text": [
      "✅ Data for HTC.BK saved to Thai_ESG_Stock_Data/HTC.BK_2022_2024.csv\n",
      "Fetching data for ICHI.BK...\n"
     ]
    },
    {
     "name": "stderr",
     "output_type": "stream",
     "text": [
      "[*********************100%***********************]  1 of 1 completed\n",
      "/var/folders/cs/3lkp2pnd6j17xyfbtckgkhn40000gn/T/ipykernel_70060/1636383839.py:64: FutureWarning: Calling float on a single element Series is deprecated and will raise a TypeError in the future. Use float(ser.iloc[0]) instead\n",
      "  mean_values['Close'] = round(float(stock_data['Close'].mean()), 2)\n",
      "/var/folders/cs/3lkp2pnd6j17xyfbtckgkhn40000gn/T/ipykernel_70060/1636383839.py:65: FutureWarning: Calling float on a single element Series is deprecated and will raise a TypeError in the future. Use float(ser.iloc[0]) instead\n",
      "  mean_values['High'] = round(float(stock_data['High'].mean()), 2)\n",
      "/var/folders/cs/3lkp2pnd6j17xyfbtckgkhn40000gn/T/ipykernel_70060/1636383839.py:66: FutureWarning: Calling float on a single element Series is deprecated and will raise a TypeError in the future. Use float(ser.iloc[0]) instead\n",
      "  mean_values['Low'] = round(float(stock_data['Low'].mean()), 2)\n",
      "/var/folders/cs/3lkp2pnd6j17xyfbtckgkhn40000gn/T/ipykernel_70060/1636383839.py:67: FutureWarning: Calling float on a single element Series is deprecated and will raise a TypeError in the future. Use float(ser.iloc[0]) instead\n",
      "  mean_values['Open'] = round(float(stock_data['Open'].mean()), 2)\n",
      "/var/folders/cs/3lkp2pnd6j17xyfbtckgkhn40000gn/T/ipykernel_70060/1636383839.py:68: FutureWarning: Calling int on a single element Series is deprecated and will raise a TypeError in the future. Use int(ser.iloc[0]) instead\n",
      "  mean_values['Volume'] = int(stock_data['Volume'].mean())\n"
     ]
    },
    {
     "name": "stdout",
     "output_type": "stream",
     "text": [
      "✅ Data for ICHI.BK saved to Thai_ESG_Stock_Data/ICHI.BK_2022_2024.csv\n",
      "Fetching data for III.BK...\n"
     ]
    },
    {
     "name": "stderr",
     "output_type": "stream",
     "text": [
      "[*********************100%***********************]  1 of 1 completed\n",
      "/var/folders/cs/3lkp2pnd6j17xyfbtckgkhn40000gn/T/ipykernel_70060/1636383839.py:64: FutureWarning: Calling float on a single element Series is deprecated and will raise a TypeError in the future. Use float(ser.iloc[0]) instead\n",
      "  mean_values['Close'] = round(float(stock_data['Close'].mean()), 2)\n",
      "/var/folders/cs/3lkp2pnd6j17xyfbtckgkhn40000gn/T/ipykernel_70060/1636383839.py:65: FutureWarning: Calling float on a single element Series is deprecated and will raise a TypeError in the future. Use float(ser.iloc[0]) instead\n",
      "  mean_values['High'] = round(float(stock_data['High'].mean()), 2)\n",
      "/var/folders/cs/3lkp2pnd6j17xyfbtckgkhn40000gn/T/ipykernel_70060/1636383839.py:66: FutureWarning: Calling float on a single element Series is deprecated and will raise a TypeError in the future. Use float(ser.iloc[0]) instead\n",
      "  mean_values['Low'] = round(float(stock_data['Low'].mean()), 2)\n",
      "/var/folders/cs/3lkp2pnd6j17xyfbtckgkhn40000gn/T/ipykernel_70060/1636383839.py:67: FutureWarning: Calling float on a single element Series is deprecated and will raise a TypeError in the future. Use float(ser.iloc[0]) instead\n",
      "  mean_values['Open'] = round(float(stock_data['Open'].mean()), 2)\n",
      "/var/folders/cs/3lkp2pnd6j17xyfbtckgkhn40000gn/T/ipykernel_70060/1636383839.py:68: FutureWarning: Calling int on a single element Series is deprecated and will raise a TypeError in the future. Use int(ser.iloc[0]) instead\n",
      "  mean_values['Volume'] = int(stock_data['Volume'].mean())\n"
     ]
    },
    {
     "name": "stdout",
     "output_type": "stream",
     "text": [
      "✅ Data for III.BK saved to Thai_ESG_Stock_Data/III.BK_2022_2024.csv\n",
      "Fetching data for ILM.BK...\n"
     ]
    },
    {
     "name": "stderr",
     "output_type": "stream",
     "text": [
      "[*********************100%***********************]  1 of 1 completed\n",
      "/var/folders/cs/3lkp2pnd6j17xyfbtckgkhn40000gn/T/ipykernel_70060/1636383839.py:64: FutureWarning: Calling float on a single element Series is deprecated and will raise a TypeError in the future. Use float(ser.iloc[0]) instead\n",
      "  mean_values['Close'] = round(float(stock_data['Close'].mean()), 2)\n",
      "/var/folders/cs/3lkp2pnd6j17xyfbtckgkhn40000gn/T/ipykernel_70060/1636383839.py:65: FutureWarning: Calling float on a single element Series is deprecated and will raise a TypeError in the future. Use float(ser.iloc[0]) instead\n",
      "  mean_values['High'] = round(float(stock_data['High'].mean()), 2)\n",
      "/var/folders/cs/3lkp2pnd6j17xyfbtckgkhn40000gn/T/ipykernel_70060/1636383839.py:66: FutureWarning: Calling float on a single element Series is deprecated and will raise a TypeError in the future. Use float(ser.iloc[0]) instead\n",
      "  mean_values['Low'] = round(float(stock_data['Low'].mean()), 2)\n",
      "/var/folders/cs/3lkp2pnd6j17xyfbtckgkhn40000gn/T/ipykernel_70060/1636383839.py:67: FutureWarning: Calling float on a single element Series is deprecated and will raise a TypeError in the future. Use float(ser.iloc[0]) instead\n",
      "  mean_values['Open'] = round(float(stock_data['Open'].mean()), 2)\n",
      "/var/folders/cs/3lkp2pnd6j17xyfbtckgkhn40000gn/T/ipykernel_70060/1636383839.py:68: FutureWarning: Calling int on a single element Series is deprecated and will raise a TypeError in the future. Use int(ser.iloc[0]) instead\n",
      "  mean_values['Volume'] = int(stock_data['Volume'].mean())\n"
     ]
    },
    {
     "name": "stdout",
     "output_type": "stream",
     "text": [
      "✅ Data for ILM.BK saved to Thai_ESG_Stock_Data/ILM.BK_2022_2024.csv\n",
      "Fetching data for INTUCH.BK...\n"
     ]
    },
    {
     "name": "stderr",
     "output_type": "stream",
     "text": [
      "[*********************100%***********************]  1 of 1 completed\n",
      "/var/folders/cs/3lkp2pnd6j17xyfbtckgkhn40000gn/T/ipykernel_70060/1636383839.py:64: FutureWarning: Calling float on a single element Series is deprecated and will raise a TypeError in the future. Use float(ser.iloc[0]) instead\n",
      "  mean_values['Close'] = round(float(stock_data['Close'].mean()), 2)\n",
      "/var/folders/cs/3lkp2pnd6j17xyfbtckgkhn40000gn/T/ipykernel_70060/1636383839.py:65: FutureWarning: Calling float on a single element Series is deprecated and will raise a TypeError in the future. Use float(ser.iloc[0]) instead\n",
      "  mean_values['High'] = round(float(stock_data['High'].mean()), 2)\n",
      "/var/folders/cs/3lkp2pnd6j17xyfbtckgkhn40000gn/T/ipykernel_70060/1636383839.py:66: FutureWarning: Calling float on a single element Series is deprecated and will raise a TypeError in the future. Use float(ser.iloc[0]) instead\n",
      "  mean_values['Low'] = round(float(stock_data['Low'].mean()), 2)\n",
      "/var/folders/cs/3lkp2pnd6j17xyfbtckgkhn40000gn/T/ipykernel_70060/1636383839.py:67: FutureWarning: Calling float on a single element Series is deprecated and will raise a TypeError in the future. Use float(ser.iloc[0]) instead\n",
      "  mean_values['Open'] = round(float(stock_data['Open'].mean()), 2)\n",
      "/var/folders/cs/3lkp2pnd6j17xyfbtckgkhn40000gn/T/ipykernel_70060/1636383839.py:68: FutureWarning: Calling int on a single element Series is deprecated and will raise a TypeError in the future. Use int(ser.iloc[0]) instead\n",
      "  mean_values['Volume'] = int(stock_data['Volume'].mean())\n"
     ]
    },
    {
     "name": "stdout",
     "output_type": "stream",
     "text": [
      "✅ Data for INTUCH.BK saved to Thai_ESG_Stock_Data/INTUCH.BK_2022_2024.csv\n",
      "Fetching data for IVL.BK...\n"
     ]
    },
    {
     "name": "stderr",
     "output_type": "stream",
     "text": [
      "[*********************100%***********************]  1 of 1 completed\n",
      "/var/folders/cs/3lkp2pnd6j17xyfbtckgkhn40000gn/T/ipykernel_70060/1636383839.py:64: FutureWarning: Calling float on a single element Series is deprecated and will raise a TypeError in the future. Use float(ser.iloc[0]) instead\n",
      "  mean_values['Close'] = round(float(stock_data['Close'].mean()), 2)\n",
      "/var/folders/cs/3lkp2pnd6j17xyfbtckgkhn40000gn/T/ipykernel_70060/1636383839.py:65: FutureWarning: Calling float on a single element Series is deprecated and will raise a TypeError in the future. Use float(ser.iloc[0]) instead\n",
      "  mean_values['High'] = round(float(stock_data['High'].mean()), 2)\n",
      "/var/folders/cs/3lkp2pnd6j17xyfbtckgkhn40000gn/T/ipykernel_70060/1636383839.py:66: FutureWarning: Calling float on a single element Series is deprecated and will raise a TypeError in the future. Use float(ser.iloc[0]) instead\n",
      "  mean_values['Low'] = round(float(stock_data['Low'].mean()), 2)\n",
      "/var/folders/cs/3lkp2pnd6j17xyfbtckgkhn40000gn/T/ipykernel_70060/1636383839.py:67: FutureWarning: Calling float on a single element Series is deprecated and will raise a TypeError in the future. Use float(ser.iloc[0]) instead\n",
      "  mean_values['Open'] = round(float(stock_data['Open'].mean()), 2)\n",
      "/var/folders/cs/3lkp2pnd6j17xyfbtckgkhn40000gn/T/ipykernel_70060/1636383839.py:68: FutureWarning: Calling int on a single element Series is deprecated and will raise a TypeError in the future. Use int(ser.iloc[0]) instead\n",
      "  mean_values['Volume'] = int(stock_data['Volume'].mean())\n"
     ]
    },
    {
     "name": "stdout",
     "output_type": "stream",
     "text": [
      "✅ Data for IVL.BK saved to Thai_ESG_Stock_Data/IVL.BK_2022_2024.csv\n",
      "Fetching data for JMART.BK...\n"
     ]
    },
    {
     "name": "stderr",
     "output_type": "stream",
     "text": [
      "[*********************100%***********************]  1 of 1 completed\n",
      "/var/folders/cs/3lkp2pnd6j17xyfbtckgkhn40000gn/T/ipykernel_70060/1636383839.py:64: FutureWarning: Calling float on a single element Series is deprecated and will raise a TypeError in the future. Use float(ser.iloc[0]) instead\n",
      "  mean_values['Close'] = round(float(stock_data['Close'].mean()), 2)\n",
      "/var/folders/cs/3lkp2pnd6j17xyfbtckgkhn40000gn/T/ipykernel_70060/1636383839.py:65: FutureWarning: Calling float on a single element Series is deprecated and will raise a TypeError in the future. Use float(ser.iloc[0]) instead\n",
      "  mean_values['High'] = round(float(stock_data['High'].mean()), 2)\n",
      "/var/folders/cs/3lkp2pnd6j17xyfbtckgkhn40000gn/T/ipykernel_70060/1636383839.py:66: FutureWarning: Calling float on a single element Series is deprecated and will raise a TypeError in the future. Use float(ser.iloc[0]) instead\n",
      "  mean_values['Low'] = round(float(stock_data['Low'].mean()), 2)\n",
      "/var/folders/cs/3lkp2pnd6j17xyfbtckgkhn40000gn/T/ipykernel_70060/1636383839.py:67: FutureWarning: Calling float on a single element Series is deprecated and will raise a TypeError in the future. Use float(ser.iloc[0]) instead\n",
      "  mean_values['Open'] = round(float(stock_data['Open'].mean()), 2)\n",
      "/var/folders/cs/3lkp2pnd6j17xyfbtckgkhn40000gn/T/ipykernel_70060/1636383839.py:68: FutureWarning: Calling int on a single element Series is deprecated and will raise a TypeError in the future. Use int(ser.iloc[0]) instead\n",
      "  mean_values['Volume'] = int(stock_data['Volume'].mean())\n"
     ]
    },
    {
     "name": "stdout",
     "output_type": "stream",
     "text": [
      "✅ Data for JMART.BK saved to Thai_ESG_Stock_Data/JMART.BK_2022_2024.csv\n",
      "Fetching data for JMT.BK...\n"
     ]
    },
    {
     "name": "stderr",
     "output_type": "stream",
     "text": [
      "[*********************100%***********************]  1 of 1 completed\n",
      "/var/folders/cs/3lkp2pnd6j17xyfbtckgkhn40000gn/T/ipykernel_70060/1636383839.py:64: FutureWarning: Calling float on a single element Series is deprecated and will raise a TypeError in the future. Use float(ser.iloc[0]) instead\n",
      "  mean_values['Close'] = round(float(stock_data['Close'].mean()), 2)\n",
      "/var/folders/cs/3lkp2pnd6j17xyfbtckgkhn40000gn/T/ipykernel_70060/1636383839.py:65: FutureWarning: Calling float on a single element Series is deprecated and will raise a TypeError in the future. Use float(ser.iloc[0]) instead\n",
      "  mean_values['High'] = round(float(stock_data['High'].mean()), 2)\n",
      "/var/folders/cs/3lkp2pnd6j17xyfbtckgkhn40000gn/T/ipykernel_70060/1636383839.py:66: FutureWarning: Calling float on a single element Series is deprecated and will raise a TypeError in the future. Use float(ser.iloc[0]) instead\n",
      "  mean_values['Low'] = round(float(stock_data['Low'].mean()), 2)\n",
      "/var/folders/cs/3lkp2pnd6j17xyfbtckgkhn40000gn/T/ipykernel_70060/1636383839.py:67: FutureWarning: Calling float on a single element Series is deprecated and will raise a TypeError in the future. Use float(ser.iloc[0]) instead\n",
      "  mean_values['Open'] = round(float(stock_data['Open'].mean()), 2)\n",
      "/var/folders/cs/3lkp2pnd6j17xyfbtckgkhn40000gn/T/ipykernel_70060/1636383839.py:68: FutureWarning: Calling int on a single element Series is deprecated and will raise a TypeError in the future. Use int(ser.iloc[0]) instead\n",
      "  mean_values['Volume'] = int(stock_data['Volume'].mean())\n"
     ]
    },
    {
     "name": "stdout",
     "output_type": "stream",
     "text": [
      "✅ Data for JMT.BK saved to Thai_ESG_Stock_Data/JMT.BK_2022_2024.csv\n",
      "Fetching data for JTS.BK...\n"
     ]
    },
    {
     "name": "stderr",
     "output_type": "stream",
     "text": [
      "[*********************100%***********************]  1 of 1 completed\n",
      "/var/folders/cs/3lkp2pnd6j17xyfbtckgkhn40000gn/T/ipykernel_70060/1636383839.py:64: FutureWarning: Calling float on a single element Series is deprecated and will raise a TypeError in the future. Use float(ser.iloc[0]) instead\n",
      "  mean_values['Close'] = round(float(stock_data['Close'].mean()), 2)\n",
      "/var/folders/cs/3lkp2pnd6j17xyfbtckgkhn40000gn/T/ipykernel_70060/1636383839.py:65: FutureWarning: Calling float on a single element Series is deprecated and will raise a TypeError in the future. Use float(ser.iloc[0]) instead\n",
      "  mean_values['High'] = round(float(stock_data['High'].mean()), 2)\n",
      "/var/folders/cs/3lkp2pnd6j17xyfbtckgkhn40000gn/T/ipykernel_70060/1636383839.py:66: FutureWarning: Calling float on a single element Series is deprecated and will raise a TypeError in the future. Use float(ser.iloc[0]) instead\n",
      "  mean_values['Low'] = round(float(stock_data['Low'].mean()), 2)\n",
      "/var/folders/cs/3lkp2pnd6j17xyfbtckgkhn40000gn/T/ipykernel_70060/1636383839.py:67: FutureWarning: Calling float on a single element Series is deprecated and will raise a TypeError in the future. Use float(ser.iloc[0]) instead\n",
      "  mean_values['Open'] = round(float(stock_data['Open'].mean()), 2)\n",
      "/var/folders/cs/3lkp2pnd6j17xyfbtckgkhn40000gn/T/ipykernel_70060/1636383839.py:68: FutureWarning: Calling int on a single element Series is deprecated and will raise a TypeError in the future. Use int(ser.iloc[0]) instead\n",
      "  mean_values['Volume'] = int(stock_data['Volume'].mean())\n",
      "[*********************100%***********************]  1 of 1 completed\n",
      "/var/folders/cs/3lkp2pnd6j17xyfbtckgkhn40000gn/T/ipykernel_70060/1636383839.py:64: FutureWarning: Calling float on a single element Series is deprecated and will raise a TypeError in the future. Use float(ser.iloc[0]) instead\n",
      "  mean_values['Close'] = round(float(stock_data['Close'].mean()), 2)\n",
      "/var/folders/cs/3lkp2pnd6j17xyfbtckgkhn40000gn/T/ipykernel_70060/1636383839.py:65: FutureWarning: Calling float on a single element Series is deprecated and will raise a TypeError in the future. Use float(ser.iloc[0]) instead\n",
      "  mean_values['High'] = round(float(stock_data['High'].mean()), 2)\n",
      "/var/folders/cs/3lkp2pnd6j17xyfbtckgkhn40000gn/T/ipykernel_70060/1636383839.py:66: FutureWarning: Calling float on a single element Series is deprecated and will raise a TypeError in the future. Use float(ser.iloc[0]) instead\n",
      "  mean_values['Low'] = round(float(stock_data['Low'].mean()), 2)\n",
      "/var/folders/cs/3lkp2pnd6j17xyfbtckgkhn40000gn/T/ipykernel_70060/1636383839.py:67: FutureWarning: Calling float on a single element Series is deprecated and will raise a TypeError in the future. Use float(ser.iloc[0]) instead\n",
      "  mean_values['Open'] = round(float(stock_data['Open'].mean()), 2)\n",
      "/var/folders/cs/3lkp2pnd6j17xyfbtckgkhn40000gn/T/ipykernel_70060/1636383839.py:68: FutureWarning: Calling int on a single element Series is deprecated and will raise a TypeError in the future. Use int(ser.iloc[0]) instead\n",
      "  mean_values['Volume'] = int(stock_data['Volume'].mean())\n"
     ]
    },
    {
     "name": "stdout",
     "output_type": "stream",
     "text": [
      "✅ Data for JTS.BK saved to Thai_ESG_Stock_Data/JTS.BK_2022_2024.csv\n",
      "Fetching data for KBANK.BK...\n",
      "✅ Data for KBANK.BK saved to Thai_ESG_Stock_Data/KBANK.BK_2022_2024.csv\n",
      "Fetching data for KCE.BK...\n"
     ]
    },
    {
     "name": "stderr",
     "output_type": "stream",
     "text": [
      "[*********************100%***********************]  1 of 1 completed\n",
      "/var/folders/cs/3lkp2pnd6j17xyfbtckgkhn40000gn/T/ipykernel_70060/1636383839.py:64: FutureWarning: Calling float on a single element Series is deprecated and will raise a TypeError in the future. Use float(ser.iloc[0]) instead\n",
      "  mean_values['Close'] = round(float(stock_data['Close'].mean()), 2)\n",
      "/var/folders/cs/3lkp2pnd6j17xyfbtckgkhn40000gn/T/ipykernel_70060/1636383839.py:65: FutureWarning: Calling float on a single element Series is deprecated and will raise a TypeError in the future. Use float(ser.iloc[0]) instead\n",
      "  mean_values['High'] = round(float(stock_data['High'].mean()), 2)\n",
      "/var/folders/cs/3lkp2pnd6j17xyfbtckgkhn40000gn/T/ipykernel_70060/1636383839.py:66: FutureWarning: Calling float on a single element Series is deprecated and will raise a TypeError in the future. Use float(ser.iloc[0]) instead\n",
      "  mean_values['Low'] = round(float(stock_data['Low'].mean()), 2)\n",
      "/var/folders/cs/3lkp2pnd6j17xyfbtckgkhn40000gn/T/ipykernel_70060/1636383839.py:67: FutureWarning: Calling float on a single element Series is deprecated and will raise a TypeError in the future. Use float(ser.iloc[0]) instead\n",
      "  mean_values['Open'] = round(float(stock_data['Open'].mean()), 2)\n",
      "/var/folders/cs/3lkp2pnd6j17xyfbtckgkhn40000gn/T/ipykernel_70060/1636383839.py:68: FutureWarning: Calling int on a single element Series is deprecated and will raise a TypeError in the future. Use int(ser.iloc[0]) instead\n",
      "  mean_values['Volume'] = int(stock_data['Volume'].mean())\n"
     ]
    },
    {
     "name": "stdout",
     "output_type": "stream",
     "text": [
      "✅ Data for KCE.BK saved to Thai_ESG_Stock_Data/KCE.BK_2022_2024.csv\n",
      "Fetching data for KCG.BK...\n"
     ]
    },
    {
     "name": "stderr",
     "output_type": "stream",
     "text": [
      "[*********************100%***********************]  1 of 1 completed\n",
      "/var/folders/cs/3lkp2pnd6j17xyfbtckgkhn40000gn/T/ipykernel_70060/1636383839.py:64: FutureWarning: Calling float on a single element Series is deprecated and will raise a TypeError in the future. Use float(ser.iloc[0]) instead\n",
      "  mean_values['Close'] = round(float(stock_data['Close'].mean()), 2)\n",
      "/var/folders/cs/3lkp2pnd6j17xyfbtckgkhn40000gn/T/ipykernel_70060/1636383839.py:65: FutureWarning: Calling float on a single element Series is deprecated and will raise a TypeError in the future. Use float(ser.iloc[0]) instead\n",
      "  mean_values['High'] = round(float(stock_data['High'].mean()), 2)\n",
      "/var/folders/cs/3lkp2pnd6j17xyfbtckgkhn40000gn/T/ipykernel_70060/1636383839.py:66: FutureWarning: Calling float on a single element Series is deprecated and will raise a TypeError in the future. Use float(ser.iloc[0]) instead\n",
      "  mean_values['Low'] = round(float(stock_data['Low'].mean()), 2)\n",
      "/var/folders/cs/3lkp2pnd6j17xyfbtckgkhn40000gn/T/ipykernel_70060/1636383839.py:67: FutureWarning: Calling float on a single element Series is deprecated and will raise a TypeError in the future. Use float(ser.iloc[0]) instead\n",
      "  mean_values['Open'] = round(float(stock_data['Open'].mean()), 2)\n",
      "/var/folders/cs/3lkp2pnd6j17xyfbtckgkhn40000gn/T/ipykernel_70060/1636383839.py:68: FutureWarning: Calling int on a single element Series is deprecated and will raise a TypeError in the future. Use int(ser.iloc[0]) instead\n",
      "  mean_values['Volume'] = int(stock_data['Volume'].mean())\n"
     ]
    },
    {
     "name": "stdout",
     "output_type": "stream",
     "text": [
      "✅ Data for KCG.BK saved to Thai_ESG_Stock_Data/KCG.BK_2022_2024.csv\n",
      "Fetching data for KKP.BK...\n"
     ]
    },
    {
     "name": "stderr",
     "output_type": "stream",
     "text": [
      "[*********************100%***********************]  1 of 1 completed\n",
      "/var/folders/cs/3lkp2pnd6j17xyfbtckgkhn40000gn/T/ipykernel_70060/1636383839.py:64: FutureWarning: Calling float on a single element Series is deprecated and will raise a TypeError in the future. Use float(ser.iloc[0]) instead\n",
      "  mean_values['Close'] = round(float(stock_data['Close'].mean()), 2)\n",
      "/var/folders/cs/3lkp2pnd6j17xyfbtckgkhn40000gn/T/ipykernel_70060/1636383839.py:65: FutureWarning: Calling float on a single element Series is deprecated and will raise a TypeError in the future. Use float(ser.iloc[0]) instead\n",
      "  mean_values['High'] = round(float(stock_data['High'].mean()), 2)\n",
      "/var/folders/cs/3lkp2pnd6j17xyfbtckgkhn40000gn/T/ipykernel_70060/1636383839.py:66: FutureWarning: Calling float on a single element Series is deprecated and will raise a TypeError in the future. Use float(ser.iloc[0]) instead\n",
      "  mean_values['Low'] = round(float(stock_data['Low'].mean()), 2)\n",
      "/var/folders/cs/3lkp2pnd6j17xyfbtckgkhn40000gn/T/ipykernel_70060/1636383839.py:67: FutureWarning: Calling float on a single element Series is deprecated and will raise a TypeError in the future. Use float(ser.iloc[0]) instead\n",
      "  mean_values['Open'] = round(float(stock_data['Open'].mean()), 2)\n",
      "/var/folders/cs/3lkp2pnd6j17xyfbtckgkhn40000gn/T/ipykernel_70060/1636383839.py:68: FutureWarning: Calling int on a single element Series is deprecated and will raise a TypeError in the future. Use int(ser.iloc[0]) instead\n",
      "  mean_values['Volume'] = int(stock_data['Volume'].mean())\n"
     ]
    },
    {
     "name": "stdout",
     "output_type": "stream",
     "text": [
      "✅ Data for KKP.BK saved to Thai_ESG_Stock_Data/KKP.BK_2022_2024.csv\n",
      "Fetching data for KTB.BK...\n"
     ]
    },
    {
     "name": "stderr",
     "output_type": "stream",
     "text": [
      "[*********************100%***********************]  1 of 1 completed\n",
      "/var/folders/cs/3lkp2pnd6j17xyfbtckgkhn40000gn/T/ipykernel_70060/1636383839.py:64: FutureWarning: Calling float on a single element Series is deprecated and will raise a TypeError in the future. Use float(ser.iloc[0]) instead\n",
      "  mean_values['Close'] = round(float(stock_data['Close'].mean()), 2)\n",
      "/var/folders/cs/3lkp2pnd6j17xyfbtckgkhn40000gn/T/ipykernel_70060/1636383839.py:65: FutureWarning: Calling float on a single element Series is deprecated and will raise a TypeError in the future. Use float(ser.iloc[0]) instead\n",
      "  mean_values['High'] = round(float(stock_data['High'].mean()), 2)\n",
      "/var/folders/cs/3lkp2pnd6j17xyfbtckgkhn40000gn/T/ipykernel_70060/1636383839.py:66: FutureWarning: Calling float on a single element Series is deprecated and will raise a TypeError in the future. Use float(ser.iloc[0]) instead\n",
      "  mean_values['Low'] = round(float(stock_data['Low'].mean()), 2)\n",
      "/var/folders/cs/3lkp2pnd6j17xyfbtckgkhn40000gn/T/ipykernel_70060/1636383839.py:67: FutureWarning: Calling float on a single element Series is deprecated and will raise a TypeError in the future. Use float(ser.iloc[0]) instead\n",
      "  mean_values['Open'] = round(float(stock_data['Open'].mean()), 2)\n",
      "/var/folders/cs/3lkp2pnd6j17xyfbtckgkhn40000gn/T/ipykernel_70060/1636383839.py:68: FutureWarning: Calling int on a single element Series is deprecated and will raise a TypeError in the future. Use int(ser.iloc[0]) instead\n",
      "  mean_values['Volume'] = int(stock_data['Volume'].mean())\n"
     ]
    },
    {
     "name": "stdout",
     "output_type": "stream",
     "text": [
      "✅ Data for KTB.BK saved to Thai_ESG_Stock_Data/KTB.BK_2022_2024.csv\n",
      "Fetching data for KTC.BK...\n"
     ]
    },
    {
     "name": "stderr",
     "output_type": "stream",
     "text": [
      "[*********************100%***********************]  1 of 1 completed\n",
      "/var/folders/cs/3lkp2pnd6j17xyfbtckgkhn40000gn/T/ipykernel_70060/1636383839.py:64: FutureWarning: Calling float on a single element Series is deprecated and will raise a TypeError in the future. Use float(ser.iloc[0]) instead\n",
      "  mean_values['Close'] = round(float(stock_data['Close'].mean()), 2)\n",
      "/var/folders/cs/3lkp2pnd6j17xyfbtckgkhn40000gn/T/ipykernel_70060/1636383839.py:65: FutureWarning: Calling float on a single element Series is deprecated and will raise a TypeError in the future. Use float(ser.iloc[0]) instead\n",
      "  mean_values['High'] = round(float(stock_data['High'].mean()), 2)\n",
      "/var/folders/cs/3lkp2pnd6j17xyfbtckgkhn40000gn/T/ipykernel_70060/1636383839.py:66: FutureWarning: Calling float on a single element Series is deprecated and will raise a TypeError in the future. Use float(ser.iloc[0]) instead\n",
      "  mean_values['Low'] = round(float(stock_data['Low'].mean()), 2)\n",
      "/var/folders/cs/3lkp2pnd6j17xyfbtckgkhn40000gn/T/ipykernel_70060/1636383839.py:67: FutureWarning: Calling float on a single element Series is deprecated and will raise a TypeError in the future. Use float(ser.iloc[0]) instead\n",
      "  mean_values['Open'] = round(float(stock_data['Open'].mean()), 2)\n",
      "/var/folders/cs/3lkp2pnd6j17xyfbtckgkhn40000gn/T/ipykernel_70060/1636383839.py:68: FutureWarning: Calling int on a single element Series is deprecated and will raise a TypeError in the future. Use int(ser.iloc[0]) instead\n",
      "  mean_values['Volume'] = int(stock_data['Volume'].mean())\n"
     ]
    },
    {
     "name": "stdout",
     "output_type": "stream",
     "text": [
      "✅ Data for KTC.BK saved to Thai_ESG_Stock_Data/KTC.BK_2022_2024.csv\n",
      "Fetching data for LH.BK...\n"
     ]
    },
    {
     "name": "stderr",
     "output_type": "stream",
     "text": [
      "[*********************100%***********************]  1 of 1 completed\n",
      "/var/folders/cs/3lkp2pnd6j17xyfbtckgkhn40000gn/T/ipykernel_70060/1636383839.py:64: FutureWarning: Calling float on a single element Series is deprecated and will raise a TypeError in the future. Use float(ser.iloc[0]) instead\n",
      "  mean_values['Close'] = round(float(stock_data['Close'].mean()), 2)\n",
      "/var/folders/cs/3lkp2pnd6j17xyfbtckgkhn40000gn/T/ipykernel_70060/1636383839.py:65: FutureWarning: Calling float on a single element Series is deprecated and will raise a TypeError in the future. Use float(ser.iloc[0]) instead\n",
      "  mean_values['High'] = round(float(stock_data['High'].mean()), 2)\n",
      "/var/folders/cs/3lkp2pnd6j17xyfbtckgkhn40000gn/T/ipykernel_70060/1636383839.py:66: FutureWarning: Calling float on a single element Series is deprecated and will raise a TypeError in the future. Use float(ser.iloc[0]) instead\n",
      "  mean_values['Low'] = round(float(stock_data['Low'].mean()), 2)\n",
      "/var/folders/cs/3lkp2pnd6j17xyfbtckgkhn40000gn/T/ipykernel_70060/1636383839.py:67: FutureWarning: Calling float on a single element Series is deprecated and will raise a TypeError in the future. Use float(ser.iloc[0]) instead\n",
      "  mean_values['Open'] = round(float(stock_data['Open'].mean()), 2)\n",
      "/var/folders/cs/3lkp2pnd6j17xyfbtckgkhn40000gn/T/ipykernel_70060/1636383839.py:68: FutureWarning: Calling int on a single element Series is deprecated and will raise a TypeError in the future. Use int(ser.iloc[0]) instead\n",
      "  mean_values['Volume'] = int(stock_data['Volume'].mean())\n"
     ]
    },
    {
     "name": "stdout",
     "output_type": "stream",
     "text": [
      "✅ Data for LH.BK saved to Thai_ESG_Stock_Data/LH.BK_2022_2024.csv\n",
      "Fetching data for MAJOR.BK...\n"
     ]
    },
    {
     "name": "stderr",
     "output_type": "stream",
     "text": [
      "[*********************100%***********************]  1 of 1 completed\n",
      "/var/folders/cs/3lkp2pnd6j17xyfbtckgkhn40000gn/T/ipykernel_70060/1636383839.py:64: FutureWarning: Calling float on a single element Series is deprecated and will raise a TypeError in the future. Use float(ser.iloc[0]) instead\n",
      "  mean_values['Close'] = round(float(stock_data['Close'].mean()), 2)\n",
      "/var/folders/cs/3lkp2pnd6j17xyfbtckgkhn40000gn/T/ipykernel_70060/1636383839.py:65: FutureWarning: Calling float on a single element Series is deprecated and will raise a TypeError in the future. Use float(ser.iloc[0]) instead\n",
      "  mean_values['High'] = round(float(stock_data['High'].mean()), 2)\n",
      "/var/folders/cs/3lkp2pnd6j17xyfbtckgkhn40000gn/T/ipykernel_70060/1636383839.py:66: FutureWarning: Calling float on a single element Series is deprecated and will raise a TypeError in the future. Use float(ser.iloc[0]) instead\n",
      "  mean_values['Low'] = round(float(stock_data['Low'].mean()), 2)\n",
      "/var/folders/cs/3lkp2pnd6j17xyfbtckgkhn40000gn/T/ipykernel_70060/1636383839.py:67: FutureWarning: Calling float on a single element Series is deprecated and will raise a TypeError in the future. Use float(ser.iloc[0]) instead\n",
      "  mean_values['Open'] = round(float(stock_data['Open'].mean()), 2)\n",
      "/var/folders/cs/3lkp2pnd6j17xyfbtckgkhn40000gn/T/ipykernel_70060/1636383839.py:68: FutureWarning: Calling int on a single element Series is deprecated and will raise a TypeError in the future. Use int(ser.iloc[0]) instead\n",
      "  mean_values['Volume'] = int(stock_data['Volume'].mean())\n",
      "[*********************100%***********************]  1 of 1 completed\n"
     ]
    },
    {
     "name": "stdout",
     "output_type": "stream",
     "text": [
      "✅ Data for MAJOR.BK saved to Thai_ESG_Stock_Data/MAJOR.BK_2022_2024.csv\n",
      "Fetching data for MBK.BK...\n",
      "✅ Data for MBK.BK saved to Thai_ESG_Stock_Data/MBK.BK_2022_2024.csv\n",
      "Fetching data for MC.BK...\n"
     ]
    },
    {
     "name": "stderr",
     "output_type": "stream",
     "text": [
      "/var/folders/cs/3lkp2pnd6j17xyfbtckgkhn40000gn/T/ipykernel_70060/1636383839.py:64: FutureWarning: Calling float on a single element Series is deprecated and will raise a TypeError in the future. Use float(ser.iloc[0]) instead\n",
      "  mean_values['Close'] = round(float(stock_data['Close'].mean()), 2)\n",
      "/var/folders/cs/3lkp2pnd6j17xyfbtckgkhn40000gn/T/ipykernel_70060/1636383839.py:65: FutureWarning: Calling float on a single element Series is deprecated and will raise a TypeError in the future. Use float(ser.iloc[0]) instead\n",
      "  mean_values['High'] = round(float(stock_data['High'].mean()), 2)\n",
      "/var/folders/cs/3lkp2pnd6j17xyfbtckgkhn40000gn/T/ipykernel_70060/1636383839.py:66: FutureWarning: Calling float on a single element Series is deprecated and will raise a TypeError in the future. Use float(ser.iloc[0]) instead\n",
      "  mean_values['Low'] = round(float(stock_data['Low'].mean()), 2)\n",
      "/var/folders/cs/3lkp2pnd6j17xyfbtckgkhn40000gn/T/ipykernel_70060/1636383839.py:67: FutureWarning: Calling float on a single element Series is deprecated and will raise a TypeError in the future. Use float(ser.iloc[0]) instead\n",
      "  mean_values['Open'] = round(float(stock_data['Open'].mean()), 2)\n",
      "/var/folders/cs/3lkp2pnd6j17xyfbtckgkhn40000gn/T/ipykernel_70060/1636383839.py:68: FutureWarning: Calling int on a single element Series is deprecated and will raise a TypeError in the future. Use int(ser.iloc[0]) instead\n",
      "  mean_values['Volume'] = int(stock_data['Volume'].mean())\n",
      "[*********************100%***********************]  1 of 1 completed\n",
      "/var/folders/cs/3lkp2pnd6j17xyfbtckgkhn40000gn/T/ipykernel_70060/1636383839.py:64: FutureWarning: Calling float on a single element Series is deprecated and will raise a TypeError in the future. Use float(ser.iloc[0]) instead\n",
      "  mean_values['Close'] = round(float(stock_data['Close'].mean()), 2)\n",
      "/var/folders/cs/3lkp2pnd6j17xyfbtckgkhn40000gn/T/ipykernel_70060/1636383839.py:65: FutureWarning: Calling float on a single element Series is deprecated and will raise a TypeError in the future. Use float(ser.iloc[0]) instead\n",
      "  mean_values['High'] = round(float(stock_data['High'].mean()), 2)\n",
      "/var/folders/cs/3lkp2pnd6j17xyfbtckgkhn40000gn/T/ipykernel_70060/1636383839.py:66: FutureWarning: Calling float on a single element Series is deprecated and will raise a TypeError in the future. Use float(ser.iloc[0]) instead\n",
      "  mean_values['Low'] = round(float(stock_data['Low'].mean()), 2)\n",
      "/var/folders/cs/3lkp2pnd6j17xyfbtckgkhn40000gn/T/ipykernel_70060/1636383839.py:67: FutureWarning: Calling float on a single element Series is deprecated and will raise a TypeError in the future. Use float(ser.iloc[0]) instead\n",
      "  mean_values['Open'] = round(float(stock_data['Open'].mean()), 2)\n",
      "/var/folders/cs/3lkp2pnd6j17xyfbtckgkhn40000gn/T/ipykernel_70060/1636383839.py:68: FutureWarning: Calling int on a single element Series is deprecated and will raise a TypeError in the future. Use int(ser.iloc[0]) instead\n",
      "  mean_values['Volume'] = int(stock_data['Volume'].mean())\n"
     ]
    },
    {
     "name": "stdout",
     "output_type": "stream",
     "text": [
      "✅ Data for MC.BK saved to Thai_ESG_Stock_Data/MC.BK_2022_2024.csv\n",
      "Fetching data for MEGA.BK...\n"
     ]
    },
    {
     "name": "stderr",
     "output_type": "stream",
     "text": [
      "[*********************100%***********************]  1 of 1 completed\n",
      "/var/folders/cs/3lkp2pnd6j17xyfbtckgkhn40000gn/T/ipykernel_70060/1636383839.py:64: FutureWarning: Calling float on a single element Series is deprecated and will raise a TypeError in the future. Use float(ser.iloc[0]) instead\n",
      "  mean_values['Close'] = round(float(stock_data['Close'].mean()), 2)\n",
      "/var/folders/cs/3lkp2pnd6j17xyfbtckgkhn40000gn/T/ipykernel_70060/1636383839.py:65: FutureWarning: Calling float on a single element Series is deprecated and will raise a TypeError in the future. Use float(ser.iloc[0]) instead\n",
      "  mean_values['High'] = round(float(stock_data['High'].mean()), 2)\n",
      "/var/folders/cs/3lkp2pnd6j17xyfbtckgkhn40000gn/T/ipykernel_70060/1636383839.py:66: FutureWarning: Calling float on a single element Series is deprecated and will raise a TypeError in the future. Use float(ser.iloc[0]) instead\n",
      "  mean_values['Low'] = round(float(stock_data['Low'].mean()), 2)\n",
      "/var/folders/cs/3lkp2pnd6j17xyfbtckgkhn40000gn/T/ipykernel_70060/1636383839.py:67: FutureWarning: Calling float on a single element Series is deprecated and will raise a TypeError in the future. Use float(ser.iloc[0]) instead\n",
      "  mean_values['Open'] = round(float(stock_data['Open'].mean()), 2)\n",
      "/var/folders/cs/3lkp2pnd6j17xyfbtckgkhn40000gn/T/ipykernel_70060/1636383839.py:68: FutureWarning: Calling int on a single element Series is deprecated and will raise a TypeError in the future. Use int(ser.iloc[0]) instead\n",
      "  mean_values['Volume'] = int(stock_data['Volume'].mean())\n"
     ]
    },
    {
     "name": "stdout",
     "output_type": "stream",
     "text": [
      "✅ Data for MEGA.BK saved to Thai_ESG_Stock_Data/MEGA.BK_2022_2024.csv\n",
      "Fetching data for MINT.BK...\n"
     ]
    },
    {
     "name": "stderr",
     "output_type": "stream",
     "text": [
      "[*********************100%***********************]  1 of 1 completed\n",
      "/var/folders/cs/3lkp2pnd6j17xyfbtckgkhn40000gn/T/ipykernel_70060/1636383839.py:64: FutureWarning: Calling float on a single element Series is deprecated and will raise a TypeError in the future. Use float(ser.iloc[0]) instead\n",
      "  mean_values['Close'] = round(float(stock_data['Close'].mean()), 2)\n",
      "/var/folders/cs/3lkp2pnd6j17xyfbtckgkhn40000gn/T/ipykernel_70060/1636383839.py:65: FutureWarning: Calling float on a single element Series is deprecated and will raise a TypeError in the future. Use float(ser.iloc[0]) instead\n",
      "  mean_values['High'] = round(float(stock_data['High'].mean()), 2)\n",
      "/var/folders/cs/3lkp2pnd6j17xyfbtckgkhn40000gn/T/ipykernel_70060/1636383839.py:66: FutureWarning: Calling float on a single element Series is deprecated and will raise a TypeError in the future. Use float(ser.iloc[0]) instead\n",
      "  mean_values['Low'] = round(float(stock_data['Low'].mean()), 2)\n",
      "/var/folders/cs/3lkp2pnd6j17xyfbtckgkhn40000gn/T/ipykernel_70060/1636383839.py:67: FutureWarning: Calling float on a single element Series is deprecated and will raise a TypeError in the future. Use float(ser.iloc[0]) instead\n",
      "  mean_values['Open'] = round(float(stock_data['Open'].mean()), 2)\n",
      "/var/folders/cs/3lkp2pnd6j17xyfbtckgkhn40000gn/T/ipykernel_70060/1636383839.py:68: FutureWarning: Calling int on a single element Series is deprecated and will raise a TypeError in the future. Use int(ser.iloc[0]) instead\n",
      "  mean_values['Volume'] = int(stock_data['Volume'].mean())\n"
     ]
    },
    {
     "name": "stdout",
     "output_type": "stream",
     "text": [
      "✅ Data for MINT.BK saved to Thai_ESG_Stock_Data/MINT.BK_2022_2024.csv\n",
      "Fetching data for MOSHI.BK...\n"
     ]
    },
    {
     "name": "stderr",
     "output_type": "stream",
     "text": [
      "[*********************100%***********************]  1 of 1 completed\n",
      "/var/folders/cs/3lkp2pnd6j17xyfbtckgkhn40000gn/T/ipykernel_70060/1636383839.py:64: FutureWarning: Calling float on a single element Series is deprecated and will raise a TypeError in the future. Use float(ser.iloc[0]) instead\n",
      "  mean_values['Close'] = round(float(stock_data['Close'].mean()), 2)\n",
      "/var/folders/cs/3lkp2pnd6j17xyfbtckgkhn40000gn/T/ipykernel_70060/1636383839.py:65: FutureWarning: Calling float on a single element Series is deprecated and will raise a TypeError in the future. Use float(ser.iloc[0]) instead\n",
      "  mean_values['High'] = round(float(stock_data['High'].mean()), 2)\n",
      "/var/folders/cs/3lkp2pnd6j17xyfbtckgkhn40000gn/T/ipykernel_70060/1636383839.py:66: FutureWarning: Calling float on a single element Series is deprecated and will raise a TypeError in the future. Use float(ser.iloc[0]) instead\n",
      "  mean_values['Low'] = round(float(stock_data['Low'].mean()), 2)\n",
      "/var/folders/cs/3lkp2pnd6j17xyfbtckgkhn40000gn/T/ipykernel_70060/1636383839.py:67: FutureWarning: Calling float on a single element Series is deprecated and will raise a TypeError in the future. Use float(ser.iloc[0]) instead\n",
      "  mean_values['Open'] = round(float(stock_data['Open'].mean()), 2)\n",
      "/var/folders/cs/3lkp2pnd6j17xyfbtckgkhn40000gn/T/ipykernel_70060/1636383839.py:68: FutureWarning: Calling int on a single element Series is deprecated and will raise a TypeError in the future. Use int(ser.iloc[0]) instead\n",
      "  mean_values['Volume'] = int(stock_data['Volume'].mean())\n"
     ]
    },
    {
     "name": "stdout",
     "output_type": "stream",
     "text": [
      "✅ Data for MOSHI.BK saved to Thai_ESG_Stock_Data/MOSHI.BK_2022_2024.csv\n",
      "Fetching data for MTC.BK...\n"
     ]
    },
    {
     "name": "stderr",
     "output_type": "stream",
     "text": [
      "[*********************100%***********************]  1 of 1 completed\n",
      "/var/folders/cs/3lkp2pnd6j17xyfbtckgkhn40000gn/T/ipykernel_70060/1636383839.py:64: FutureWarning: Calling float on a single element Series is deprecated and will raise a TypeError in the future. Use float(ser.iloc[0]) instead\n",
      "  mean_values['Close'] = round(float(stock_data['Close'].mean()), 2)\n",
      "/var/folders/cs/3lkp2pnd6j17xyfbtckgkhn40000gn/T/ipykernel_70060/1636383839.py:65: FutureWarning: Calling float on a single element Series is deprecated and will raise a TypeError in the future. Use float(ser.iloc[0]) instead\n",
      "  mean_values['High'] = round(float(stock_data['High'].mean()), 2)\n",
      "/var/folders/cs/3lkp2pnd6j17xyfbtckgkhn40000gn/T/ipykernel_70060/1636383839.py:66: FutureWarning: Calling float on a single element Series is deprecated and will raise a TypeError in the future. Use float(ser.iloc[0]) instead\n",
      "  mean_values['Low'] = round(float(stock_data['Low'].mean()), 2)\n",
      "/var/folders/cs/3lkp2pnd6j17xyfbtckgkhn40000gn/T/ipykernel_70060/1636383839.py:67: FutureWarning: Calling float on a single element Series is deprecated and will raise a TypeError in the future. Use float(ser.iloc[0]) instead\n",
      "  mean_values['Open'] = round(float(stock_data['Open'].mean()), 2)\n",
      "/var/folders/cs/3lkp2pnd6j17xyfbtckgkhn40000gn/T/ipykernel_70060/1636383839.py:68: FutureWarning: Calling int on a single element Series is deprecated and will raise a TypeError in the future. Use int(ser.iloc[0]) instead\n",
      "  mean_values['Volume'] = int(stock_data['Volume'].mean())\n"
     ]
    },
    {
     "name": "stdout",
     "output_type": "stream",
     "text": [
      "✅ Data for MTC.BK saved to Thai_ESG_Stock_Data/MTC.BK_2022_2024.csv\n",
      "Fetching data for NER.BK...\n"
     ]
    },
    {
     "name": "stderr",
     "output_type": "stream",
     "text": [
      "[*********************100%***********************]  1 of 1 completed\n",
      "/var/folders/cs/3lkp2pnd6j17xyfbtckgkhn40000gn/T/ipykernel_70060/1636383839.py:64: FutureWarning: Calling float on a single element Series is deprecated and will raise a TypeError in the future. Use float(ser.iloc[0]) instead\n",
      "  mean_values['Close'] = round(float(stock_data['Close'].mean()), 2)\n",
      "/var/folders/cs/3lkp2pnd6j17xyfbtckgkhn40000gn/T/ipykernel_70060/1636383839.py:65: FutureWarning: Calling float on a single element Series is deprecated and will raise a TypeError in the future. Use float(ser.iloc[0]) instead\n",
      "  mean_values['High'] = round(float(stock_data['High'].mean()), 2)\n",
      "/var/folders/cs/3lkp2pnd6j17xyfbtckgkhn40000gn/T/ipykernel_70060/1636383839.py:66: FutureWarning: Calling float on a single element Series is deprecated and will raise a TypeError in the future. Use float(ser.iloc[0]) instead\n",
      "  mean_values['Low'] = round(float(stock_data['Low'].mean()), 2)\n",
      "/var/folders/cs/3lkp2pnd6j17xyfbtckgkhn40000gn/T/ipykernel_70060/1636383839.py:67: FutureWarning: Calling float on a single element Series is deprecated and will raise a TypeError in the future. Use float(ser.iloc[0]) instead\n",
      "  mean_values['Open'] = round(float(stock_data['Open'].mean()), 2)\n",
      "/var/folders/cs/3lkp2pnd6j17xyfbtckgkhn40000gn/T/ipykernel_70060/1636383839.py:68: FutureWarning: Calling int on a single element Series is deprecated and will raise a TypeError in the future. Use int(ser.iloc[0]) instead\n",
      "  mean_values['Volume'] = int(stock_data['Volume'].mean())\n",
      "[*********************100%***********************]  1 of 1 completed"
     ]
    },
    {
     "name": "stdout",
     "output_type": "stream",
     "text": [
      "✅ Data for NER.BK saved to Thai_ESG_Stock_Data/NER.BK_2022_2024.csv\n",
      "Fetching data for OR.BK...\n"
     ]
    },
    {
     "name": "stderr",
     "output_type": "stream",
     "text": [
      "\n",
      "/var/folders/cs/3lkp2pnd6j17xyfbtckgkhn40000gn/T/ipykernel_70060/1636383839.py:64: FutureWarning: Calling float on a single element Series is deprecated and will raise a TypeError in the future. Use float(ser.iloc[0]) instead\n",
      "  mean_values['Close'] = round(float(stock_data['Close'].mean()), 2)\n",
      "/var/folders/cs/3lkp2pnd6j17xyfbtckgkhn40000gn/T/ipykernel_70060/1636383839.py:65: FutureWarning: Calling float on a single element Series is deprecated and will raise a TypeError in the future. Use float(ser.iloc[0]) instead\n",
      "  mean_values['High'] = round(float(stock_data['High'].mean()), 2)\n",
      "/var/folders/cs/3lkp2pnd6j17xyfbtckgkhn40000gn/T/ipykernel_70060/1636383839.py:66: FutureWarning: Calling float on a single element Series is deprecated and will raise a TypeError in the future. Use float(ser.iloc[0]) instead\n",
      "  mean_values['Low'] = round(float(stock_data['Low'].mean()), 2)\n",
      "/var/folders/cs/3lkp2pnd6j17xyfbtckgkhn40000gn/T/ipykernel_70060/1636383839.py:67: FutureWarning: Calling float on a single element Series is deprecated and will raise a TypeError in the future. Use float(ser.iloc[0]) instead\n",
      "  mean_values['Open'] = round(float(stock_data['Open'].mean()), 2)\n",
      "/var/folders/cs/3lkp2pnd6j17xyfbtckgkhn40000gn/T/ipykernel_70060/1636383839.py:68: FutureWarning: Calling int on a single element Series is deprecated and will raise a TypeError in the future. Use int(ser.iloc[0]) instead\n",
      "  mean_values['Volume'] = int(stock_data['Volume'].mean())\n"
     ]
    },
    {
     "name": "stdout",
     "output_type": "stream",
     "text": [
      "✅ Data for OR.BK saved to Thai_ESG_Stock_Data/OR.BK_2022_2024.csv\n",
      "Fetching data for ORI.BK...\n"
     ]
    },
    {
     "name": "stderr",
     "output_type": "stream",
     "text": [
      "[*********************100%***********************]  1 of 1 completed\n",
      "/var/folders/cs/3lkp2pnd6j17xyfbtckgkhn40000gn/T/ipykernel_70060/1636383839.py:64: FutureWarning: Calling float on a single element Series is deprecated and will raise a TypeError in the future. Use float(ser.iloc[0]) instead\n",
      "  mean_values['Close'] = round(float(stock_data['Close'].mean()), 2)\n",
      "/var/folders/cs/3lkp2pnd6j17xyfbtckgkhn40000gn/T/ipykernel_70060/1636383839.py:65: FutureWarning: Calling float on a single element Series is deprecated and will raise a TypeError in the future. Use float(ser.iloc[0]) instead\n",
      "  mean_values['High'] = round(float(stock_data['High'].mean()), 2)\n",
      "/var/folders/cs/3lkp2pnd6j17xyfbtckgkhn40000gn/T/ipykernel_70060/1636383839.py:66: FutureWarning: Calling float on a single element Series is deprecated and will raise a TypeError in the future. Use float(ser.iloc[0]) instead\n",
      "  mean_values['Low'] = round(float(stock_data['Low'].mean()), 2)\n",
      "/var/folders/cs/3lkp2pnd6j17xyfbtckgkhn40000gn/T/ipykernel_70060/1636383839.py:67: FutureWarning: Calling float on a single element Series is deprecated and will raise a TypeError in the future. Use float(ser.iloc[0]) instead\n",
      "  mean_values['Open'] = round(float(stock_data['Open'].mean()), 2)\n",
      "/var/folders/cs/3lkp2pnd6j17xyfbtckgkhn40000gn/T/ipykernel_70060/1636383839.py:68: FutureWarning: Calling int on a single element Series is deprecated and will raise a TypeError in the future. Use int(ser.iloc[0]) instead\n",
      "  mean_values['Volume'] = int(stock_data['Volume'].mean())\n"
     ]
    },
    {
     "name": "stdout",
     "output_type": "stream",
     "text": [
      "✅ Data for ORI.BK saved to Thai_ESG_Stock_Data/ORI.BK_2022_2024.csv\n",
      "Fetching data for OSP.BK...\n"
     ]
    },
    {
     "name": "stderr",
     "output_type": "stream",
     "text": [
      "[*********************100%***********************]  1 of 1 completed\n",
      "/var/folders/cs/3lkp2pnd6j17xyfbtckgkhn40000gn/T/ipykernel_70060/1636383839.py:64: FutureWarning: Calling float on a single element Series is deprecated and will raise a TypeError in the future. Use float(ser.iloc[0]) instead\n",
      "  mean_values['Close'] = round(float(stock_data['Close'].mean()), 2)\n",
      "/var/folders/cs/3lkp2pnd6j17xyfbtckgkhn40000gn/T/ipykernel_70060/1636383839.py:65: FutureWarning: Calling float on a single element Series is deprecated and will raise a TypeError in the future. Use float(ser.iloc[0]) instead\n",
      "  mean_values['High'] = round(float(stock_data['High'].mean()), 2)\n",
      "/var/folders/cs/3lkp2pnd6j17xyfbtckgkhn40000gn/T/ipykernel_70060/1636383839.py:66: FutureWarning: Calling float on a single element Series is deprecated and will raise a TypeError in the future. Use float(ser.iloc[0]) instead\n",
      "  mean_values['Low'] = round(float(stock_data['Low'].mean()), 2)\n",
      "/var/folders/cs/3lkp2pnd6j17xyfbtckgkhn40000gn/T/ipykernel_70060/1636383839.py:67: FutureWarning: Calling float on a single element Series is deprecated and will raise a TypeError in the future. Use float(ser.iloc[0]) instead\n",
      "  mean_values['Open'] = round(float(stock_data['Open'].mean()), 2)\n",
      "/var/folders/cs/3lkp2pnd6j17xyfbtckgkhn40000gn/T/ipykernel_70060/1636383839.py:68: FutureWarning: Calling int on a single element Series is deprecated and will raise a TypeError in the future. Use int(ser.iloc[0]) instead\n",
      "  mean_values['Volume'] = int(stock_data['Volume'].mean())\n"
     ]
    },
    {
     "name": "stdout",
     "output_type": "stream",
     "text": [
      "✅ Data for OSP.BK saved to Thai_ESG_Stock_Data/OSP.BK_2022_2024.csv\n",
      "Fetching data for PLANB.BK...\n"
     ]
    },
    {
     "name": "stderr",
     "output_type": "stream",
     "text": [
      "[*********************100%***********************]  1 of 1 completed\n",
      "/var/folders/cs/3lkp2pnd6j17xyfbtckgkhn40000gn/T/ipykernel_70060/1636383839.py:64: FutureWarning: Calling float on a single element Series is deprecated and will raise a TypeError in the future. Use float(ser.iloc[0]) instead\n",
      "  mean_values['Close'] = round(float(stock_data['Close'].mean()), 2)\n",
      "/var/folders/cs/3lkp2pnd6j17xyfbtckgkhn40000gn/T/ipykernel_70060/1636383839.py:65: FutureWarning: Calling float on a single element Series is deprecated and will raise a TypeError in the future. Use float(ser.iloc[0]) instead\n",
      "  mean_values['High'] = round(float(stock_data['High'].mean()), 2)\n",
      "/var/folders/cs/3lkp2pnd6j17xyfbtckgkhn40000gn/T/ipykernel_70060/1636383839.py:66: FutureWarning: Calling float on a single element Series is deprecated and will raise a TypeError in the future. Use float(ser.iloc[0]) instead\n",
      "  mean_values['Low'] = round(float(stock_data['Low'].mean()), 2)\n",
      "/var/folders/cs/3lkp2pnd6j17xyfbtckgkhn40000gn/T/ipykernel_70060/1636383839.py:67: FutureWarning: Calling float on a single element Series is deprecated and will raise a TypeError in the future. Use float(ser.iloc[0]) instead\n",
      "  mean_values['Open'] = round(float(stock_data['Open'].mean()), 2)\n",
      "/var/folders/cs/3lkp2pnd6j17xyfbtckgkhn40000gn/T/ipykernel_70060/1636383839.py:68: FutureWarning: Calling int on a single element Series is deprecated and will raise a TypeError in the future. Use int(ser.iloc[0]) instead\n",
      "  mean_values['Volume'] = int(stock_data['Volume'].mean())\n"
     ]
    },
    {
     "name": "stdout",
     "output_type": "stream",
     "text": [
      "✅ Data for PLANB.BK saved to Thai_ESG_Stock_Data/PLANB.BK_2022_2024.csv\n",
      "Fetching data for PR9.BK...\n"
     ]
    },
    {
     "name": "stderr",
     "output_type": "stream",
     "text": [
      "[*********************100%***********************]  1 of 1 completed\n",
      "/var/folders/cs/3lkp2pnd6j17xyfbtckgkhn40000gn/T/ipykernel_70060/1636383839.py:64: FutureWarning: Calling float on a single element Series is deprecated and will raise a TypeError in the future. Use float(ser.iloc[0]) instead\n",
      "  mean_values['Close'] = round(float(stock_data['Close'].mean()), 2)\n",
      "/var/folders/cs/3lkp2pnd6j17xyfbtckgkhn40000gn/T/ipykernel_70060/1636383839.py:65: FutureWarning: Calling float on a single element Series is deprecated and will raise a TypeError in the future. Use float(ser.iloc[0]) instead\n",
      "  mean_values['High'] = round(float(stock_data['High'].mean()), 2)\n",
      "/var/folders/cs/3lkp2pnd6j17xyfbtckgkhn40000gn/T/ipykernel_70060/1636383839.py:66: FutureWarning: Calling float on a single element Series is deprecated and will raise a TypeError in the future. Use float(ser.iloc[0]) instead\n",
      "  mean_values['Low'] = round(float(stock_data['Low'].mean()), 2)\n",
      "/var/folders/cs/3lkp2pnd6j17xyfbtckgkhn40000gn/T/ipykernel_70060/1636383839.py:67: FutureWarning: Calling float on a single element Series is deprecated and will raise a TypeError in the future. Use float(ser.iloc[0]) instead\n",
      "  mean_values['Open'] = round(float(stock_data['Open'].mean()), 2)\n",
      "/var/folders/cs/3lkp2pnd6j17xyfbtckgkhn40000gn/T/ipykernel_70060/1636383839.py:68: FutureWarning: Calling int on a single element Series is deprecated and will raise a TypeError in the future. Use int(ser.iloc[0]) instead\n",
      "  mean_values['Volume'] = int(stock_data['Volume'].mean())\n"
     ]
    },
    {
     "name": "stdout",
     "output_type": "stream",
     "text": [
      "✅ Data for PR9.BK saved to Thai_ESG_Stock_Data/PR9.BK_2022_2024.csv\n",
      "Fetching data for PSH.BK...\n"
     ]
    },
    {
     "name": "stderr",
     "output_type": "stream",
     "text": [
      "[*********************100%***********************]  1 of 1 completed\n",
      "/var/folders/cs/3lkp2pnd6j17xyfbtckgkhn40000gn/T/ipykernel_70060/1636383839.py:64: FutureWarning: Calling float on a single element Series is deprecated and will raise a TypeError in the future. Use float(ser.iloc[0]) instead\n",
      "  mean_values['Close'] = round(float(stock_data['Close'].mean()), 2)\n",
      "/var/folders/cs/3lkp2pnd6j17xyfbtckgkhn40000gn/T/ipykernel_70060/1636383839.py:65: FutureWarning: Calling float on a single element Series is deprecated and will raise a TypeError in the future. Use float(ser.iloc[0]) instead\n",
      "  mean_values['High'] = round(float(stock_data['High'].mean()), 2)\n",
      "/var/folders/cs/3lkp2pnd6j17xyfbtckgkhn40000gn/T/ipykernel_70060/1636383839.py:66: FutureWarning: Calling float on a single element Series is deprecated and will raise a TypeError in the future. Use float(ser.iloc[0]) instead\n",
      "  mean_values['Low'] = round(float(stock_data['Low'].mean()), 2)\n",
      "/var/folders/cs/3lkp2pnd6j17xyfbtckgkhn40000gn/T/ipykernel_70060/1636383839.py:67: FutureWarning: Calling float on a single element Series is deprecated and will raise a TypeError in the future. Use float(ser.iloc[0]) instead\n",
      "  mean_values['Open'] = round(float(stock_data['Open'].mean()), 2)\n",
      "/var/folders/cs/3lkp2pnd6j17xyfbtckgkhn40000gn/T/ipykernel_70060/1636383839.py:68: FutureWarning: Calling int on a single element Series is deprecated and will raise a TypeError in the future. Use int(ser.iloc[0]) instead\n",
      "  mean_values['Volume'] = int(stock_data['Volume'].mean())\n"
     ]
    },
    {
     "name": "stdout",
     "output_type": "stream",
     "text": [
      "✅ Data for PSH.BK saved to Thai_ESG_Stock_Data/PSH.BK_2022_2024.csv\n",
      "Fetching data for PSL.BK...\n"
     ]
    },
    {
     "name": "stderr",
     "output_type": "stream",
     "text": [
      "[*********************100%***********************]  1 of 1 completed\n",
      "/var/folders/cs/3lkp2pnd6j17xyfbtckgkhn40000gn/T/ipykernel_70060/1636383839.py:64: FutureWarning: Calling float on a single element Series is deprecated and will raise a TypeError in the future. Use float(ser.iloc[0]) instead\n",
      "  mean_values['Close'] = round(float(stock_data['Close'].mean()), 2)\n",
      "/var/folders/cs/3lkp2pnd6j17xyfbtckgkhn40000gn/T/ipykernel_70060/1636383839.py:65: FutureWarning: Calling float on a single element Series is deprecated and will raise a TypeError in the future. Use float(ser.iloc[0]) instead\n",
      "  mean_values['High'] = round(float(stock_data['High'].mean()), 2)\n",
      "/var/folders/cs/3lkp2pnd6j17xyfbtckgkhn40000gn/T/ipykernel_70060/1636383839.py:66: FutureWarning: Calling float on a single element Series is deprecated and will raise a TypeError in the future. Use float(ser.iloc[0]) instead\n",
      "  mean_values['Low'] = round(float(stock_data['Low'].mean()), 2)\n",
      "/var/folders/cs/3lkp2pnd6j17xyfbtckgkhn40000gn/T/ipykernel_70060/1636383839.py:67: FutureWarning: Calling float on a single element Series is deprecated and will raise a TypeError in the future. Use float(ser.iloc[0]) instead\n",
      "  mean_values['Open'] = round(float(stock_data['Open'].mean()), 2)\n",
      "/var/folders/cs/3lkp2pnd6j17xyfbtckgkhn40000gn/T/ipykernel_70060/1636383839.py:68: FutureWarning: Calling int on a single element Series is deprecated and will raise a TypeError in the future. Use int(ser.iloc[0]) instead\n",
      "  mean_values['Volume'] = int(stock_data['Volume'].mean())\n"
     ]
    },
    {
     "name": "stdout",
     "output_type": "stream",
     "text": [
      "✅ Data for PSL.BK saved to Thai_ESG_Stock_Data/PSL.BK_2022_2024.csv\n",
      "Fetching data for PTT.BK...\n"
     ]
    },
    {
     "name": "stderr",
     "output_type": "stream",
     "text": [
      "[*********************100%***********************]  1 of 1 completed\n",
      "/var/folders/cs/3lkp2pnd6j17xyfbtckgkhn40000gn/T/ipykernel_70060/1636383839.py:64: FutureWarning: Calling float on a single element Series is deprecated and will raise a TypeError in the future. Use float(ser.iloc[0]) instead\n",
      "  mean_values['Close'] = round(float(stock_data['Close'].mean()), 2)\n",
      "/var/folders/cs/3lkp2pnd6j17xyfbtckgkhn40000gn/T/ipykernel_70060/1636383839.py:65: FutureWarning: Calling float on a single element Series is deprecated and will raise a TypeError in the future. Use float(ser.iloc[0]) instead\n",
      "  mean_values['High'] = round(float(stock_data['High'].mean()), 2)\n",
      "/var/folders/cs/3lkp2pnd6j17xyfbtckgkhn40000gn/T/ipykernel_70060/1636383839.py:66: FutureWarning: Calling float on a single element Series is deprecated and will raise a TypeError in the future. Use float(ser.iloc[0]) instead\n",
      "  mean_values['Low'] = round(float(stock_data['Low'].mean()), 2)\n",
      "/var/folders/cs/3lkp2pnd6j17xyfbtckgkhn40000gn/T/ipykernel_70060/1636383839.py:67: FutureWarning: Calling float on a single element Series is deprecated and will raise a TypeError in the future. Use float(ser.iloc[0]) instead\n",
      "  mean_values['Open'] = round(float(stock_data['Open'].mean()), 2)\n",
      "/var/folders/cs/3lkp2pnd6j17xyfbtckgkhn40000gn/T/ipykernel_70060/1636383839.py:68: FutureWarning: Calling int on a single element Series is deprecated and will raise a TypeError in the future. Use int(ser.iloc[0]) instead\n",
      "  mean_values['Volume'] = int(stock_data['Volume'].mean())\n"
     ]
    },
    {
     "name": "stdout",
     "output_type": "stream",
     "text": [
      "✅ Data for PTT.BK saved to Thai_ESG_Stock_Data/PTT.BK_2022_2024.csv\n",
      "Fetching data for PTTEP.BK...\n"
     ]
    },
    {
     "name": "stderr",
     "output_type": "stream",
     "text": [
      "[*********************100%***********************]  1 of 1 completed\n",
      "/var/folders/cs/3lkp2pnd6j17xyfbtckgkhn40000gn/T/ipykernel_70060/1636383839.py:64: FutureWarning: Calling float on a single element Series is deprecated and will raise a TypeError in the future. Use float(ser.iloc[0]) instead\n",
      "  mean_values['Close'] = round(float(stock_data['Close'].mean()), 2)\n",
      "/var/folders/cs/3lkp2pnd6j17xyfbtckgkhn40000gn/T/ipykernel_70060/1636383839.py:65: FutureWarning: Calling float on a single element Series is deprecated and will raise a TypeError in the future. Use float(ser.iloc[0]) instead\n",
      "  mean_values['High'] = round(float(stock_data['High'].mean()), 2)\n",
      "/var/folders/cs/3lkp2pnd6j17xyfbtckgkhn40000gn/T/ipykernel_70060/1636383839.py:66: FutureWarning: Calling float on a single element Series is deprecated and will raise a TypeError in the future. Use float(ser.iloc[0]) instead\n",
      "  mean_values['Low'] = round(float(stock_data['Low'].mean()), 2)\n",
      "/var/folders/cs/3lkp2pnd6j17xyfbtckgkhn40000gn/T/ipykernel_70060/1636383839.py:67: FutureWarning: Calling float on a single element Series is deprecated and will raise a TypeError in the future. Use float(ser.iloc[0]) instead\n",
      "  mean_values['Open'] = round(float(stock_data['Open'].mean()), 2)\n",
      "/var/folders/cs/3lkp2pnd6j17xyfbtckgkhn40000gn/T/ipykernel_70060/1636383839.py:68: FutureWarning: Calling int on a single element Series is deprecated and will raise a TypeError in the future. Use int(ser.iloc[0]) instead\n",
      "  mean_values['Volume'] = int(stock_data['Volume'].mean())\n",
      "[*********************100%***********************]  1 of 1 completed\n",
      "/var/folders/cs/3lkp2pnd6j17xyfbtckgkhn40000gn/T/ipykernel_70060/1636383839.py:64: FutureWarning: Calling float on a single element Series is deprecated and will raise a TypeError in the future. Use float(ser.iloc[0]) instead\n",
      "  mean_values['Close'] = round(float(stock_data['Close'].mean()), 2)\n",
      "/var/folders/cs/3lkp2pnd6j17xyfbtckgkhn40000gn/T/ipykernel_70060/1636383839.py:65: FutureWarning: Calling float on a single element Series is deprecated and will raise a TypeError in the future. Use float(ser.iloc[0]) instead\n",
      "  mean_values['High'] = round(float(stock_data['High'].mean()), 2)\n",
      "/var/folders/cs/3lkp2pnd6j17xyfbtckgkhn40000gn/T/ipykernel_70060/1636383839.py:66: FutureWarning: Calling float on a single element Series is deprecated and will raise a TypeError in the future. Use float(ser.iloc[0]) instead\n",
      "  mean_values['Low'] = round(float(stock_data['Low'].mean()), 2)\n",
      "/var/folders/cs/3lkp2pnd6j17xyfbtckgkhn40000gn/T/ipykernel_70060/1636383839.py:67: FutureWarning: Calling float on a single element Series is deprecated and will raise a TypeError in the future. Use float(ser.iloc[0]) instead\n",
      "  mean_values['Open'] = round(float(stock_data['Open'].mean()), 2)\n",
      "/var/folders/cs/3lkp2pnd6j17xyfbtckgkhn40000gn/T/ipykernel_70060/1636383839.py:68: FutureWarning: Calling int on a single element Series is deprecated and will raise a TypeError in the future. Use int(ser.iloc[0]) instead\n",
      "  mean_values['Volume'] = int(stock_data['Volume'].mean())\n"
     ]
    },
    {
     "name": "stdout",
     "output_type": "stream",
     "text": [
      "✅ Data for PTTEP.BK saved to Thai_ESG_Stock_Data/PTTEP.BK_2022_2024.csv\n",
      "Fetching data for PTTGC.BK...\n",
      "✅ Data for PTTGC.BK saved to Thai_ESG_Stock_Data/PTTGC.BK_2022_2024.csv\n",
      "Fetching data for RATCH.BK...\n"
     ]
    },
    {
     "name": "stderr",
     "output_type": "stream",
     "text": [
      "[*********************100%***********************]  1 of 1 completed\n",
      "/var/folders/cs/3lkp2pnd6j17xyfbtckgkhn40000gn/T/ipykernel_70060/1636383839.py:64: FutureWarning: Calling float on a single element Series is deprecated and will raise a TypeError in the future. Use float(ser.iloc[0]) instead\n",
      "  mean_values['Close'] = round(float(stock_data['Close'].mean()), 2)\n",
      "/var/folders/cs/3lkp2pnd6j17xyfbtckgkhn40000gn/T/ipykernel_70060/1636383839.py:65: FutureWarning: Calling float on a single element Series is deprecated and will raise a TypeError in the future. Use float(ser.iloc[0]) instead\n",
      "  mean_values['High'] = round(float(stock_data['High'].mean()), 2)\n",
      "/var/folders/cs/3lkp2pnd6j17xyfbtckgkhn40000gn/T/ipykernel_70060/1636383839.py:66: FutureWarning: Calling float on a single element Series is deprecated and will raise a TypeError in the future. Use float(ser.iloc[0]) instead\n",
      "  mean_values['Low'] = round(float(stock_data['Low'].mean()), 2)\n",
      "/var/folders/cs/3lkp2pnd6j17xyfbtckgkhn40000gn/T/ipykernel_70060/1636383839.py:67: FutureWarning: Calling float on a single element Series is deprecated and will raise a TypeError in the future. Use float(ser.iloc[0]) instead\n",
      "  mean_values['Open'] = round(float(stock_data['Open'].mean()), 2)\n",
      "/var/folders/cs/3lkp2pnd6j17xyfbtckgkhn40000gn/T/ipykernel_70060/1636383839.py:68: FutureWarning: Calling int on a single element Series is deprecated and will raise a TypeError in the future. Use int(ser.iloc[0]) instead\n",
      "  mean_values['Volume'] = int(stock_data['Volume'].mean())\n",
      "[*********************100%***********************]  1 of 1 completed"
     ]
    },
    {
     "name": "stdout",
     "output_type": "stream",
     "text": [
      "✅ Data for RATCH.BK saved to Thai_ESG_Stock_Data/RATCH.BK_2022_2024.csv\n",
      "Fetching data for RBF.BK...\n"
     ]
    },
    {
     "name": "stderr",
     "output_type": "stream",
     "text": [
      "\n",
      "/var/folders/cs/3lkp2pnd6j17xyfbtckgkhn40000gn/T/ipykernel_70060/1636383839.py:64: FutureWarning: Calling float on a single element Series is deprecated and will raise a TypeError in the future. Use float(ser.iloc[0]) instead\n",
      "  mean_values['Close'] = round(float(stock_data['Close'].mean()), 2)\n",
      "/var/folders/cs/3lkp2pnd6j17xyfbtckgkhn40000gn/T/ipykernel_70060/1636383839.py:65: FutureWarning: Calling float on a single element Series is deprecated and will raise a TypeError in the future. Use float(ser.iloc[0]) instead\n",
      "  mean_values['High'] = round(float(stock_data['High'].mean()), 2)\n",
      "/var/folders/cs/3lkp2pnd6j17xyfbtckgkhn40000gn/T/ipykernel_70060/1636383839.py:66: FutureWarning: Calling float on a single element Series is deprecated and will raise a TypeError in the future. Use float(ser.iloc[0]) instead\n",
      "  mean_values['Low'] = round(float(stock_data['Low'].mean()), 2)\n",
      "/var/folders/cs/3lkp2pnd6j17xyfbtckgkhn40000gn/T/ipykernel_70060/1636383839.py:67: FutureWarning: Calling float on a single element Series is deprecated and will raise a TypeError in the future. Use float(ser.iloc[0]) instead\n",
      "  mean_values['Open'] = round(float(stock_data['Open'].mean()), 2)\n",
      "/var/folders/cs/3lkp2pnd6j17xyfbtckgkhn40000gn/T/ipykernel_70060/1636383839.py:68: FutureWarning: Calling int on a single element Series is deprecated and will raise a TypeError in the future. Use int(ser.iloc[0]) instead\n",
      "  mean_values['Volume'] = int(stock_data['Volume'].mean())\n"
     ]
    },
    {
     "name": "stdout",
     "output_type": "stream",
     "text": [
      "✅ Data for RBF.BK saved to Thai_ESG_Stock_Data/RBF.BK_2022_2024.csv\n",
      "Fetching data for RS.BK...\n"
     ]
    },
    {
     "name": "stderr",
     "output_type": "stream",
     "text": [
      "[*********************100%***********************]  1 of 1 completed\n",
      "/var/folders/cs/3lkp2pnd6j17xyfbtckgkhn40000gn/T/ipykernel_70060/1636383839.py:64: FutureWarning: Calling float on a single element Series is deprecated and will raise a TypeError in the future. Use float(ser.iloc[0]) instead\n",
      "  mean_values['Close'] = round(float(stock_data['Close'].mean()), 2)\n",
      "/var/folders/cs/3lkp2pnd6j17xyfbtckgkhn40000gn/T/ipykernel_70060/1636383839.py:65: FutureWarning: Calling float on a single element Series is deprecated and will raise a TypeError in the future. Use float(ser.iloc[0]) instead\n",
      "  mean_values['High'] = round(float(stock_data['High'].mean()), 2)\n",
      "/var/folders/cs/3lkp2pnd6j17xyfbtckgkhn40000gn/T/ipykernel_70060/1636383839.py:66: FutureWarning: Calling float on a single element Series is deprecated and will raise a TypeError in the future. Use float(ser.iloc[0]) instead\n",
      "  mean_values['Low'] = round(float(stock_data['Low'].mean()), 2)\n",
      "/var/folders/cs/3lkp2pnd6j17xyfbtckgkhn40000gn/T/ipykernel_70060/1636383839.py:67: FutureWarning: Calling float on a single element Series is deprecated and will raise a TypeError in the future. Use float(ser.iloc[0]) instead\n",
      "  mean_values['Open'] = round(float(stock_data['Open'].mean()), 2)\n",
      "/var/folders/cs/3lkp2pnd6j17xyfbtckgkhn40000gn/T/ipykernel_70060/1636383839.py:68: FutureWarning: Calling int on a single element Series is deprecated and will raise a TypeError in the future. Use int(ser.iloc[0]) instead\n",
      "  mean_values['Volume'] = int(stock_data['Volume'].mean())\n"
     ]
    },
    {
     "name": "stdout",
     "output_type": "stream",
     "text": [
      "✅ Data for RS.BK saved to Thai_ESG_Stock_Data/RS.BK_2022_2024.csv\n",
      "Fetching data for S.BK...\n"
     ]
    },
    {
     "name": "stderr",
     "output_type": "stream",
     "text": [
      "[*********************100%***********************]  1 of 1 completed\n",
      "/var/folders/cs/3lkp2pnd6j17xyfbtckgkhn40000gn/T/ipykernel_70060/1636383839.py:64: FutureWarning: Calling float on a single element Series is deprecated and will raise a TypeError in the future. Use float(ser.iloc[0]) instead\n",
      "  mean_values['Close'] = round(float(stock_data['Close'].mean()), 2)\n",
      "/var/folders/cs/3lkp2pnd6j17xyfbtckgkhn40000gn/T/ipykernel_70060/1636383839.py:65: FutureWarning: Calling float on a single element Series is deprecated and will raise a TypeError in the future. Use float(ser.iloc[0]) instead\n",
      "  mean_values['High'] = round(float(stock_data['High'].mean()), 2)\n",
      "/var/folders/cs/3lkp2pnd6j17xyfbtckgkhn40000gn/T/ipykernel_70060/1636383839.py:66: FutureWarning: Calling float on a single element Series is deprecated and will raise a TypeError in the future. Use float(ser.iloc[0]) instead\n",
      "  mean_values['Low'] = round(float(stock_data['Low'].mean()), 2)\n",
      "/var/folders/cs/3lkp2pnd6j17xyfbtckgkhn40000gn/T/ipykernel_70060/1636383839.py:67: FutureWarning: Calling float on a single element Series is deprecated and will raise a TypeError in the future. Use float(ser.iloc[0]) instead\n",
      "  mean_values['Open'] = round(float(stock_data['Open'].mean()), 2)\n",
      "/var/folders/cs/3lkp2pnd6j17xyfbtckgkhn40000gn/T/ipykernel_70060/1636383839.py:68: FutureWarning: Calling int on a single element Series is deprecated and will raise a TypeError in the future. Use int(ser.iloc[0]) instead\n",
      "  mean_values['Volume'] = int(stock_data['Volume'].mean())\n"
     ]
    },
    {
     "name": "stdout",
     "output_type": "stream",
     "text": [
      "✅ Data for S.BK saved to Thai_ESG_Stock_Data/S.BK_2022_2024.csv\n",
      "Fetching data for SABINA.BK...\n"
     ]
    },
    {
     "name": "stderr",
     "output_type": "stream",
     "text": [
      "[*********************100%***********************]  1 of 1 completed\n",
      "/var/folders/cs/3lkp2pnd6j17xyfbtckgkhn40000gn/T/ipykernel_70060/1636383839.py:64: FutureWarning: Calling float on a single element Series is deprecated and will raise a TypeError in the future. Use float(ser.iloc[0]) instead\n",
      "  mean_values['Close'] = round(float(stock_data['Close'].mean()), 2)\n",
      "/var/folders/cs/3lkp2pnd6j17xyfbtckgkhn40000gn/T/ipykernel_70060/1636383839.py:65: FutureWarning: Calling float on a single element Series is deprecated and will raise a TypeError in the future. Use float(ser.iloc[0]) instead\n",
      "  mean_values['High'] = round(float(stock_data['High'].mean()), 2)\n",
      "/var/folders/cs/3lkp2pnd6j17xyfbtckgkhn40000gn/T/ipykernel_70060/1636383839.py:66: FutureWarning: Calling float on a single element Series is deprecated and will raise a TypeError in the future. Use float(ser.iloc[0]) instead\n",
      "  mean_values['Low'] = round(float(stock_data['Low'].mean()), 2)\n",
      "/var/folders/cs/3lkp2pnd6j17xyfbtckgkhn40000gn/T/ipykernel_70060/1636383839.py:67: FutureWarning: Calling float on a single element Series is deprecated and will raise a TypeError in the future. Use float(ser.iloc[0]) instead\n",
      "  mean_values['Open'] = round(float(stock_data['Open'].mean()), 2)\n",
      "/var/folders/cs/3lkp2pnd6j17xyfbtckgkhn40000gn/T/ipykernel_70060/1636383839.py:68: FutureWarning: Calling int on a single element Series is deprecated and will raise a TypeError in the future. Use int(ser.iloc[0]) instead\n",
      "  mean_values['Volume'] = int(stock_data['Volume'].mean())\n"
     ]
    },
    {
     "name": "stdout",
     "output_type": "stream",
     "text": [
      "✅ Data for SABINA.BK saved to Thai_ESG_Stock_Data/SABINA.BK_2022_2024.csv\n",
      "Fetching data for SAK.BK...\n"
     ]
    },
    {
     "name": "stderr",
     "output_type": "stream",
     "text": [
      "[*********************100%***********************]  1 of 1 completed\n",
      "/var/folders/cs/3lkp2pnd6j17xyfbtckgkhn40000gn/T/ipykernel_70060/1636383839.py:64: FutureWarning: Calling float on a single element Series is deprecated and will raise a TypeError in the future. Use float(ser.iloc[0]) instead\n",
      "  mean_values['Close'] = round(float(stock_data['Close'].mean()), 2)\n",
      "/var/folders/cs/3lkp2pnd6j17xyfbtckgkhn40000gn/T/ipykernel_70060/1636383839.py:65: FutureWarning: Calling float on a single element Series is deprecated and will raise a TypeError in the future. Use float(ser.iloc[0]) instead\n",
      "  mean_values['High'] = round(float(stock_data['High'].mean()), 2)\n",
      "/var/folders/cs/3lkp2pnd6j17xyfbtckgkhn40000gn/T/ipykernel_70060/1636383839.py:66: FutureWarning: Calling float on a single element Series is deprecated and will raise a TypeError in the future. Use float(ser.iloc[0]) instead\n",
      "  mean_values['Low'] = round(float(stock_data['Low'].mean()), 2)\n",
      "/var/folders/cs/3lkp2pnd6j17xyfbtckgkhn40000gn/T/ipykernel_70060/1636383839.py:67: FutureWarning: Calling float on a single element Series is deprecated and will raise a TypeError in the future. Use float(ser.iloc[0]) instead\n",
      "  mean_values['Open'] = round(float(stock_data['Open'].mean()), 2)\n",
      "/var/folders/cs/3lkp2pnd6j17xyfbtckgkhn40000gn/T/ipykernel_70060/1636383839.py:68: FutureWarning: Calling int on a single element Series is deprecated and will raise a TypeError in the future. Use int(ser.iloc[0]) instead\n",
      "  mean_values['Volume'] = int(stock_data['Volume'].mean())\n"
     ]
    },
    {
     "name": "stdout",
     "output_type": "stream",
     "text": [
      "✅ Data for SAK.BK saved to Thai_ESG_Stock_Data/SAK.BK_2022_2024.csv\n",
      "Fetching data for SAPPE.BK...\n"
     ]
    },
    {
     "name": "stderr",
     "output_type": "stream",
     "text": [
      "[*********************100%***********************]  1 of 1 completed\n",
      "/var/folders/cs/3lkp2pnd6j17xyfbtckgkhn40000gn/T/ipykernel_70060/1636383839.py:64: FutureWarning: Calling float on a single element Series is deprecated and will raise a TypeError in the future. Use float(ser.iloc[0]) instead\n",
      "  mean_values['Close'] = round(float(stock_data['Close'].mean()), 2)\n",
      "/var/folders/cs/3lkp2pnd6j17xyfbtckgkhn40000gn/T/ipykernel_70060/1636383839.py:65: FutureWarning: Calling float on a single element Series is deprecated and will raise a TypeError in the future. Use float(ser.iloc[0]) instead\n",
      "  mean_values['High'] = round(float(stock_data['High'].mean()), 2)\n",
      "/var/folders/cs/3lkp2pnd6j17xyfbtckgkhn40000gn/T/ipykernel_70060/1636383839.py:66: FutureWarning: Calling float on a single element Series is deprecated and will raise a TypeError in the future. Use float(ser.iloc[0]) instead\n",
      "  mean_values['Low'] = round(float(stock_data['Low'].mean()), 2)\n",
      "/var/folders/cs/3lkp2pnd6j17xyfbtckgkhn40000gn/T/ipykernel_70060/1636383839.py:67: FutureWarning: Calling float on a single element Series is deprecated and will raise a TypeError in the future. Use float(ser.iloc[0]) instead\n",
      "  mean_values['Open'] = round(float(stock_data['Open'].mean()), 2)\n",
      "/var/folders/cs/3lkp2pnd6j17xyfbtckgkhn40000gn/T/ipykernel_70060/1636383839.py:68: FutureWarning: Calling int on a single element Series is deprecated and will raise a TypeError in the future. Use int(ser.iloc[0]) instead\n",
      "  mean_values['Volume'] = int(stock_data['Volume'].mean())\n"
     ]
    },
    {
     "name": "stdout",
     "output_type": "stream",
     "text": [
      "✅ Data for SAPPE.BK saved to Thai_ESG_Stock_Data/SAPPE.BK_2022_2024.csv\n",
      "Fetching data for SAT.BK...\n"
     ]
    },
    {
     "name": "stderr",
     "output_type": "stream",
     "text": [
      "[*********************100%***********************]  1 of 1 completed\n",
      "/var/folders/cs/3lkp2pnd6j17xyfbtckgkhn40000gn/T/ipykernel_70060/1636383839.py:64: FutureWarning: Calling float on a single element Series is deprecated and will raise a TypeError in the future. Use float(ser.iloc[0]) instead\n",
      "  mean_values['Close'] = round(float(stock_data['Close'].mean()), 2)\n",
      "/var/folders/cs/3lkp2pnd6j17xyfbtckgkhn40000gn/T/ipykernel_70060/1636383839.py:65: FutureWarning: Calling float on a single element Series is deprecated and will raise a TypeError in the future. Use float(ser.iloc[0]) instead\n",
      "  mean_values['High'] = round(float(stock_data['High'].mean()), 2)\n",
      "/var/folders/cs/3lkp2pnd6j17xyfbtckgkhn40000gn/T/ipykernel_70060/1636383839.py:66: FutureWarning: Calling float on a single element Series is deprecated and will raise a TypeError in the future. Use float(ser.iloc[0]) instead\n",
      "  mean_values['Low'] = round(float(stock_data['Low'].mean()), 2)\n",
      "/var/folders/cs/3lkp2pnd6j17xyfbtckgkhn40000gn/T/ipykernel_70060/1636383839.py:67: FutureWarning: Calling float on a single element Series is deprecated and will raise a TypeError in the future. Use float(ser.iloc[0]) instead\n",
      "  mean_values['Open'] = round(float(stock_data['Open'].mean()), 2)\n",
      "/var/folders/cs/3lkp2pnd6j17xyfbtckgkhn40000gn/T/ipykernel_70060/1636383839.py:68: FutureWarning: Calling int on a single element Series is deprecated and will raise a TypeError in the future. Use int(ser.iloc[0]) instead\n",
      "  mean_values['Volume'] = int(stock_data['Volume'].mean())\n"
     ]
    },
    {
     "name": "stdout",
     "output_type": "stream",
     "text": [
      "✅ Data for SAT.BK saved to Thai_ESG_Stock_Data/SAT.BK_2022_2024.csv\n",
      "Fetching data for SAWAD.BK...\n"
     ]
    },
    {
     "name": "stderr",
     "output_type": "stream",
     "text": [
      "[*********************100%***********************]  1 of 1 completed\n",
      "/var/folders/cs/3lkp2pnd6j17xyfbtckgkhn40000gn/T/ipykernel_70060/1636383839.py:64: FutureWarning: Calling float on a single element Series is deprecated and will raise a TypeError in the future. Use float(ser.iloc[0]) instead\n",
      "  mean_values['Close'] = round(float(stock_data['Close'].mean()), 2)\n",
      "/var/folders/cs/3lkp2pnd6j17xyfbtckgkhn40000gn/T/ipykernel_70060/1636383839.py:65: FutureWarning: Calling float on a single element Series is deprecated and will raise a TypeError in the future. Use float(ser.iloc[0]) instead\n",
      "  mean_values['High'] = round(float(stock_data['High'].mean()), 2)\n",
      "/var/folders/cs/3lkp2pnd6j17xyfbtckgkhn40000gn/T/ipykernel_70060/1636383839.py:66: FutureWarning: Calling float on a single element Series is deprecated and will raise a TypeError in the future. Use float(ser.iloc[0]) instead\n",
      "  mean_values['Low'] = round(float(stock_data['Low'].mean()), 2)\n",
      "/var/folders/cs/3lkp2pnd6j17xyfbtckgkhn40000gn/T/ipykernel_70060/1636383839.py:67: FutureWarning: Calling float on a single element Series is deprecated and will raise a TypeError in the future. Use float(ser.iloc[0]) instead\n",
      "  mean_values['Open'] = round(float(stock_data['Open'].mean()), 2)\n",
      "/var/folders/cs/3lkp2pnd6j17xyfbtckgkhn40000gn/T/ipykernel_70060/1636383839.py:68: FutureWarning: Calling int on a single element Series is deprecated and will raise a TypeError in the future. Use int(ser.iloc[0]) instead\n",
      "  mean_values['Volume'] = int(stock_data['Volume'].mean())\n"
     ]
    },
    {
     "name": "stdout",
     "output_type": "stream",
     "text": [
      "✅ Data for SAWAD.BK saved to Thai_ESG_Stock_Data/SAWAD.BK_2022_2024.csv\n",
      "Fetching data for SC.BK...\n"
     ]
    },
    {
     "name": "stderr",
     "output_type": "stream",
     "text": [
      "[*********************100%***********************]  1 of 1 completed\n",
      "/var/folders/cs/3lkp2pnd6j17xyfbtckgkhn40000gn/T/ipykernel_70060/1636383839.py:64: FutureWarning: Calling float on a single element Series is deprecated and will raise a TypeError in the future. Use float(ser.iloc[0]) instead\n",
      "  mean_values['Close'] = round(float(stock_data['Close'].mean()), 2)\n",
      "/var/folders/cs/3lkp2pnd6j17xyfbtckgkhn40000gn/T/ipykernel_70060/1636383839.py:65: FutureWarning: Calling float on a single element Series is deprecated and will raise a TypeError in the future. Use float(ser.iloc[0]) instead\n",
      "  mean_values['High'] = round(float(stock_data['High'].mean()), 2)\n",
      "/var/folders/cs/3lkp2pnd6j17xyfbtckgkhn40000gn/T/ipykernel_70060/1636383839.py:66: FutureWarning: Calling float on a single element Series is deprecated and will raise a TypeError in the future. Use float(ser.iloc[0]) instead\n",
      "  mean_values['Low'] = round(float(stock_data['Low'].mean()), 2)\n",
      "/var/folders/cs/3lkp2pnd6j17xyfbtckgkhn40000gn/T/ipykernel_70060/1636383839.py:67: FutureWarning: Calling float on a single element Series is deprecated and will raise a TypeError in the future. Use float(ser.iloc[0]) instead\n",
      "  mean_values['Open'] = round(float(stock_data['Open'].mean()), 2)\n",
      "/var/folders/cs/3lkp2pnd6j17xyfbtckgkhn40000gn/T/ipykernel_70060/1636383839.py:68: FutureWarning: Calling int on a single element Series is deprecated and will raise a TypeError in the future. Use int(ser.iloc[0]) instead\n",
      "  mean_values['Volume'] = int(stock_data['Volume'].mean())\n"
     ]
    },
    {
     "name": "stdout",
     "output_type": "stream",
     "text": [
      "✅ Data for SC.BK saved to Thai_ESG_Stock_Data/SC.BK_2022_2024.csv\n",
      "Fetching data for SCB.BK...\n"
     ]
    },
    {
     "name": "stderr",
     "output_type": "stream",
     "text": [
      "[*********************100%***********************]  1 of 1 completed\n",
      "/var/folders/cs/3lkp2pnd6j17xyfbtckgkhn40000gn/T/ipykernel_70060/1636383839.py:64: FutureWarning: Calling float on a single element Series is deprecated and will raise a TypeError in the future. Use float(ser.iloc[0]) instead\n",
      "  mean_values['Close'] = round(float(stock_data['Close'].mean()), 2)\n",
      "/var/folders/cs/3lkp2pnd6j17xyfbtckgkhn40000gn/T/ipykernel_70060/1636383839.py:65: FutureWarning: Calling float on a single element Series is deprecated and will raise a TypeError in the future. Use float(ser.iloc[0]) instead\n",
      "  mean_values['High'] = round(float(stock_data['High'].mean()), 2)\n",
      "/var/folders/cs/3lkp2pnd6j17xyfbtckgkhn40000gn/T/ipykernel_70060/1636383839.py:66: FutureWarning: Calling float on a single element Series is deprecated and will raise a TypeError in the future. Use float(ser.iloc[0]) instead\n",
      "  mean_values['Low'] = round(float(stock_data['Low'].mean()), 2)\n",
      "/var/folders/cs/3lkp2pnd6j17xyfbtckgkhn40000gn/T/ipykernel_70060/1636383839.py:67: FutureWarning: Calling float on a single element Series is deprecated and will raise a TypeError in the future. Use float(ser.iloc[0]) instead\n",
      "  mean_values['Open'] = round(float(stock_data['Open'].mean()), 2)\n",
      "/var/folders/cs/3lkp2pnd6j17xyfbtckgkhn40000gn/T/ipykernel_70060/1636383839.py:68: FutureWarning: Calling int on a single element Series is deprecated and will raise a TypeError in the future. Use int(ser.iloc[0]) instead\n",
      "  mean_values['Volume'] = int(stock_data['Volume'].mean())\n",
      "[*********************100%***********************]  1 of 1 completed\n",
      "/var/folders/cs/3lkp2pnd6j17xyfbtckgkhn40000gn/T/ipykernel_70060/1636383839.py:64: FutureWarning: Calling float on a single element Series is deprecated and will raise a TypeError in the future. Use float(ser.iloc[0]) instead\n",
      "  mean_values['Close'] = round(float(stock_data['Close'].mean()), 2)\n",
      "/var/folders/cs/3lkp2pnd6j17xyfbtckgkhn40000gn/T/ipykernel_70060/1636383839.py:65: FutureWarning: Calling float on a single element Series is deprecated and will raise a TypeError in the future. Use float(ser.iloc[0]) instead\n",
      "  mean_values['High'] = round(float(stock_data['High'].mean()), 2)\n",
      "/var/folders/cs/3lkp2pnd6j17xyfbtckgkhn40000gn/T/ipykernel_70060/1636383839.py:66: FutureWarning: Calling float on a single element Series is deprecated and will raise a TypeError in the future. Use float(ser.iloc[0]) instead\n",
      "  mean_values['Low'] = round(float(stock_data['Low'].mean()), 2)\n",
      "/var/folders/cs/3lkp2pnd6j17xyfbtckgkhn40000gn/T/ipykernel_70060/1636383839.py:67: FutureWarning: Calling float on a single element Series is deprecated and will raise a TypeError in the future. Use float(ser.iloc[0]) instead\n",
      "  mean_values['Open'] = round(float(stock_data['Open'].mean()), 2)\n",
      "/var/folders/cs/3lkp2pnd6j17xyfbtckgkhn40000gn/T/ipykernel_70060/1636383839.py:68: FutureWarning: Calling int on a single element Series is deprecated and will raise a TypeError in the future. Use int(ser.iloc[0]) instead\n",
      "  mean_values['Volume'] = int(stock_data['Volume'].mean())\n"
     ]
    },
    {
     "name": "stdout",
     "output_type": "stream",
     "text": [
      "✅ Data for SCB.BK saved to Thai_ESG_Stock_Data/SCB.BK_2022_2024.csv\n",
      "Fetching data for SCC.BK...\n",
      "✅ Data for SCC.BK saved to Thai_ESG_Stock_Data/SCC.BK_2022_2024.csv\n",
      "Fetching data for SCCC.BK...\n"
     ]
    },
    {
     "name": "stderr",
     "output_type": "stream",
     "text": [
      "[*********************100%***********************]  1 of 1 completed\n",
      "/var/folders/cs/3lkp2pnd6j17xyfbtckgkhn40000gn/T/ipykernel_70060/1636383839.py:64: FutureWarning: Calling float on a single element Series is deprecated and will raise a TypeError in the future. Use float(ser.iloc[0]) instead\n",
      "  mean_values['Close'] = round(float(stock_data['Close'].mean()), 2)\n",
      "/var/folders/cs/3lkp2pnd6j17xyfbtckgkhn40000gn/T/ipykernel_70060/1636383839.py:65: FutureWarning: Calling float on a single element Series is deprecated and will raise a TypeError in the future. Use float(ser.iloc[0]) instead\n",
      "  mean_values['High'] = round(float(stock_data['High'].mean()), 2)\n",
      "/var/folders/cs/3lkp2pnd6j17xyfbtckgkhn40000gn/T/ipykernel_70060/1636383839.py:66: FutureWarning: Calling float on a single element Series is deprecated and will raise a TypeError in the future. Use float(ser.iloc[0]) instead\n",
      "  mean_values['Low'] = round(float(stock_data['Low'].mean()), 2)\n",
      "/var/folders/cs/3lkp2pnd6j17xyfbtckgkhn40000gn/T/ipykernel_70060/1636383839.py:67: FutureWarning: Calling float on a single element Series is deprecated and will raise a TypeError in the future. Use float(ser.iloc[0]) instead\n",
      "  mean_values['Open'] = round(float(stock_data['Open'].mean()), 2)\n",
      "/var/folders/cs/3lkp2pnd6j17xyfbtckgkhn40000gn/T/ipykernel_70060/1636383839.py:68: FutureWarning: Calling int on a single element Series is deprecated and will raise a TypeError in the future. Use int(ser.iloc[0]) instead\n",
      "  mean_values['Volume'] = int(stock_data['Volume'].mean())\n"
     ]
    },
    {
     "name": "stdout",
     "output_type": "stream",
     "text": [
      "✅ Data for SCCC.BK saved to Thai_ESG_Stock_Data/SCCC.BK_2022_2024.csv\n",
      "Fetching data for SCGD.BK...\n"
     ]
    },
    {
     "name": "stderr",
     "output_type": "stream",
     "text": [
      "[*********************100%***********************]  1 of 1 completed\n",
      "/var/folders/cs/3lkp2pnd6j17xyfbtckgkhn40000gn/T/ipykernel_70060/1636383839.py:64: FutureWarning: Calling float on a single element Series is deprecated and will raise a TypeError in the future. Use float(ser.iloc[0]) instead\n",
      "  mean_values['Close'] = round(float(stock_data['Close'].mean()), 2)\n",
      "/var/folders/cs/3lkp2pnd6j17xyfbtckgkhn40000gn/T/ipykernel_70060/1636383839.py:65: FutureWarning: Calling float on a single element Series is deprecated and will raise a TypeError in the future. Use float(ser.iloc[0]) instead\n",
      "  mean_values['High'] = round(float(stock_data['High'].mean()), 2)\n",
      "/var/folders/cs/3lkp2pnd6j17xyfbtckgkhn40000gn/T/ipykernel_70060/1636383839.py:66: FutureWarning: Calling float on a single element Series is deprecated and will raise a TypeError in the future. Use float(ser.iloc[0]) instead\n",
      "  mean_values['Low'] = round(float(stock_data['Low'].mean()), 2)\n",
      "/var/folders/cs/3lkp2pnd6j17xyfbtckgkhn40000gn/T/ipykernel_70060/1636383839.py:67: FutureWarning: Calling float on a single element Series is deprecated and will raise a TypeError in the future. Use float(ser.iloc[0]) instead\n",
      "  mean_values['Open'] = round(float(stock_data['Open'].mean()), 2)\n",
      "/var/folders/cs/3lkp2pnd6j17xyfbtckgkhn40000gn/T/ipykernel_70060/1636383839.py:68: FutureWarning: Calling int on a single element Series is deprecated and will raise a TypeError in the future. Use int(ser.iloc[0]) instead\n",
      "  mean_values['Volume'] = int(stock_data['Volume'].mean())\n"
     ]
    },
    {
     "name": "stdout",
     "output_type": "stream",
     "text": [
      "✅ Data for SCGD.BK saved to Thai_ESG_Stock_Data/SCGD.BK_2022_2024.csv\n",
      "Fetching data for SCGP.BK...\n"
     ]
    },
    {
     "name": "stderr",
     "output_type": "stream",
     "text": [
      "[*********************100%***********************]  1 of 1 completed\n",
      "/var/folders/cs/3lkp2pnd6j17xyfbtckgkhn40000gn/T/ipykernel_70060/1636383839.py:64: FutureWarning: Calling float on a single element Series is deprecated and will raise a TypeError in the future. Use float(ser.iloc[0]) instead\n",
      "  mean_values['Close'] = round(float(stock_data['Close'].mean()), 2)\n",
      "/var/folders/cs/3lkp2pnd6j17xyfbtckgkhn40000gn/T/ipykernel_70060/1636383839.py:65: FutureWarning: Calling float on a single element Series is deprecated and will raise a TypeError in the future. Use float(ser.iloc[0]) instead\n",
      "  mean_values['High'] = round(float(stock_data['High'].mean()), 2)\n",
      "/var/folders/cs/3lkp2pnd6j17xyfbtckgkhn40000gn/T/ipykernel_70060/1636383839.py:66: FutureWarning: Calling float on a single element Series is deprecated and will raise a TypeError in the future. Use float(ser.iloc[0]) instead\n",
      "  mean_values['Low'] = round(float(stock_data['Low'].mean()), 2)\n",
      "/var/folders/cs/3lkp2pnd6j17xyfbtckgkhn40000gn/T/ipykernel_70060/1636383839.py:67: FutureWarning: Calling float on a single element Series is deprecated and will raise a TypeError in the future. Use float(ser.iloc[0]) instead\n",
      "  mean_values['Open'] = round(float(stock_data['Open'].mean()), 2)\n",
      "/var/folders/cs/3lkp2pnd6j17xyfbtckgkhn40000gn/T/ipykernel_70060/1636383839.py:68: FutureWarning: Calling int on a single element Series is deprecated and will raise a TypeError in the future. Use int(ser.iloc[0]) instead\n",
      "  mean_values['Volume'] = int(stock_data['Volume'].mean())\n"
     ]
    },
    {
     "name": "stdout",
     "output_type": "stream",
     "text": [
      "✅ Data for SCGP.BK saved to Thai_ESG_Stock_Data/SCGP.BK_2022_2024.csv\n",
      "Fetching data for SGC.BK...\n"
     ]
    },
    {
     "name": "stderr",
     "output_type": "stream",
     "text": [
      "[*********************100%***********************]  1 of 1 completed\n",
      "/var/folders/cs/3lkp2pnd6j17xyfbtckgkhn40000gn/T/ipykernel_70060/1636383839.py:64: FutureWarning: Calling float on a single element Series is deprecated and will raise a TypeError in the future. Use float(ser.iloc[0]) instead\n",
      "  mean_values['Close'] = round(float(stock_data['Close'].mean()), 2)\n",
      "/var/folders/cs/3lkp2pnd6j17xyfbtckgkhn40000gn/T/ipykernel_70060/1636383839.py:65: FutureWarning: Calling float on a single element Series is deprecated and will raise a TypeError in the future. Use float(ser.iloc[0]) instead\n",
      "  mean_values['High'] = round(float(stock_data['High'].mean()), 2)\n",
      "/var/folders/cs/3lkp2pnd6j17xyfbtckgkhn40000gn/T/ipykernel_70060/1636383839.py:66: FutureWarning: Calling float on a single element Series is deprecated and will raise a TypeError in the future. Use float(ser.iloc[0]) instead\n",
      "  mean_values['Low'] = round(float(stock_data['Low'].mean()), 2)\n",
      "/var/folders/cs/3lkp2pnd6j17xyfbtckgkhn40000gn/T/ipykernel_70060/1636383839.py:67: FutureWarning: Calling float on a single element Series is deprecated and will raise a TypeError in the future. Use float(ser.iloc[0]) instead\n",
      "  mean_values['Open'] = round(float(stock_data['Open'].mean()), 2)\n",
      "/var/folders/cs/3lkp2pnd6j17xyfbtckgkhn40000gn/T/ipykernel_70060/1636383839.py:68: FutureWarning: Calling int on a single element Series is deprecated and will raise a TypeError in the future. Use int(ser.iloc[0]) instead\n",
      "  mean_values['Volume'] = int(stock_data['Volume'].mean())\n"
     ]
    },
    {
     "name": "stdout",
     "output_type": "stream",
     "text": [
      "✅ Data for SGC.BK saved to Thai_ESG_Stock_Data/SGC.BK_2022_2024.csv\n",
      "Fetching data for SHR.BK...\n"
     ]
    },
    {
     "name": "stderr",
     "output_type": "stream",
     "text": [
      "[*********************100%***********************]  1 of 1 completed\n",
      "/var/folders/cs/3lkp2pnd6j17xyfbtckgkhn40000gn/T/ipykernel_70060/1636383839.py:64: FutureWarning: Calling float on a single element Series is deprecated and will raise a TypeError in the future. Use float(ser.iloc[0]) instead\n",
      "  mean_values['Close'] = round(float(stock_data['Close'].mean()), 2)\n",
      "/var/folders/cs/3lkp2pnd6j17xyfbtckgkhn40000gn/T/ipykernel_70060/1636383839.py:65: FutureWarning: Calling float on a single element Series is deprecated and will raise a TypeError in the future. Use float(ser.iloc[0]) instead\n",
      "  mean_values['High'] = round(float(stock_data['High'].mean()), 2)\n",
      "/var/folders/cs/3lkp2pnd6j17xyfbtckgkhn40000gn/T/ipykernel_70060/1636383839.py:66: FutureWarning: Calling float on a single element Series is deprecated and will raise a TypeError in the future. Use float(ser.iloc[0]) instead\n",
      "  mean_values['Low'] = round(float(stock_data['Low'].mean()), 2)\n",
      "/var/folders/cs/3lkp2pnd6j17xyfbtckgkhn40000gn/T/ipykernel_70060/1636383839.py:67: FutureWarning: Calling float on a single element Series is deprecated and will raise a TypeError in the future. Use float(ser.iloc[0]) instead\n",
      "  mean_values['Open'] = round(float(stock_data['Open'].mean()), 2)\n",
      "/var/folders/cs/3lkp2pnd6j17xyfbtckgkhn40000gn/T/ipykernel_70060/1636383839.py:68: FutureWarning: Calling int on a single element Series is deprecated and will raise a TypeError in the future. Use int(ser.iloc[0]) instead\n",
      "  mean_values['Volume'] = int(stock_data['Volume'].mean())\n"
     ]
    },
    {
     "name": "stdout",
     "output_type": "stream",
     "text": [
      "✅ Data for SHR.BK saved to Thai_ESG_Stock_Data/SHR.BK_2022_2024.csv\n",
      "Fetching data for SIRI.BK...\n"
     ]
    },
    {
     "name": "stderr",
     "output_type": "stream",
     "text": [
      "[*********************100%***********************]  1 of 1 completed\n",
      "/var/folders/cs/3lkp2pnd6j17xyfbtckgkhn40000gn/T/ipykernel_70060/1636383839.py:64: FutureWarning: Calling float on a single element Series is deprecated and will raise a TypeError in the future. Use float(ser.iloc[0]) instead\n",
      "  mean_values['Close'] = round(float(stock_data['Close'].mean()), 2)\n",
      "/var/folders/cs/3lkp2pnd6j17xyfbtckgkhn40000gn/T/ipykernel_70060/1636383839.py:65: FutureWarning: Calling float on a single element Series is deprecated and will raise a TypeError in the future. Use float(ser.iloc[0]) instead\n",
      "  mean_values['High'] = round(float(stock_data['High'].mean()), 2)\n",
      "/var/folders/cs/3lkp2pnd6j17xyfbtckgkhn40000gn/T/ipykernel_70060/1636383839.py:66: FutureWarning: Calling float on a single element Series is deprecated and will raise a TypeError in the future. Use float(ser.iloc[0]) instead\n",
      "  mean_values['Low'] = round(float(stock_data['Low'].mean()), 2)\n",
      "/var/folders/cs/3lkp2pnd6j17xyfbtckgkhn40000gn/T/ipykernel_70060/1636383839.py:67: FutureWarning: Calling float on a single element Series is deprecated and will raise a TypeError in the future. Use float(ser.iloc[0]) instead\n",
      "  mean_values['Open'] = round(float(stock_data['Open'].mean()), 2)\n",
      "/var/folders/cs/3lkp2pnd6j17xyfbtckgkhn40000gn/T/ipykernel_70060/1636383839.py:68: FutureWarning: Calling int on a single element Series is deprecated and will raise a TypeError in the future. Use int(ser.iloc[0]) instead\n",
      "  mean_values['Volume'] = int(stock_data['Volume'].mean())\n"
     ]
    },
    {
     "name": "stdout",
     "output_type": "stream",
     "text": [
      "✅ Data for SIRI.BK saved to Thai_ESG_Stock_Data/SIRI.BK_2022_2024.csv\n",
      "Fetching data for SJWD.BK...\n"
     ]
    },
    {
     "name": "stderr",
     "output_type": "stream",
     "text": [
      "[*********************100%***********************]  1 of 1 completed\n",
      "/var/folders/cs/3lkp2pnd6j17xyfbtckgkhn40000gn/T/ipykernel_70060/1636383839.py:64: FutureWarning: Calling float on a single element Series is deprecated and will raise a TypeError in the future. Use float(ser.iloc[0]) instead\n",
      "  mean_values['Close'] = round(float(stock_data['Close'].mean()), 2)\n",
      "/var/folders/cs/3lkp2pnd6j17xyfbtckgkhn40000gn/T/ipykernel_70060/1636383839.py:65: FutureWarning: Calling float on a single element Series is deprecated and will raise a TypeError in the future. Use float(ser.iloc[0]) instead\n",
      "  mean_values['High'] = round(float(stock_data['High'].mean()), 2)\n",
      "/var/folders/cs/3lkp2pnd6j17xyfbtckgkhn40000gn/T/ipykernel_70060/1636383839.py:66: FutureWarning: Calling float on a single element Series is deprecated and will raise a TypeError in the future. Use float(ser.iloc[0]) instead\n",
      "  mean_values['Low'] = round(float(stock_data['Low'].mean()), 2)\n",
      "/var/folders/cs/3lkp2pnd6j17xyfbtckgkhn40000gn/T/ipykernel_70060/1636383839.py:67: FutureWarning: Calling float on a single element Series is deprecated and will raise a TypeError in the future. Use float(ser.iloc[0]) instead\n",
      "  mean_values['Open'] = round(float(stock_data['Open'].mean()), 2)\n",
      "/var/folders/cs/3lkp2pnd6j17xyfbtckgkhn40000gn/T/ipykernel_70060/1636383839.py:68: FutureWarning: Calling int on a single element Series is deprecated and will raise a TypeError in the future. Use int(ser.iloc[0]) instead\n",
      "  mean_values['Volume'] = int(stock_data['Volume'].mean())\n"
     ]
    },
    {
     "name": "stdout",
     "output_type": "stream",
     "text": [
      "✅ Data for SJWD.BK saved to Thai_ESG_Stock_Data/SJWD.BK_2022_2024.csv\n",
      "Fetching data for SMPC.BK...\n"
     ]
    },
    {
     "name": "stderr",
     "output_type": "stream",
     "text": [
      "[*********************100%***********************]  1 of 1 completed\n",
      "/var/folders/cs/3lkp2pnd6j17xyfbtckgkhn40000gn/T/ipykernel_70060/1636383839.py:64: FutureWarning: Calling float on a single element Series is deprecated and will raise a TypeError in the future. Use float(ser.iloc[0]) instead\n",
      "  mean_values['Close'] = round(float(stock_data['Close'].mean()), 2)\n",
      "/var/folders/cs/3lkp2pnd6j17xyfbtckgkhn40000gn/T/ipykernel_70060/1636383839.py:65: FutureWarning: Calling float on a single element Series is deprecated and will raise a TypeError in the future. Use float(ser.iloc[0]) instead\n",
      "  mean_values['High'] = round(float(stock_data['High'].mean()), 2)\n",
      "/var/folders/cs/3lkp2pnd6j17xyfbtckgkhn40000gn/T/ipykernel_70060/1636383839.py:66: FutureWarning: Calling float on a single element Series is deprecated and will raise a TypeError in the future. Use float(ser.iloc[0]) instead\n",
      "  mean_values['Low'] = round(float(stock_data['Low'].mean()), 2)\n",
      "/var/folders/cs/3lkp2pnd6j17xyfbtckgkhn40000gn/T/ipykernel_70060/1636383839.py:67: FutureWarning: Calling float on a single element Series is deprecated and will raise a TypeError in the future. Use float(ser.iloc[0]) instead\n",
      "  mean_values['Open'] = round(float(stock_data['Open'].mean()), 2)\n",
      "/var/folders/cs/3lkp2pnd6j17xyfbtckgkhn40000gn/T/ipykernel_70060/1636383839.py:68: FutureWarning: Calling int on a single element Series is deprecated and will raise a TypeError in the future. Use int(ser.iloc[0]) instead\n",
      "  mean_values['Volume'] = int(stock_data['Volume'].mean())\n"
     ]
    },
    {
     "name": "stdout",
     "output_type": "stream",
     "text": [
      "✅ Data for SMPC.BK saved to Thai_ESG_Stock_Data/SMPC.BK_2022_2024.csv\n",
      "Fetching data for SNNP.BK...\n"
     ]
    },
    {
     "name": "stderr",
     "output_type": "stream",
     "text": [
      "[*********************100%***********************]  1 of 1 completed\n",
      "/var/folders/cs/3lkp2pnd6j17xyfbtckgkhn40000gn/T/ipykernel_70060/1636383839.py:64: FutureWarning: Calling float on a single element Series is deprecated and will raise a TypeError in the future. Use float(ser.iloc[0]) instead\n",
      "  mean_values['Close'] = round(float(stock_data['Close'].mean()), 2)\n",
      "/var/folders/cs/3lkp2pnd6j17xyfbtckgkhn40000gn/T/ipykernel_70060/1636383839.py:65: FutureWarning: Calling float on a single element Series is deprecated and will raise a TypeError in the future. Use float(ser.iloc[0]) instead\n",
      "  mean_values['High'] = round(float(stock_data['High'].mean()), 2)\n",
      "/var/folders/cs/3lkp2pnd6j17xyfbtckgkhn40000gn/T/ipykernel_70060/1636383839.py:66: FutureWarning: Calling float on a single element Series is deprecated and will raise a TypeError in the future. Use float(ser.iloc[0]) instead\n",
      "  mean_values['Low'] = round(float(stock_data['Low'].mean()), 2)\n",
      "/var/folders/cs/3lkp2pnd6j17xyfbtckgkhn40000gn/T/ipykernel_70060/1636383839.py:67: FutureWarning: Calling float on a single element Series is deprecated and will raise a TypeError in the future. Use float(ser.iloc[0]) instead\n",
      "  mean_values['Open'] = round(float(stock_data['Open'].mean()), 2)\n",
      "/var/folders/cs/3lkp2pnd6j17xyfbtckgkhn40000gn/T/ipykernel_70060/1636383839.py:68: FutureWarning: Calling int on a single element Series is deprecated and will raise a TypeError in the future. Use int(ser.iloc[0]) instead\n",
      "  mean_values['Volume'] = int(stock_data['Volume'].mean())\n"
     ]
    },
    {
     "name": "stdout",
     "output_type": "stream",
     "text": [
      "✅ Data for SNNP.BK saved to Thai_ESG_Stock_Data/SNNP.BK_2022_2024.csv\n",
      "Fetching data for SPALI.BK...\n"
     ]
    },
    {
     "name": "stderr",
     "output_type": "stream",
     "text": [
      "[*********************100%***********************]  1 of 1 completed\n",
      "/var/folders/cs/3lkp2pnd6j17xyfbtckgkhn40000gn/T/ipykernel_70060/1636383839.py:64: FutureWarning: Calling float on a single element Series is deprecated and will raise a TypeError in the future. Use float(ser.iloc[0]) instead\n",
      "  mean_values['Close'] = round(float(stock_data['Close'].mean()), 2)\n",
      "/var/folders/cs/3lkp2pnd6j17xyfbtckgkhn40000gn/T/ipykernel_70060/1636383839.py:65: FutureWarning: Calling float on a single element Series is deprecated and will raise a TypeError in the future. Use float(ser.iloc[0]) instead\n",
      "  mean_values['High'] = round(float(stock_data['High'].mean()), 2)\n",
      "/var/folders/cs/3lkp2pnd6j17xyfbtckgkhn40000gn/T/ipykernel_70060/1636383839.py:66: FutureWarning: Calling float on a single element Series is deprecated and will raise a TypeError in the future. Use float(ser.iloc[0]) instead\n",
      "  mean_values['Low'] = round(float(stock_data['Low'].mean()), 2)\n",
      "/var/folders/cs/3lkp2pnd6j17xyfbtckgkhn40000gn/T/ipykernel_70060/1636383839.py:67: FutureWarning: Calling float on a single element Series is deprecated and will raise a TypeError in the future. Use float(ser.iloc[0]) instead\n",
      "  mean_values['Open'] = round(float(stock_data['Open'].mean()), 2)\n",
      "/var/folders/cs/3lkp2pnd6j17xyfbtckgkhn40000gn/T/ipykernel_70060/1636383839.py:68: FutureWarning: Calling int on a single element Series is deprecated and will raise a TypeError in the future. Use int(ser.iloc[0]) instead\n",
      "  mean_values['Volume'] = int(stock_data['Volume'].mean())\n"
     ]
    },
    {
     "name": "stdout",
     "output_type": "stream",
     "text": [
      "✅ Data for SPALI.BK saved to Thai_ESG_Stock_Data/SPALI.BK_2022_2024.csv\n",
      "Fetching data for SSP.BK...\n"
     ]
    },
    {
     "name": "stderr",
     "output_type": "stream",
     "text": [
      "[*********************100%***********************]  1 of 1 completed\n",
      "/var/folders/cs/3lkp2pnd6j17xyfbtckgkhn40000gn/T/ipykernel_70060/1636383839.py:64: FutureWarning: Calling float on a single element Series is deprecated and will raise a TypeError in the future. Use float(ser.iloc[0]) instead\n",
      "  mean_values['Close'] = round(float(stock_data['Close'].mean()), 2)\n",
      "/var/folders/cs/3lkp2pnd6j17xyfbtckgkhn40000gn/T/ipykernel_70060/1636383839.py:65: FutureWarning: Calling float on a single element Series is deprecated and will raise a TypeError in the future. Use float(ser.iloc[0]) instead\n",
      "  mean_values['High'] = round(float(stock_data['High'].mean()), 2)\n",
      "/var/folders/cs/3lkp2pnd6j17xyfbtckgkhn40000gn/T/ipykernel_70060/1636383839.py:66: FutureWarning: Calling float on a single element Series is deprecated and will raise a TypeError in the future. Use float(ser.iloc[0]) instead\n",
      "  mean_values['Low'] = round(float(stock_data['Low'].mean()), 2)\n",
      "/var/folders/cs/3lkp2pnd6j17xyfbtckgkhn40000gn/T/ipykernel_70060/1636383839.py:67: FutureWarning: Calling float on a single element Series is deprecated and will raise a TypeError in the future. Use float(ser.iloc[0]) instead\n",
      "  mean_values['Open'] = round(float(stock_data['Open'].mean()), 2)\n",
      "/var/folders/cs/3lkp2pnd6j17xyfbtckgkhn40000gn/T/ipykernel_70060/1636383839.py:68: FutureWarning: Calling int on a single element Series is deprecated and will raise a TypeError in the future. Use int(ser.iloc[0]) instead\n",
      "  mean_values['Volume'] = int(stock_data['Volume'].mean())\n",
      "[*********************100%***********************]  1 of 1 completed\n",
      "/var/folders/cs/3lkp2pnd6j17xyfbtckgkhn40000gn/T/ipykernel_70060/1636383839.py:64: FutureWarning: Calling float on a single element Series is deprecated and will raise a TypeError in the future. Use float(ser.iloc[0]) instead\n",
      "  mean_values['Close'] = round(float(stock_data['Close'].mean()), 2)\n",
      "/var/folders/cs/3lkp2pnd6j17xyfbtckgkhn40000gn/T/ipykernel_70060/1636383839.py:65: FutureWarning: Calling float on a single element Series is deprecated and will raise a TypeError in the future. Use float(ser.iloc[0]) instead\n",
      "  mean_values['High'] = round(float(stock_data['High'].mean()), 2)\n",
      "/var/folders/cs/3lkp2pnd6j17xyfbtckgkhn40000gn/T/ipykernel_70060/1636383839.py:66: FutureWarning: Calling float on a single element Series is deprecated and will raise a TypeError in the future. Use float(ser.iloc[0]) instead\n",
      "  mean_values['Low'] = round(float(stock_data['Low'].mean()), 2)\n",
      "/var/folders/cs/3lkp2pnd6j17xyfbtckgkhn40000gn/T/ipykernel_70060/1636383839.py:67: FutureWarning: Calling float on a single element Series is deprecated and will raise a TypeError in the future. Use float(ser.iloc[0]) instead\n",
      "  mean_values['Open'] = round(float(stock_data['Open'].mean()), 2)\n",
      "/var/folders/cs/3lkp2pnd6j17xyfbtckgkhn40000gn/T/ipykernel_70060/1636383839.py:68: FutureWarning: Calling int on a single element Series is deprecated and will raise a TypeError in the future. Use int(ser.iloc[0]) instead\n",
      "  mean_values['Volume'] = int(stock_data['Volume'].mean())\n"
     ]
    },
    {
     "name": "stdout",
     "output_type": "stream",
     "text": [
      "✅ Data for SSP.BK saved to Thai_ESG_Stock_Data/SSP.BK_2022_2024.csv\n",
      "Fetching data for STA.BK...\n",
      "✅ Data for STA.BK saved to Thai_ESG_Stock_Data/STA.BK_2022_2024.csv\n",
      "Fetching data for STECON.BK...\n"
     ]
    },
    {
     "name": "stderr",
     "output_type": "stream",
     "text": [
      "[*********************100%***********************]  1 of 1 completed\n",
      "/var/folders/cs/3lkp2pnd6j17xyfbtckgkhn40000gn/T/ipykernel_70060/1636383839.py:64: FutureWarning: Calling float on a single element Series is deprecated and will raise a TypeError in the future. Use float(ser.iloc[0]) instead\n",
      "  mean_values['Close'] = round(float(stock_data['Close'].mean()), 2)\n",
      "/var/folders/cs/3lkp2pnd6j17xyfbtckgkhn40000gn/T/ipykernel_70060/1636383839.py:65: FutureWarning: Calling float on a single element Series is deprecated and will raise a TypeError in the future. Use float(ser.iloc[0]) instead\n",
      "  mean_values['High'] = round(float(stock_data['High'].mean()), 2)\n",
      "/var/folders/cs/3lkp2pnd6j17xyfbtckgkhn40000gn/T/ipykernel_70060/1636383839.py:66: FutureWarning: Calling float on a single element Series is deprecated and will raise a TypeError in the future. Use float(ser.iloc[0]) instead\n",
      "  mean_values['Low'] = round(float(stock_data['Low'].mean()), 2)\n",
      "/var/folders/cs/3lkp2pnd6j17xyfbtckgkhn40000gn/T/ipykernel_70060/1636383839.py:67: FutureWarning: Calling float on a single element Series is deprecated and will raise a TypeError in the future. Use float(ser.iloc[0]) instead\n",
      "  mean_values['Open'] = round(float(stock_data['Open'].mean()), 2)\n",
      "/var/folders/cs/3lkp2pnd6j17xyfbtckgkhn40000gn/T/ipykernel_70060/1636383839.py:68: FutureWarning: Calling int on a single element Series is deprecated and will raise a TypeError in the future. Use int(ser.iloc[0]) instead\n",
      "  mean_values['Volume'] = int(stock_data['Volume'].mean())\n"
     ]
    },
    {
     "name": "stdout",
     "output_type": "stream",
     "text": [
      "✅ Data for STECON.BK saved to Thai_ESG_Stock_Data/STECON.BK_2022_2024.csv\n",
      "Fetching data for STGT.BK...\n"
     ]
    },
    {
     "name": "stderr",
     "output_type": "stream",
     "text": [
      "[*********************100%***********************]  1 of 1 completed\n",
      "/var/folders/cs/3lkp2pnd6j17xyfbtckgkhn40000gn/T/ipykernel_70060/1636383839.py:64: FutureWarning: Calling float on a single element Series is deprecated and will raise a TypeError in the future. Use float(ser.iloc[0]) instead\n",
      "  mean_values['Close'] = round(float(stock_data['Close'].mean()), 2)\n",
      "/var/folders/cs/3lkp2pnd6j17xyfbtckgkhn40000gn/T/ipykernel_70060/1636383839.py:65: FutureWarning: Calling float on a single element Series is deprecated and will raise a TypeError in the future. Use float(ser.iloc[0]) instead\n",
      "  mean_values['High'] = round(float(stock_data['High'].mean()), 2)\n",
      "/var/folders/cs/3lkp2pnd6j17xyfbtckgkhn40000gn/T/ipykernel_70060/1636383839.py:66: FutureWarning: Calling float on a single element Series is deprecated and will raise a TypeError in the future. Use float(ser.iloc[0]) instead\n",
      "  mean_values['Low'] = round(float(stock_data['Low'].mean()), 2)\n",
      "/var/folders/cs/3lkp2pnd6j17xyfbtckgkhn40000gn/T/ipykernel_70060/1636383839.py:67: FutureWarning: Calling float on a single element Series is deprecated and will raise a TypeError in the future. Use float(ser.iloc[0]) instead\n",
      "  mean_values['Open'] = round(float(stock_data['Open'].mean()), 2)\n",
      "/var/folders/cs/3lkp2pnd6j17xyfbtckgkhn40000gn/T/ipykernel_70060/1636383839.py:68: FutureWarning: Calling int on a single element Series is deprecated and will raise a TypeError in the future. Use int(ser.iloc[0]) instead\n",
      "  mean_values['Volume'] = int(stock_data['Volume'].mean())\n"
     ]
    },
    {
     "name": "stdout",
     "output_type": "stream",
     "text": [
      "✅ Data for STGT.BK saved to Thai_ESG_Stock_Data/STGT.BK_2022_2024.csv\n",
      "Fetching data for SYNEX.BK...\n"
     ]
    },
    {
     "name": "stderr",
     "output_type": "stream",
     "text": [
      "[*********************100%***********************]  1 of 1 completed\n",
      "/var/folders/cs/3lkp2pnd6j17xyfbtckgkhn40000gn/T/ipykernel_70060/1636383839.py:64: FutureWarning: Calling float on a single element Series is deprecated and will raise a TypeError in the future. Use float(ser.iloc[0]) instead\n",
      "  mean_values['Close'] = round(float(stock_data['Close'].mean()), 2)\n",
      "/var/folders/cs/3lkp2pnd6j17xyfbtckgkhn40000gn/T/ipykernel_70060/1636383839.py:65: FutureWarning: Calling float on a single element Series is deprecated and will raise a TypeError in the future. Use float(ser.iloc[0]) instead\n",
      "  mean_values['High'] = round(float(stock_data['High'].mean()), 2)\n",
      "/var/folders/cs/3lkp2pnd6j17xyfbtckgkhn40000gn/T/ipykernel_70060/1636383839.py:66: FutureWarning: Calling float on a single element Series is deprecated and will raise a TypeError in the future. Use float(ser.iloc[0]) instead\n",
      "  mean_values['Low'] = round(float(stock_data['Low'].mean()), 2)\n",
      "/var/folders/cs/3lkp2pnd6j17xyfbtckgkhn40000gn/T/ipykernel_70060/1636383839.py:67: FutureWarning: Calling float on a single element Series is deprecated and will raise a TypeError in the future. Use float(ser.iloc[0]) instead\n",
      "  mean_values['Open'] = round(float(stock_data['Open'].mean()), 2)\n",
      "/var/folders/cs/3lkp2pnd6j17xyfbtckgkhn40000gn/T/ipykernel_70060/1636383839.py:68: FutureWarning: Calling int on a single element Series is deprecated and will raise a TypeError in the future. Use int(ser.iloc[0]) instead\n",
      "  mean_values['Volume'] = int(stock_data['Volume'].mean())\n"
     ]
    },
    {
     "name": "stdout",
     "output_type": "stream",
     "text": [
      "✅ Data for SYNEX.BK saved to Thai_ESG_Stock_Data/SYNEX.BK_2022_2024.csv\n",
      "Fetching data for TASCO.BK...\n"
     ]
    },
    {
     "name": "stderr",
     "output_type": "stream",
     "text": [
      "[*********************100%***********************]  1 of 1 completed\n",
      "/var/folders/cs/3lkp2pnd6j17xyfbtckgkhn40000gn/T/ipykernel_70060/1636383839.py:64: FutureWarning: Calling float on a single element Series is deprecated and will raise a TypeError in the future. Use float(ser.iloc[0]) instead\n",
      "  mean_values['Close'] = round(float(stock_data['Close'].mean()), 2)\n",
      "/var/folders/cs/3lkp2pnd6j17xyfbtckgkhn40000gn/T/ipykernel_70060/1636383839.py:65: FutureWarning: Calling float on a single element Series is deprecated and will raise a TypeError in the future. Use float(ser.iloc[0]) instead\n",
      "  mean_values['High'] = round(float(stock_data['High'].mean()), 2)\n",
      "/var/folders/cs/3lkp2pnd6j17xyfbtckgkhn40000gn/T/ipykernel_70060/1636383839.py:66: FutureWarning: Calling float on a single element Series is deprecated and will raise a TypeError in the future. Use float(ser.iloc[0]) instead\n",
      "  mean_values['Low'] = round(float(stock_data['Low'].mean()), 2)\n",
      "/var/folders/cs/3lkp2pnd6j17xyfbtckgkhn40000gn/T/ipykernel_70060/1636383839.py:67: FutureWarning: Calling float on a single element Series is deprecated and will raise a TypeError in the future. Use float(ser.iloc[0]) instead\n",
      "  mean_values['Open'] = round(float(stock_data['Open'].mean()), 2)\n",
      "/var/folders/cs/3lkp2pnd6j17xyfbtckgkhn40000gn/T/ipykernel_70060/1636383839.py:68: FutureWarning: Calling int on a single element Series is deprecated and will raise a TypeError in the future. Use int(ser.iloc[0]) instead\n",
      "  mean_values['Volume'] = int(stock_data['Volume'].mean())\n"
     ]
    },
    {
     "name": "stdout",
     "output_type": "stream",
     "text": [
      "✅ Data for TASCO.BK saved to Thai_ESG_Stock_Data/TASCO.BK_2022_2024.csv\n",
      "Fetching data for TCAP.BK...\n"
     ]
    },
    {
     "name": "stderr",
     "output_type": "stream",
     "text": [
      "[*********************100%***********************]  1 of 1 completed\n",
      "/var/folders/cs/3lkp2pnd6j17xyfbtckgkhn40000gn/T/ipykernel_70060/1636383839.py:64: FutureWarning: Calling float on a single element Series is deprecated and will raise a TypeError in the future. Use float(ser.iloc[0]) instead\n",
      "  mean_values['Close'] = round(float(stock_data['Close'].mean()), 2)\n",
      "/var/folders/cs/3lkp2pnd6j17xyfbtckgkhn40000gn/T/ipykernel_70060/1636383839.py:65: FutureWarning: Calling float on a single element Series is deprecated and will raise a TypeError in the future. Use float(ser.iloc[0]) instead\n",
      "  mean_values['High'] = round(float(stock_data['High'].mean()), 2)\n",
      "/var/folders/cs/3lkp2pnd6j17xyfbtckgkhn40000gn/T/ipykernel_70060/1636383839.py:66: FutureWarning: Calling float on a single element Series is deprecated and will raise a TypeError in the future. Use float(ser.iloc[0]) instead\n",
      "  mean_values['Low'] = round(float(stock_data['Low'].mean()), 2)\n",
      "/var/folders/cs/3lkp2pnd6j17xyfbtckgkhn40000gn/T/ipykernel_70060/1636383839.py:67: FutureWarning: Calling float on a single element Series is deprecated and will raise a TypeError in the future. Use float(ser.iloc[0]) instead\n",
      "  mean_values['Open'] = round(float(stock_data['Open'].mean()), 2)\n",
      "/var/folders/cs/3lkp2pnd6j17xyfbtckgkhn40000gn/T/ipykernel_70060/1636383839.py:68: FutureWarning: Calling int on a single element Series is deprecated and will raise a TypeError in the future. Use int(ser.iloc[0]) instead\n",
      "  mean_values['Volume'] = int(stock_data['Volume'].mean())\n"
     ]
    },
    {
     "name": "stdout",
     "output_type": "stream",
     "text": [
      "✅ Data for TCAP.BK saved to Thai_ESG_Stock_Data/TCAP.BK_2022_2024.csv\n",
      "Fetching data for THANI.BK...\n"
     ]
    },
    {
     "name": "stderr",
     "output_type": "stream",
     "text": [
      "[*********************100%***********************]  1 of 1 completed\n",
      "/var/folders/cs/3lkp2pnd6j17xyfbtckgkhn40000gn/T/ipykernel_70060/1636383839.py:64: FutureWarning: Calling float on a single element Series is deprecated and will raise a TypeError in the future. Use float(ser.iloc[0]) instead\n",
      "  mean_values['Close'] = round(float(stock_data['Close'].mean()), 2)\n",
      "/var/folders/cs/3lkp2pnd6j17xyfbtckgkhn40000gn/T/ipykernel_70060/1636383839.py:65: FutureWarning: Calling float on a single element Series is deprecated and will raise a TypeError in the future. Use float(ser.iloc[0]) instead\n",
      "  mean_values['High'] = round(float(stock_data['High'].mean()), 2)\n",
      "/var/folders/cs/3lkp2pnd6j17xyfbtckgkhn40000gn/T/ipykernel_70060/1636383839.py:66: FutureWarning: Calling float on a single element Series is deprecated and will raise a TypeError in the future. Use float(ser.iloc[0]) instead\n",
      "  mean_values['Low'] = round(float(stock_data['Low'].mean()), 2)\n",
      "/var/folders/cs/3lkp2pnd6j17xyfbtckgkhn40000gn/T/ipykernel_70060/1636383839.py:67: FutureWarning: Calling float on a single element Series is deprecated and will raise a TypeError in the future. Use float(ser.iloc[0]) instead\n",
      "  mean_values['Open'] = round(float(stock_data['Open'].mean()), 2)\n",
      "/var/folders/cs/3lkp2pnd6j17xyfbtckgkhn40000gn/T/ipykernel_70060/1636383839.py:68: FutureWarning: Calling int on a single element Series is deprecated and will raise a TypeError in the future. Use int(ser.iloc[0]) instead\n",
      "  mean_values['Volume'] = int(stock_data['Volume'].mean())\n",
      "[*********************100%***********************]  1 of 1 completed\n",
      "/var/folders/cs/3lkp2pnd6j17xyfbtckgkhn40000gn/T/ipykernel_70060/1636383839.py:64: FutureWarning: Calling float on a single element Series is deprecated and will raise a TypeError in the future. Use float(ser.iloc[0]) instead\n",
      "  mean_values['Close'] = round(float(stock_data['Close'].mean()), 2)\n",
      "/var/folders/cs/3lkp2pnd6j17xyfbtckgkhn40000gn/T/ipykernel_70060/1636383839.py:65: FutureWarning: Calling float on a single element Series is deprecated and will raise a TypeError in the future. Use float(ser.iloc[0]) instead\n",
      "  mean_values['High'] = round(float(stock_data['High'].mean()), 2)\n",
      "/var/folders/cs/3lkp2pnd6j17xyfbtckgkhn40000gn/T/ipykernel_70060/1636383839.py:66: FutureWarning: Calling float on a single element Series is deprecated and will raise a TypeError in the future. Use float(ser.iloc[0]) instead\n",
      "  mean_values['Low'] = round(float(stock_data['Low'].mean()), 2)\n",
      "/var/folders/cs/3lkp2pnd6j17xyfbtckgkhn40000gn/T/ipykernel_70060/1636383839.py:67: FutureWarning: Calling float on a single element Series is deprecated and will raise a TypeError in the future. Use float(ser.iloc[0]) instead\n",
      "  mean_values['Open'] = round(float(stock_data['Open'].mean()), 2)\n",
      "/var/folders/cs/3lkp2pnd6j17xyfbtckgkhn40000gn/T/ipykernel_70060/1636383839.py:68: FutureWarning: Calling int on a single element Series is deprecated and will raise a TypeError in the future. Use int(ser.iloc[0]) instead\n",
      "  mean_values['Volume'] = int(stock_data['Volume'].mean())\n"
     ]
    },
    {
     "name": "stdout",
     "output_type": "stream",
     "text": [
      "✅ Data for THANI.BK saved to Thai_ESG_Stock_Data/THANI.BK_2022_2024.csv\n",
      "Fetching data for THCOM.BK...\n",
      "✅ Data for THCOM.BK saved to Thai_ESG_Stock_Data/THCOM.BK_2022_2024.csv\n",
      "Fetching data for TISCO.BK...\n"
     ]
    },
    {
     "name": "stderr",
     "output_type": "stream",
     "text": [
      "[*********************100%***********************]  1 of 1 completed\n",
      "/var/folders/cs/3lkp2pnd6j17xyfbtckgkhn40000gn/T/ipykernel_70060/1636383839.py:64: FutureWarning: Calling float on a single element Series is deprecated and will raise a TypeError in the future. Use float(ser.iloc[0]) instead\n",
      "  mean_values['Close'] = round(float(stock_data['Close'].mean()), 2)\n",
      "/var/folders/cs/3lkp2pnd6j17xyfbtckgkhn40000gn/T/ipykernel_70060/1636383839.py:65: FutureWarning: Calling float on a single element Series is deprecated and will raise a TypeError in the future. Use float(ser.iloc[0]) instead\n",
      "  mean_values['High'] = round(float(stock_data['High'].mean()), 2)\n",
      "/var/folders/cs/3lkp2pnd6j17xyfbtckgkhn40000gn/T/ipykernel_70060/1636383839.py:66: FutureWarning: Calling float on a single element Series is deprecated and will raise a TypeError in the future. Use float(ser.iloc[0]) instead\n",
      "  mean_values['Low'] = round(float(stock_data['Low'].mean()), 2)\n",
      "/var/folders/cs/3lkp2pnd6j17xyfbtckgkhn40000gn/T/ipykernel_70060/1636383839.py:67: FutureWarning: Calling float on a single element Series is deprecated and will raise a TypeError in the future. Use float(ser.iloc[0]) instead\n",
      "  mean_values['Open'] = round(float(stock_data['Open'].mean()), 2)\n",
      "/var/folders/cs/3lkp2pnd6j17xyfbtckgkhn40000gn/T/ipykernel_70060/1636383839.py:68: FutureWarning: Calling int on a single element Series is deprecated and will raise a TypeError in the future. Use int(ser.iloc[0]) instead\n",
      "  mean_values['Volume'] = int(stock_data['Volume'].mean())\n",
      "[*********************100%***********************]  1 of 1 completed\n",
      "/var/folders/cs/3lkp2pnd6j17xyfbtckgkhn40000gn/T/ipykernel_70060/1636383839.py:64: FutureWarning: Calling float on a single element Series is deprecated and will raise a TypeError in the future. Use float(ser.iloc[0]) instead\n",
      "  mean_values['Close'] = round(float(stock_data['Close'].mean()), 2)\n",
      "/var/folders/cs/3lkp2pnd6j17xyfbtckgkhn40000gn/T/ipykernel_70060/1636383839.py:65: FutureWarning: Calling float on a single element Series is deprecated and will raise a TypeError in the future. Use float(ser.iloc[0]) instead\n",
      "  mean_values['High'] = round(float(stock_data['High'].mean()), 2)\n",
      "/var/folders/cs/3lkp2pnd6j17xyfbtckgkhn40000gn/T/ipykernel_70060/1636383839.py:66: FutureWarning: Calling float on a single element Series is deprecated and will raise a TypeError in the future. Use float(ser.iloc[0]) instead\n",
      "  mean_values['Low'] = round(float(stock_data['Low'].mean()), 2)\n",
      "/var/folders/cs/3lkp2pnd6j17xyfbtckgkhn40000gn/T/ipykernel_70060/1636383839.py:67: FutureWarning: Calling float on a single element Series is deprecated and will raise a TypeError in the future. Use float(ser.iloc[0]) instead\n",
      "  mean_values['Open'] = round(float(stock_data['Open'].mean()), 2)\n",
      "/var/folders/cs/3lkp2pnd6j17xyfbtckgkhn40000gn/T/ipykernel_70060/1636383839.py:68: FutureWarning: Calling int on a single element Series is deprecated and will raise a TypeError in the future. Use int(ser.iloc[0]) instead\n",
      "  mean_values['Volume'] = int(stock_data['Volume'].mean())\n"
     ]
    },
    {
     "name": "stdout",
     "output_type": "stream",
     "text": [
      "✅ Data for TISCO.BK saved to Thai_ESG_Stock_Data/TISCO.BK_2022_2024.csv\n",
      "Fetching data for TLI.BK...\n",
      "✅ Data for TLI.BK saved to Thai_ESG_Stock_Data/TLI.BK_2022_2024.csv\n",
      "Fetching data for TOA.BK...\n"
     ]
    },
    {
     "name": "stderr",
     "output_type": "stream",
     "text": [
      "[*********************100%***********************]  1 of 1 completed\n",
      "/var/folders/cs/3lkp2pnd6j17xyfbtckgkhn40000gn/T/ipykernel_70060/1636383839.py:64: FutureWarning: Calling float on a single element Series is deprecated and will raise a TypeError in the future. Use float(ser.iloc[0]) instead\n",
      "  mean_values['Close'] = round(float(stock_data['Close'].mean()), 2)\n",
      "/var/folders/cs/3lkp2pnd6j17xyfbtckgkhn40000gn/T/ipykernel_70060/1636383839.py:65: FutureWarning: Calling float on a single element Series is deprecated and will raise a TypeError in the future. Use float(ser.iloc[0]) instead\n",
      "  mean_values['High'] = round(float(stock_data['High'].mean()), 2)\n",
      "/var/folders/cs/3lkp2pnd6j17xyfbtckgkhn40000gn/T/ipykernel_70060/1636383839.py:66: FutureWarning: Calling float on a single element Series is deprecated and will raise a TypeError in the future. Use float(ser.iloc[0]) instead\n",
      "  mean_values['Low'] = round(float(stock_data['Low'].mean()), 2)\n",
      "/var/folders/cs/3lkp2pnd6j17xyfbtckgkhn40000gn/T/ipykernel_70060/1636383839.py:67: FutureWarning: Calling float on a single element Series is deprecated and will raise a TypeError in the future. Use float(ser.iloc[0]) instead\n",
      "  mean_values['Open'] = round(float(stock_data['Open'].mean()), 2)\n",
      "/var/folders/cs/3lkp2pnd6j17xyfbtckgkhn40000gn/T/ipykernel_70060/1636383839.py:68: FutureWarning: Calling int on a single element Series is deprecated and will raise a TypeError in the future. Use int(ser.iloc[0]) instead\n",
      "  mean_values['Volume'] = int(stock_data['Volume'].mean())\n"
     ]
    },
    {
     "name": "stdout",
     "output_type": "stream",
     "text": [
      "✅ Data for TOA.BK saved to Thai_ESG_Stock_Data/TOA.BK_2022_2024.csv\n",
      "Fetching data for TOP.BK...\n"
     ]
    },
    {
     "name": "stderr",
     "output_type": "stream",
     "text": [
      "[*********************100%***********************]  1 of 1 completed\n",
      "/var/folders/cs/3lkp2pnd6j17xyfbtckgkhn40000gn/T/ipykernel_70060/1636383839.py:64: FutureWarning: Calling float on a single element Series is deprecated and will raise a TypeError in the future. Use float(ser.iloc[0]) instead\n",
      "  mean_values['Close'] = round(float(stock_data['Close'].mean()), 2)\n",
      "/var/folders/cs/3lkp2pnd6j17xyfbtckgkhn40000gn/T/ipykernel_70060/1636383839.py:65: FutureWarning: Calling float on a single element Series is deprecated and will raise a TypeError in the future. Use float(ser.iloc[0]) instead\n",
      "  mean_values['High'] = round(float(stock_data['High'].mean()), 2)\n",
      "/var/folders/cs/3lkp2pnd6j17xyfbtckgkhn40000gn/T/ipykernel_70060/1636383839.py:66: FutureWarning: Calling float on a single element Series is deprecated and will raise a TypeError in the future. Use float(ser.iloc[0]) instead\n",
      "  mean_values['Low'] = round(float(stock_data['Low'].mean()), 2)\n",
      "/var/folders/cs/3lkp2pnd6j17xyfbtckgkhn40000gn/T/ipykernel_70060/1636383839.py:67: FutureWarning: Calling float on a single element Series is deprecated and will raise a TypeError in the future. Use float(ser.iloc[0]) instead\n",
      "  mean_values['Open'] = round(float(stock_data['Open'].mean()), 2)\n",
      "/var/folders/cs/3lkp2pnd6j17xyfbtckgkhn40000gn/T/ipykernel_70060/1636383839.py:68: FutureWarning: Calling int on a single element Series is deprecated and will raise a TypeError in the future. Use int(ser.iloc[0]) instead\n",
      "  mean_values['Volume'] = int(stock_data['Volume'].mean())\n"
     ]
    },
    {
     "name": "stdout",
     "output_type": "stream",
     "text": [
      "✅ Data for TOP.BK saved to Thai_ESG_Stock_Data/TOP.BK_2022_2024.csv\n",
      "Fetching data for TQM.BK...\n"
     ]
    },
    {
     "name": "stderr",
     "output_type": "stream",
     "text": [
      "[*********************100%***********************]  1 of 1 completed\n",
      "/var/folders/cs/3lkp2pnd6j17xyfbtckgkhn40000gn/T/ipykernel_70060/1636383839.py:64: FutureWarning: Calling float on a single element Series is deprecated and will raise a TypeError in the future. Use float(ser.iloc[0]) instead\n",
      "  mean_values['Close'] = round(float(stock_data['Close'].mean()), 2)\n",
      "/var/folders/cs/3lkp2pnd6j17xyfbtckgkhn40000gn/T/ipykernel_70060/1636383839.py:65: FutureWarning: Calling float on a single element Series is deprecated and will raise a TypeError in the future. Use float(ser.iloc[0]) instead\n",
      "  mean_values['High'] = round(float(stock_data['High'].mean()), 2)\n",
      "/var/folders/cs/3lkp2pnd6j17xyfbtckgkhn40000gn/T/ipykernel_70060/1636383839.py:66: FutureWarning: Calling float on a single element Series is deprecated and will raise a TypeError in the future. Use float(ser.iloc[0]) instead\n",
      "  mean_values['Low'] = round(float(stock_data['Low'].mean()), 2)\n",
      "/var/folders/cs/3lkp2pnd6j17xyfbtckgkhn40000gn/T/ipykernel_70060/1636383839.py:67: FutureWarning: Calling float on a single element Series is deprecated and will raise a TypeError in the future. Use float(ser.iloc[0]) instead\n",
      "  mean_values['Open'] = round(float(stock_data['Open'].mean()), 2)\n",
      "/var/folders/cs/3lkp2pnd6j17xyfbtckgkhn40000gn/T/ipykernel_70060/1636383839.py:68: FutureWarning: Calling int on a single element Series is deprecated and will raise a TypeError in the future. Use int(ser.iloc[0]) instead\n",
      "  mean_values['Volume'] = int(stock_data['Volume'].mean())\n"
     ]
    },
    {
     "name": "stdout",
     "output_type": "stream",
     "text": [
      "✅ Data for TQM.BK saved to Thai_ESG_Stock_Data/TQM.BK_2022_2024.csv\n",
      "Fetching data for TTA.BK...\n"
     ]
    },
    {
     "name": "stderr",
     "output_type": "stream",
     "text": [
      "[*********************100%***********************]  1 of 1 completed\n",
      "/var/folders/cs/3lkp2pnd6j17xyfbtckgkhn40000gn/T/ipykernel_70060/1636383839.py:64: FutureWarning: Calling float on a single element Series is deprecated and will raise a TypeError in the future. Use float(ser.iloc[0]) instead\n",
      "  mean_values['Close'] = round(float(stock_data['Close'].mean()), 2)\n",
      "/var/folders/cs/3lkp2pnd6j17xyfbtckgkhn40000gn/T/ipykernel_70060/1636383839.py:65: FutureWarning: Calling float on a single element Series is deprecated and will raise a TypeError in the future. Use float(ser.iloc[0]) instead\n",
      "  mean_values['High'] = round(float(stock_data['High'].mean()), 2)\n",
      "/var/folders/cs/3lkp2pnd6j17xyfbtckgkhn40000gn/T/ipykernel_70060/1636383839.py:66: FutureWarning: Calling float on a single element Series is deprecated and will raise a TypeError in the future. Use float(ser.iloc[0]) instead\n",
      "  mean_values['Low'] = round(float(stock_data['Low'].mean()), 2)\n",
      "/var/folders/cs/3lkp2pnd6j17xyfbtckgkhn40000gn/T/ipykernel_70060/1636383839.py:67: FutureWarning: Calling float on a single element Series is deprecated and will raise a TypeError in the future. Use float(ser.iloc[0]) instead\n",
      "  mean_values['Open'] = round(float(stock_data['Open'].mean()), 2)\n",
      "/var/folders/cs/3lkp2pnd6j17xyfbtckgkhn40000gn/T/ipykernel_70060/1636383839.py:68: FutureWarning: Calling int on a single element Series is deprecated and will raise a TypeError in the future. Use int(ser.iloc[0]) instead\n",
      "  mean_values['Volume'] = int(stock_data['Volume'].mean())\n"
     ]
    },
    {
     "name": "stdout",
     "output_type": "stream",
     "text": [
      "✅ Data for TTA.BK saved to Thai_ESG_Stock_Data/TTA.BK_2022_2024.csv\n",
      "Fetching data for TTB.BK...\n"
     ]
    },
    {
     "name": "stderr",
     "output_type": "stream",
     "text": [
      "[*********************100%***********************]  1 of 1 completed\n",
      "/var/folders/cs/3lkp2pnd6j17xyfbtckgkhn40000gn/T/ipykernel_70060/1636383839.py:64: FutureWarning: Calling float on a single element Series is deprecated and will raise a TypeError in the future. Use float(ser.iloc[0]) instead\n",
      "  mean_values['Close'] = round(float(stock_data['Close'].mean()), 2)\n",
      "/var/folders/cs/3lkp2pnd6j17xyfbtckgkhn40000gn/T/ipykernel_70060/1636383839.py:65: FutureWarning: Calling float on a single element Series is deprecated and will raise a TypeError in the future. Use float(ser.iloc[0]) instead\n",
      "  mean_values['High'] = round(float(stock_data['High'].mean()), 2)\n",
      "/var/folders/cs/3lkp2pnd6j17xyfbtckgkhn40000gn/T/ipykernel_70060/1636383839.py:66: FutureWarning: Calling float on a single element Series is deprecated and will raise a TypeError in the future. Use float(ser.iloc[0]) instead\n",
      "  mean_values['Low'] = round(float(stock_data['Low'].mean()), 2)\n",
      "/var/folders/cs/3lkp2pnd6j17xyfbtckgkhn40000gn/T/ipykernel_70060/1636383839.py:67: FutureWarning: Calling float on a single element Series is deprecated and will raise a TypeError in the future. Use float(ser.iloc[0]) instead\n",
      "  mean_values['Open'] = round(float(stock_data['Open'].mean()), 2)\n",
      "/var/folders/cs/3lkp2pnd6j17xyfbtckgkhn40000gn/T/ipykernel_70060/1636383839.py:68: FutureWarning: Calling int on a single element Series is deprecated and will raise a TypeError in the future. Use int(ser.iloc[0]) instead\n",
      "  mean_values['Volume'] = int(stock_data['Volume'].mean())\n"
     ]
    },
    {
     "name": "stdout",
     "output_type": "stream",
     "text": [
      "✅ Data for TTB.BK saved to Thai_ESG_Stock_Data/TTB.BK_2022_2024.csv\n",
      "Fetching data for TTW.BK...\n"
     ]
    },
    {
     "name": "stderr",
     "output_type": "stream",
     "text": [
      "[*********************100%***********************]  1 of 1 completed\n",
      "/var/folders/cs/3lkp2pnd6j17xyfbtckgkhn40000gn/T/ipykernel_70060/1636383839.py:64: FutureWarning: Calling float on a single element Series is deprecated and will raise a TypeError in the future. Use float(ser.iloc[0]) instead\n",
      "  mean_values['Close'] = round(float(stock_data['Close'].mean()), 2)\n",
      "/var/folders/cs/3lkp2pnd6j17xyfbtckgkhn40000gn/T/ipykernel_70060/1636383839.py:65: FutureWarning: Calling float on a single element Series is deprecated and will raise a TypeError in the future. Use float(ser.iloc[0]) instead\n",
      "  mean_values['High'] = round(float(stock_data['High'].mean()), 2)\n",
      "/var/folders/cs/3lkp2pnd6j17xyfbtckgkhn40000gn/T/ipykernel_70060/1636383839.py:66: FutureWarning: Calling float on a single element Series is deprecated and will raise a TypeError in the future. Use float(ser.iloc[0]) instead\n",
      "  mean_values['Low'] = round(float(stock_data['Low'].mean()), 2)\n",
      "/var/folders/cs/3lkp2pnd6j17xyfbtckgkhn40000gn/T/ipykernel_70060/1636383839.py:67: FutureWarning: Calling float on a single element Series is deprecated and will raise a TypeError in the future. Use float(ser.iloc[0]) instead\n",
      "  mean_values['Open'] = round(float(stock_data['Open'].mean()), 2)\n",
      "/var/folders/cs/3lkp2pnd6j17xyfbtckgkhn40000gn/T/ipykernel_70060/1636383839.py:68: FutureWarning: Calling int on a single element Series is deprecated and will raise a TypeError in the future. Use int(ser.iloc[0]) instead\n",
      "  mean_values['Volume'] = int(stock_data['Volume'].mean())\n"
     ]
    },
    {
     "name": "stdout",
     "output_type": "stream",
     "text": [
      "✅ Data for TTW.BK saved to Thai_ESG_Stock_Data/TTW.BK_2022_2024.csv\n",
      "Fetching data for TU.BK...\n"
     ]
    },
    {
     "name": "stderr",
     "output_type": "stream",
     "text": [
      "[*********************100%***********************]  1 of 1 completed\n",
      "/var/folders/cs/3lkp2pnd6j17xyfbtckgkhn40000gn/T/ipykernel_70060/1636383839.py:64: FutureWarning: Calling float on a single element Series is deprecated and will raise a TypeError in the future. Use float(ser.iloc[0]) instead\n",
      "  mean_values['Close'] = round(float(stock_data['Close'].mean()), 2)\n",
      "/var/folders/cs/3lkp2pnd6j17xyfbtckgkhn40000gn/T/ipykernel_70060/1636383839.py:65: FutureWarning: Calling float on a single element Series is deprecated and will raise a TypeError in the future. Use float(ser.iloc[0]) instead\n",
      "  mean_values['High'] = round(float(stock_data['High'].mean()), 2)\n",
      "/var/folders/cs/3lkp2pnd6j17xyfbtckgkhn40000gn/T/ipykernel_70060/1636383839.py:66: FutureWarning: Calling float on a single element Series is deprecated and will raise a TypeError in the future. Use float(ser.iloc[0]) instead\n",
      "  mean_values['Low'] = round(float(stock_data['Low'].mean()), 2)\n",
      "/var/folders/cs/3lkp2pnd6j17xyfbtckgkhn40000gn/T/ipykernel_70060/1636383839.py:67: FutureWarning: Calling float on a single element Series is deprecated and will raise a TypeError in the future. Use float(ser.iloc[0]) instead\n",
      "  mean_values['Open'] = round(float(stock_data['Open'].mean()), 2)\n",
      "/var/folders/cs/3lkp2pnd6j17xyfbtckgkhn40000gn/T/ipykernel_70060/1636383839.py:68: FutureWarning: Calling int on a single element Series is deprecated and will raise a TypeError in the future. Use int(ser.iloc[0]) instead\n",
      "  mean_values['Volume'] = int(stock_data['Volume'].mean())\n"
     ]
    },
    {
     "name": "stdout",
     "output_type": "stream",
     "text": [
      "✅ Data for TU.BK saved to Thai_ESG_Stock_Data/TU.BK_2022_2024.csv\n",
      "Fetching data for TVO.BK...\n"
     ]
    },
    {
     "name": "stderr",
     "output_type": "stream",
     "text": [
      "[*********************100%***********************]  1 of 1 completed\n",
      "/var/folders/cs/3lkp2pnd6j17xyfbtckgkhn40000gn/T/ipykernel_70060/1636383839.py:64: FutureWarning: Calling float on a single element Series is deprecated and will raise a TypeError in the future. Use float(ser.iloc[0]) instead\n",
      "  mean_values['Close'] = round(float(stock_data['Close'].mean()), 2)\n",
      "/var/folders/cs/3lkp2pnd6j17xyfbtckgkhn40000gn/T/ipykernel_70060/1636383839.py:65: FutureWarning: Calling float on a single element Series is deprecated and will raise a TypeError in the future. Use float(ser.iloc[0]) instead\n",
      "  mean_values['High'] = round(float(stock_data['High'].mean()), 2)\n",
      "/var/folders/cs/3lkp2pnd6j17xyfbtckgkhn40000gn/T/ipykernel_70060/1636383839.py:66: FutureWarning: Calling float on a single element Series is deprecated and will raise a TypeError in the future. Use float(ser.iloc[0]) instead\n",
      "  mean_values['Low'] = round(float(stock_data['Low'].mean()), 2)\n",
      "/var/folders/cs/3lkp2pnd6j17xyfbtckgkhn40000gn/T/ipykernel_70060/1636383839.py:67: FutureWarning: Calling float on a single element Series is deprecated and will raise a TypeError in the future. Use float(ser.iloc[0]) instead\n",
      "  mean_values['Open'] = round(float(stock_data['Open'].mean()), 2)\n",
      "/var/folders/cs/3lkp2pnd6j17xyfbtckgkhn40000gn/T/ipykernel_70060/1636383839.py:68: FutureWarning: Calling int on a single element Series is deprecated and will raise a TypeError in the future. Use int(ser.iloc[0]) instead\n",
      "  mean_values['Volume'] = int(stock_data['Volume'].mean())\n"
     ]
    },
    {
     "name": "stdout",
     "output_type": "stream",
     "text": [
      "✅ Data for TVO.BK saved to Thai_ESG_Stock_Data/TVO.BK_2022_2024.csv\n",
      "Fetching data for VGI.BK...\n"
     ]
    },
    {
     "name": "stderr",
     "output_type": "stream",
     "text": [
      "[*********************100%***********************]  1 of 1 completed\n",
      "/var/folders/cs/3lkp2pnd6j17xyfbtckgkhn40000gn/T/ipykernel_70060/1636383839.py:64: FutureWarning: Calling float on a single element Series is deprecated and will raise a TypeError in the future. Use float(ser.iloc[0]) instead\n",
      "  mean_values['Close'] = round(float(stock_data['Close'].mean()), 2)\n",
      "/var/folders/cs/3lkp2pnd6j17xyfbtckgkhn40000gn/T/ipykernel_70060/1636383839.py:65: FutureWarning: Calling float on a single element Series is deprecated and will raise a TypeError in the future. Use float(ser.iloc[0]) instead\n",
      "  mean_values['High'] = round(float(stock_data['High'].mean()), 2)\n",
      "/var/folders/cs/3lkp2pnd6j17xyfbtckgkhn40000gn/T/ipykernel_70060/1636383839.py:66: FutureWarning: Calling float on a single element Series is deprecated and will raise a TypeError in the future. Use float(ser.iloc[0]) instead\n",
      "  mean_values['Low'] = round(float(stock_data['Low'].mean()), 2)\n",
      "/var/folders/cs/3lkp2pnd6j17xyfbtckgkhn40000gn/T/ipykernel_70060/1636383839.py:67: FutureWarning: Calling float on a single element Series is deprecated and will raise a TypeError in the future. Use float(ser.iloc[0]) instead\n",
      "  mean_values['Open'] = round(float(stock_data['Open'].mean()), 2)\n",
      "/var/folders/cs/3lkp2pnd6j17xyfbtckgkhn40000gn/T/ipykernel_70060/1636383839.py:68: FutureWarning: Calling int on a single element Series is deprecated and will raise a TypeError in the future. Use int(ser.iloc[0]) instead\n",
      "  mean_values['Volume'] = int(stock_data['Volume'].mean())\n"
     ]
    },
    {
     "name": "stdout",
     "output_type": "stream",
     "text": [
      "✅ Data for VGI.BK saved to Thai_ESG_Stock_Data/VGI.BK_2022_2024.csv\n",
      "Fetching data for VIH.BK...\n"
     ]
    },
    {
     "name": "stderr",
     "output_type": "stream",
     "text": [
      "[*********************100%***********************]  1 of 1 completed\n",
      "/var/folders/cs/3lkp2pnd6j17xyfbtckgkhn40000gn/T/ipykernel_70060/1636383839.py:64: FutureWarning: Calling float on a single element Series is deprecated and will raise a TypeError in the future. Use float(ser.iloc[0]) instead\n",
      "  mean_values['Close'] = round(float(stock_data['Close'].mean()), 2)\n",
      "/var/folders/cs/3lkp2pnd6j17xyfbtckgkhn40000gn/T/ipykernel_70060/1636383839.py:65: FutureWarning: Calling float on a single element Series is deprecated and will raise a TypeError in the future. Use float(ser.iloc[0]) instead\n",
      "  mean_values['High'] = round(float(stock_data['High'].mean()), 2)\n",
      "/var/folders/cs/3lkp2pnd6j17xyfbtckgkhn40000gn/T/ipykernel_70060/1636383839.py:66: FutureWarning: Calling float on a single element Series is deprecated and will raise a TypeError in the future. Use float(ser.iloc[0]) instead\n",
      "  mean_values['Low'] = round(float(stock_data['Low'].mean()), 2)\n",
      "/var/folders/cs/3lkp2pnd6j17xyfbtckgkhn40000gn/T/ipykernel_70060/1636383839.py:67: FutureWarning: Calling float on a single element Series is deprecated and will raise a TypeError in the future. Use float(ser.iloc[0]) instead\n",
      "  mean_values['Open'] = round(float(stock_data['Open'].mean()), 2)\n",
      "/var/folders/cs/3lkp2pnd6j17xyfbtckgkhn40000gn/T/ipykernel_70060/1636383839.py:68: FutureWarning: Calling int on a single element Series is deprecated and will raise a TypeError in the future. Use int(ser.iloc[0]) instead\n",
      "  mean_values['Volume'] = int(stock_data['Volume'].mean())\n"
     ]
    },
    {
     "name": "stdout",
     "output_type": "stream",
     "text": [
      "✅ Data for VIH.BK saved to Thai_ESG_Stock_Data/VIH.BK_2022_2024.csv\n",
      "Fetching data for WHA.BK...\n"
     ]
    },
    {
     "name": "stderr",
     "output_type": "stream",
     "text": [
      "[*********************100%***********************]  1 of 1 completed\n",
      "/var/folders/cs/3lkp2pnd6j17xyfbtckgkhn40000gn/T/ipykernel_70060/1636383839.py:64: FutureWarning: Calling float on a single element Series is deprecated and will raise a TypeError in the future. Use float(ser.iloc[0]) instead\n",
      "  mean_values['Close'] = round(float(stock_data['Close'].mean()), 2)\n",
      "/var/folders/cs/3lkp2pnd6j17xyfbtckgkhn40000gn/T/ipykernel_70060/1636383839.py:65: FutureWarning: Calling float on a single element Series is deprecated and will raise a TypeError in the future. Use float(ser.iloc[0]) instead\n",
      "  mean_values['High'] = round(float(stock_data['High'].mean()), 2)\n",
      "/var/folders/cs/3lkp2pnd6j17xyfbtckgkhn40000gn/T/ipykernel_70060/1636383839.py:66: FutureWarning: Calling float on a single element Series is deprecated and will raise a TypeError in the future. Use float(ser.iloc[0]) instead\n",
      "  mean_values['Low'] = round(float(stock_data['Low'].mean()), 2)\n",
      "/var/folders/cs/3lkp2pnd6j17xyfbtckgkhn40000gn/T/ipykernel_70060/1636383839.py:67: FutureWarning: Calling float on a single element Series is deprecated and will raise a TypeError in the future. Use float(ser.iloc[0]) instead\n",
      "  mean_values['Open'] = round(float(stock_data['Open'].mean()), 2)\n",
      "/var/folders/cs/3lkp2pnd6j17xyfbtckgkhn40000gn/T/ipykernel_70060/1636383839.py:68: FutureWarning: Calling int on a single element Series is deprecated and will raise a TypeError in the future. Use int(ser.iloc[0]) instead\n",
      "  mean_values['Volume'] = int(stock_data['Volume'].mean())\n"
     ]
    },
    {
     "name": "stdout",
     "output_type": "stream",
     "text": [
      "✅ Data for WHA.BK saved to Thai_ESG_Stock_Data/WHA.BK_2022_2024.csv\n",
      "Fetching data for WHAUP.BK...\n"
     ]
    },
    {
     "name": "stderr",
     "output_type": "stream",
     "text": [
      "[*********************100%***********************]  1 of 1 completed"
     ]
    },
    {
     "name": "stdout",
     "output_type": "stream",
     "text": [
      "✅ Data for WHAUP.BK saved to Thai_ESG_Stock_Data/WHAUP.BK_2022_2024.csv\n",
      "\n",
      "📊 Summary statistics saved to Thai_ESG_Stock_Data/Thai_ESG_Stock_Summary.csv\n",
      "\n",
      "✅ All stocks had data available!\n",
      "✅ Data collection completed!\n"
     ]
    },
    {
     "name": "stderr",
     "output_type": "stream",
     "text": [
      "\n",
      "/var/folders/cs/3lkp2pnd6j17xyfbtckgkhn40000gn/T/ipykernel_70060/1636383839.py:64: FutureWarning: Calling float on a single element Series is deprecated and will raise a TypeError in the future. Use float(ser.iloc[0]) instead\n",
      "  mean_values['Close'] = round(float(stock_data['Close'].mean()), 2)\n",
      "/var/folders/cs/3lkp2pnd6j17xyfbtckgkhn40000gn/T/ipykernel_70060/1636383839.py:65: FutureWarning: Calling float on a single element Series is deprecated and will raise a TypeError in the future. Use float(ser.iloc[0]) instead\n",
      "  mean_values['High'] = round(float(stock_data['High'].mean()), 2)\n",
      "/var/folders/cs/3lkp2pnd6j17xyfbtckgkhn40000gn/T/ipykernel_70060/1636383839.py:66: FutureWarning: Calling float on a single element Series is deprecated and will raise a TypeError in the future. Use float(ser.iloc[0]) instead\n",
      "  mean_values['Low'] = round(float(stock_data['Low'].mean()), 2)\n",
      "/var/folders/cs/3lkp2pnd6j17xyfbtckgkhn40000gn/T/ipykernel_70060/1636383839.py:67: FutureWarning: Calling float on a single element Series is deprecated and will raise a TypeError in the future. Use float(ser.iloc[0]) instead\n",
      "  mean_values['Open'] = round(float(stock_data['Open'].mean()), 2)\n",
      "/var/folders/cs/3lkp2pnd6j17xyfbtckgkhn40000gn/T/ipykernel_70060/1636383839.py:68: FutureWarning: Calling int on a single element Series is deprecated and will raise a TypeError in the future. Use int(ser.iloc[0]) instead\n",
      "  mean_values['Volume'] = int(stock_data['Volume'].mean())\n"
     ]
    },
    {
     "data": {
      "text/html": [
       "<div>\n",
       "<style scoped>\n",
       "    .dataframe tbody tr th:only-of-type {\n",
       "        vertical-align: middle;\n",
       "    }\n",
       "\n",
       "    .dataframe tbody tr th {\n",
       "        vertical-align: top;\n",
       "    }\n",
       "\n",
       "    .dataframe thead th {\n",
       "        text-align: right;\n",
       "    }\n",
       "</style>\n",
       "<table border=\"1\" class=\"dataframe\">\n",
       "  <thead>\n",
       "    <tr style=\"text-align: right;\">\n",
       "      <th></th>\n",
       "      <th>Stock</th>\n",
       "      <th>Num_Rows</th>\n",
       "      <th>Close</th>\n",
       "      <th>High</th>\n",
       "      <th>Low</th>\n",
       "      <th>Open</th>\n",
       "      <th>Volume</th>\n",
       "    </tr>\n",
       "  </thead>\n",
       "  <tbody>\n",
       "    <tr>\n",
       "      <th>0</th>\n",
       "      <td>ACE.BK</td>\n",
       "      <td>725</td>\n",
       "      <td>2.07</td>\n",
       "      <td>2.09</td>\n",
       "      <td>2.05</td>\n",
       "      <td>2.07</td>\n",
       "      <td>12531485</td>\n",
       "    </tr>\n",
       "    <tr>\n",
       "      <th>1</th>\n",
       "      <td>ADVANC.BK</td>\n",
       "      <td>725</td>\n",
       "      <td>207.70</td>\n",
       "      <td>209.27</td>\n",
       "      <td>206.04</td>\n",
       "      <td>207.68</td>\n",
       "      <td>5021037</td>\n",
       "    </tr>\n",
       "    <tr>\n",
       "      <th>2</th>\n",
       "      <td>AH.BK</td>\n",
       "      <td>725</td>\n",
       "      <td>24.32</td>\n",
       "      <td>24.72</td>\n",
       "      <td>23.96</td>\n",
       "      <td>24.36</td>\n",
       "      <td>1798702</td>\n",
       "    </tr>\n",
       "    <tr>\n",
       "      <th>3</th>\n",
       "      <td>AMATA.BK</td>\n",
       "      <td>725</td>\n",
       "      <td>21.61</td>\n",
       "      <td>21.87</td>\n",
       "      <td>21.37</td>\n",
       "      <td>21.62</td>\n",
       "      <td>6624567</td>\n",
       "    </tr>\n",
       "    <tr>\n",
       "      <th>4</th>\n",
       "      <td>AOT.BK</td>\n",
       "      <td>725</td>\n",
       "      <td>66.06</td>\n",
       "      <td>66.51</td>\n",
       "      <td>65.61</td>\n",
       "      <td>66.08</td>\n",
       "      <td>20221909</td>\n",
       "    </tr>\n",
       "    <tr>\n",
       "      <th>...</th>\n",
       "      <td>...</td>\n",
       "      <td>...</td>\n",
       "      <td>...</td>\n",
       "      <td>...</td>\n",
       "      <td>...</td>\n",
       "      <td>...</td>\n",
       "      <td>...</td>\n",
       "    </tr>\n",
       "    <tr>\n",
       "      <th>117</th>\n",
       "      <td>TVO.BK</td>\n",
       "      <td>725</td>\n",
       "      <td>23.27</td>\n",
       "      <td>23.45</td>\n",
       "      <td>23.10</td>\n",
       "      <td>23.28</td>\n",
       "      <td>858681</td>\n",
       "    </tr>\n",
       "    <tr>\n",
       "      <th>118</th>\n",
       "      <td>VGI.BK</td>\n",
       "      <td>725</td>\n",
       "      <td>3.26</td>\n",
       "      <td>3.32</td>\n",
       "      <td>3.20</td>\n",
       "      <td>3.26</td>\n",
       "      <td>52256061</td>\n",
       "    </tr>\n",
       "    <tr>\n",
       "      <th>119</th>\n",
       "      <td>VIH.BK</td>\n",
       "      <td>725</td>\n",
       "      <td>8.55</td>\n",
       "      <td>8.64</td>\n",
       "      <td>8.45</td>\n",
       "      <td>8.56</td>\n",
       "      <td>646849</td>\n",
       "    </tr>\n",
       "    <tr>\n",
       "      <th>120</th>\n",
       "      <td>WHA.BK</td>\n",
       "      <td>725</td>\n",
       "      <td>4.21</td>\n",
       "      <td>4.26</td>\n",
       "      <td>4.16</td>\n",
       "      <td>4.21</td>\n",
       "      <td>66189068</td>\n",
       "    </tr>\n",
       "    <tr>\n",
       "      <th>121</th>\n",
       "      <td>WHAUP.BK</td>\n",
       "      <td>725</td>\n",
       "      <td>3.75</td>\n",
       "      <td>3.79</td>\n",
       "      <td>3.72</td>\n",
       "      <td>3.75</td>\n",
       "      <td>3547612</td>\n",
       "    </tr>\n",
       "  </tbody>\n",
       "</table>\n",
       "<p>122 rows × 7 columns</p>\n",
       "</div>"
      ],
      "text/plain": [
       "         Stock  Num_Rows   Close    High     Low    Open    Volume\n",
       "0       ACE.BK       725    2.07    2.09    2.05    2.07  12531485\n",
       "1    ADVANC.BK       725  207.70  209.27  206.04  207.68   5021037\n",
       "2        AH.BK       725   24.32   24.72   23.96   24.36   1798702\n",
       "3     AMATA.BK       725   21.61   21.87   21.37   21.62   6624567\n",
       "4       AOT.BK       725   66.06   66.51   65.61   66.08  20221909\n",
       "..         ...       ...     ...     ...     ...     ...       ...\n",
       "117     TVO.BK       725   23.27   23.45   23.10   23.28    858681\n",
       "118     VGI.BK       725    3.26    3.32    3.20    3.26  52256061\n",
       "119     VIH.BK       725    8.55    8.64    8.45    8.56    646849\n",
       "120     WHA.BK       725    4.21    4.26    4.16    4.21  66189068\n",
       "121   WHAUP.BK       725    3.75    3.79    3.72    3.75   3547612\n",
       "\n",
       "[122 rows x 7 columns]"
      ]
     },
     "metadata": {},
     "output_type": "display_data"
    }
   ],
   "source": [
    "# List of Thai ESG stocks with '.BK' suffix for Yahoo Finance\n",
    "stock_symbols = [\n",
    "    'ACE', 'ADVANC', 'AH', 'AMATA', 'AOT', 'AP', 'ASK', 'AWC', 'BA', 'BAM',\n",
    "    'BANPU', 'BBGI', 'BBL', 'BCH', 'BCPG', 'BDMS', 'BEM', 'BGRIM', 'BJC', 'BLA',\n",
    "    'BTG', 'BTS', 'CBG', 'CENTEL', 'CK', 'CKP', 'COM7', 'CPALL', 'CPF', 'CPN',\n",
    "    'CRC', 'DELTA', 'DITTO', 'DMT', 'EGCO', 'EPG', 'GLOBAL', 'GPSC', 'GULF',\n",
    "    'GUNKUL', 'HANA', 'HENG', 'HMPRO', 'HTC', 'ICHI', 'III', 'ILM', 'INTUCH',\n",
    "    'IVL', 'JMART', 'JMT', 'JTS', 'KBANK', 'KCE', 'KCG', 'KKP', 'KTB', 'KTC',\n",
    "    'LH', 'MAJOR', 'MBK', 'MC', 'MEGA', 'MINT', 'MOSHI', 'MTC', 'NER', 'OR',\n",
    "    'ORI', 'OSP', 'PLANB', 'PR9', 'PSH', 'PSL', 'PTT', 'PTTEP', 'PTTGC',\n",
    "    'RATCH', 'RBF', 'RS', 'S', 'SABINA', 'SAK', 'SAPPE', 'SAT', 'SAWAD', 'SC',\n",
    "    'SCB', 'SCC', 'SCCC', 'SCGD', 'SCGP', 'SGC', 'SHR', 'SIRI', 'SJWD', 'SMPC',\n",
    "    'SNNP', 'SPALI', 'SSP', 'STA', 'STECON', 'STGT', 'SYNEX', 'TASCO', 'TCAP',\n",
    "    'THANI', 'THCOM', 'TISCO', 'TLI', 'TOA', 'TOP', 'TQM', 'TTA', 'TTB', 'TTW',\n",
    "    'TU', 'TVO', 'VGI', 'VIH', 'WHA', 'WHAUP'\n",
    "]\n",
    "\n",
    "# Append '.BK' for Yahoo Finance compatibility\n",
    "stock_symbols = [symbol + '.BK' for symbol in stock_symbols]\n",
    "\n",
    "# Define date range\n",
    "start_date = \"2022-01-01\"\n",
    "end_date = \"2024-12-31\"\n",
    "\n",
    "# Create a directory to save individual stock data\n",
    "output_dir = \"Thai_ESG_Stock_Data\"\n",
    "os.makedirs(output_dir, exist_ok=True)\n",
    "\n",
    "# Master file for combined stock data\n",
    "summary_filename = os.path.join(output_dir, \"Thai_ESG_Stock_Summary.csv\")\n",
    "\n",
    "# List to store stocks with no data\n",
    "no_data_stocks = []\n",
    "\n",
    "# DataFrame to store combined data\n",
    "combined_data = pd.DataFrame()\n",
    "\n",
    "# List to store summary statistics\n",
    "summary_list = []\n",
    "\n",
    "# Loop through each stock symbol and fetch data\n",
    "for symbol in stock_symbols:\n",
    "    try:\n",
    "        print(f\"Fetching data for {symbol}...\")\n",
    "        stock_data = yf.download(symbol, start=start_date, end=end_date)\n",
    "\n",
    "        if not stock_data.empty:\n",
    "            # Drop second and third row\n",
    "            stock_data = stock_data.drop(stock_data.index[[1, 2]])\n",
    "\n",
    "            # Change first column name to 'Date'\n",
    "            stock_data.index.name = 'Date'\n",
    "\n",
    "            # Save individual stock data to CSV\n",
    "            filename = os.path.join(output_dir, f\"{symbol}_2022_2024.csv\")\n",
    "            stock_data.to_csv(filename)\n",
    "            print(f\"✅ Data for {symbol} saved to {filename}\")\n",
    "\n",
    "            # Compute summary statistics\n",
    "            mean_values = dict()\n",
    "            mean_values[\"Stock\"] = symbol\n",
    "            num_rows = len(stock_data)\n",
    "            mean_values[\"Num_Rows\"] = num_rows\n",
    "            mean_values['Close'] = round(float(stock_data['Close'].mean()), 2)\n",
    "            mean_values['High'] = round(float(stock_data['High'].mean()), 2)\n",
    "            mean_values['Low'] = round(float(stock_data['Low'].mean()), 2)\n",
    "            mean_values['Open'] = round(float(stock_data['Open'].mean()), 2)\n",
    "            mean_values['Volume'] = int(stock_data['Volume'].mean())\n",
    "\n",
    "            # Append summary to list\n",
    "            summary_list.append(mean_values)\n",
    "\n",
    "        else:\n",
    "            print(f\"⚠️ No data found for {symbol}\")\n",
    "            no_data_stocks.append(symbol)\n",
    "\n",
    "    except Exception as e:\n",
    "        print(f\"❌ Error fetching data for {symbol}: {e}\")\n",
    "        no_data_stocks.append(symbol)\n",
    "\n",
    "\n",
    "# Convert summary statistics to DataFrame and save\n",
    "if summary_list:\n",
    "    summary_df = pd.DataFrame(summary_list)\n",
    "    summary_df.to_csv(summary_filename, index=False)\n",
    "    print(f\"\\n📊 Summary statistics saved to {summary_filename}\")\n",
    "\n",
    "# Print list of stocks with no data at the end\n",
    "if no_data_stocks:\n",
    "    print(\"\\n⚠️ The following stocks had no data available:\")\n",
    "    print(no_data_stocks)\n",
    "else:\n",
    "    print(\"\\n✅ All stocks had data available!\")\n",
    "\n",
    "print(\"✅ Data collection completed!\")\n",
    "display(summary_df)"
   ]
  }
 ],
 "metadata": {
  "kernelspec": {
   "display_name": ".venv",
   "language": "python",
   "name": "python3"
  },
  "language_info": {
   "codemirror_mode": {
    "name": "ipython",
    "version": 3
   },
   "file_extension": ".py",
   "mimetype": "text/x-python",
   "name": "python",
   "nbconvert_exporter": "python",
   "pygments_lexer": "ipython3",
   "version": "3.13.1"
  }
 },
 "nbformat": 4,
 "nbformat_minor": 2
}
